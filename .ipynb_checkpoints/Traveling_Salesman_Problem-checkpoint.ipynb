{
 "cells": [
  {
   "cell_type": "markdown",
   "metadata": {
    "id": "AeNkytBxOxQX"
   },
   "source": [
    "# Travelling Salesperson Problem solved using genetic algorithms"
   ]
  },
  {
   "cell_type": "code",
   "execution_count": null,
   "metadata": {
    "executionInfo": {
     "elapsed": 409,
     "status": "ok",
     "timestamp": 1673520743809,
     "user": {
      "displayName": "Mohammed EL-Boukri",
      "userId": "09133861228848981695"
     },
     "user_tz": -60
    },
    "id": "bcB2mhC_OxQm"
   },
   "outputs": [],
   "source": [
    "# Imports \n",
    "import numpy as np\n",
    "import random\n",
    "import pandas as pd\n",
    "from geopy import distance,geocoders,Nominatim # to calculate distance on the surface\n",
    "import folium\n",
    "from datetime import datetime"
   ]
  },
  {
   "cell_type": "code",
   "execution_count": null,
   "metadata": {
    "id": "RlIwCRIlOxQu"
   },
   "outputs": [],
   "source": [
    "# Parameters\n",
    "n_cities = 10\n",
    "\n",
    "n_population = 50\n",
    "\n",
    "mutation_rate = 0.3\n",
    "\n",
    "df = pd.read_csv('output.csv')"
   ]
  },
  {
   "cell_type": "code",
   "execution_count": null,
   "metadata": {
    "colab": {
     "base_uri": "https://localhost:8080/"
    },
    "executionInfo": {
     "elapsed": 9,
     "status": "ok",
     "timestamp": 1673519873823,
     "user": {
      "displayName": "Mohammed EL-Boukri",
      "userId": "09133861228848981695"
     },
     "user_tz": -60
    },
    "id": "B9RITKvqOxQw",
    "outputId": "a8856c80-8e17-48c5-de48-0119f1ae32bb"
   },
   "outputs": [
    {
     "data": {
      "text/plain": [
       "{'53 Avenue des Champs-Elysees': [48.870137, 2.305385],\n",
       " '65 Boulevard Malesherbes': [48.876488, 2.31764],\n",
       " '4 Rue Boissieu': [48.884347, 2.349094],\n",
       " '96 Rue Daguerre': [48.836048, 2.32414],\n",
       " '11 Rue Notre-Dame de Lorette': [48.877498, 2.338302],\n",
       " '32 Rue des Saints-Peres': [48.855208, 2.330718],\n",
       " '10 Rue de la Butte aux Cailles': [48.827964, 2.351655],\n",
       " '183 Avenue Daumesnil': [48.840378, 2.392925],\n",
       " '56 Passage des Panoramas': [48.871466, 2.341826],\n",
       " '107 Rue de Patay': [48.827357, 2.371647],\n",
       " '24 Rue de la Pais': [48.827357, 2.371647],\n",
       " '1 Avenue des Champs-Élysées': [48.827357, 2.371647],\n",
       " '2 Place Vendôme': [48.827357, 2.371647],\n",
       " '14 Rue de la Boétie': [48.827357, 2.371647],\n",
       " '5 Avenue Montaigne': [48.827357, 2.371647],\n",
       " '9 Rue de la Bastille': [48.827357, 2.371647],\n",
       " '56 Boulevard Haussmann': [48.827357, 2.371647]}"
      ]
     },
     "execution_count": 3,
     "metadata": {},
     "output_type": "execute_result"
    }
   ],
   "source": [
    "# Generating a list of coordenades representing each city\n",
    "coordinates_list = [[x,y] for x,y in zip(list(df['Latitude']),list(df['Longitude']))]\n",
    "names_list = np.array(df['Street'])\n",
    "cities_dict = { x:y for x,y in zip(names_list,coordinates_list)}\n",
    "\n",
    "# Function to compute the distance between two points\n",
    "def compute_city_distance_coordinates(a,b):\n",
    "    return distance.distance((a[0], a[1]), (b[0],b[1])).km\n",
    "\n",
    "def compute_city_distance_names(city_a, city_b, cities_dict):\n",
    "    return compute_city_distance_coordinates(cities_dict[city_a], cities_dict[city_b])\n",
    "\n",
    "cities_dict"
   ]
  },
  {
   "cell_type": "markdown",
   "metadata": {
    "id": "Kup6XCy6OxQ1"
   },
   "source": [
    "## 1. Create the first population set\n",
    "We randomly shuffle the cities N times where N=population_size"
   ]
  },
  {
   "cell_type": "code",
   "execution_count": null,
   "metadata": {
    "id": "Gfh5ENNzOxQ3"
   },
   "outputs": [],
   "source": [
    "# First step: Create the first population set\n",
    "def genesis(city_list, n_population):\n",
    "\n",
    "    population_set = []\n",
    "    for i in range(n_population):\n",
    "        #Randomly generating a new solution\n",
    "        sol_i = city_list[np.random.choice(list(range(n_cities)), n_cities, replace=False)]\n",
    "        population_set.append(sol_i)\n",
    "    return np.array(population_set)\n",
    "\n",
    "population_set = genesis(names_list, n_population)\n",
    "# population_set"
   ]
  },
  {
   "cell_type": "markdown",
   "metadata": {
    "id": "2kgBecMHOxQ6"
   },
   "source": [
    "## 2. Evaluate solutions fitness\n",
    "The solutions are defined so that the first element on the list is the first city to visit, then the second, etc. and the last city is linked to the first.\n",
    "The fitness function needs to compute the distance between subsequent cities."
   ]
  },
  {
   "cell_type": "code",
   "execution_count": null,
   "metadata": {
    "id": "LfFgr8LWOxQ-"
   },
   "outputs": [],
   "source": [
    "def fitness_eval(city_list, cities_dict):\n",
    "    total = 0\n",
    "    for i in range(n_cities-1):\n",
    "        a = city_list[i]\n",
    "        b = city_list[i+1]\n",
    "        total += compute_city_distance_names(a,b, cities_dict)\n",
    "    return total"
   ]
  },
  {
   "cell_type": "code",
   "execution_count": null,
   "metadata": {
    "colab": {
     "base_uri": "https://localhost:8080/"
    },
    "executionInfo": {
     "elapsed": 10,
     "status": "ok",
     "timestamp": 1673519874299,
     "user": {
      "displayName": "Mohammed EL-Boukri",
      "userId": "09133861228848981695"
     },
     "user_tz": -60
    },
    "id": "yNl6ZIF8OxRA",
    "outputId": "c9bdafeb-e483-4814-c620-619b9347dafb"
   },
   "outputs": [
    {
     "data": {
      "text/plain": [
       "array([60.01062156, 63.87068884, 50.41215434, 67.07577688, 62.19060758,\n",
       "       37.1688354 , 58.78255848, 49.41409228, 75.5727666 , 69.47631786,\n",
       "       50.75834021, 62.70273656, 61.45236075, 61.37615537, 47.86673525,\n",
       "       73.96203101, 66.09947462, 70.44882812, 45.37651575, 38.69567301,\n",
       "       47.8333307 , 56.27879676, 50.7739705 , 48.73072006, 70.8429865 ,\n",
       "       58.99215667, 41.77392105, 61.28089276, 54.39921237, 46.43889911,\n",
       "       71.66114198, 42.43282882, 48.33153   , 65.46855464, 59.32668504,\n",
       "       59.28881017, 60.86692246, 64.13203954, 70.44184331, 54.55139451,\n",
       "       47.15748695, 55.75959337, 69.04997667, 58.60065701, 50.08520398,\n",
       "       67.71287954, 71.63796964, 60.0430032 , 58.94005271, 54.43682335])"
      ]
     },
     "execution_count": 6,
     "metadata": {},
     "output_type": "execute_result"
    }
   ],
   "source": [
    "def get_all_fitnes(population_set, cities_dict):\n",
    "    fitnes_list = np.zeros(n_population)\n",
    "\n",
    "    #Looping over all solutions computing the fitness for each solution\n",
    "    for i in  range(n_population):\n",
    "        fitnes_list[i] = fitness_eval(population_set[i], cities_dict)\n",
    "\n",
    "    return fitnes_list\n",
    "\n",
    "fitnes_list = get_all_fitnes(population_set,cities_dict)\n",
    "fitnes_list"
   ]
  },
  {
   "cell_type": "markdown",
   "metadata": {
    "id": "kxXKdA7nOxRC"
   },
   "source": [
    "# 3. Progenitors selection\n",
    "I will select a new set of progenitors using the Roulette Wheel Selection. Generates a list of progenitor pairs where N= len(population_set) but at each position there are two solutions to merge"
   ]
  },
  {
   "cell_type": "code",
   "execution_count": null,
   "metadata": {
    "colab": {
     "base_uri": "https://localhost:8080/"
    },
    "executionInfo": {
     "elapsed": 9,
     "status": "ok",
     "timestamp": 1673519874299,
     "user": {
      "displayName": "Mohammed EL-Boukri",
      "userId": "09133861228848981695"
     },
     "user_tz": -60
    },
    "id": "MIJbZrCbOxRD",
    "outputId": "2d9abcd7-e4a6-43ff-fc42-e560650dec52"
   },
   "outputs": [
    {
     "data": {
      "text/plain": [
       "array(['65 Boulevard Malesherbes', '56 Boulevard Haussmann',\n",
       "       '56 Passage des Panoramas', '2 Place Vendôme', '96 Rue Daguerre',\n",
       "       '5 Avenue Montaigne', '24 Rue de la Pais',\n",
       "       '1 Avenue des Champs-Élysées', '9 Rue de la Bastille',\n",
       "       '32 Rue des Saints-Peres', '183 Avenue Daumesnil',\n",
       "       '107 Rue de Patay', '11 Rue Notre-Dame de Lorette',\n",
       "       '14 Rue de la Boétie', '53 Avenue des Champs-Elysees',\n",
       "       '10 Rue de la Butte aux Cailles', '4 Rue Boissieu'], dtype=object)"
      ]
     },
     "execution_count": 7,
     "metadata": {},
     "output_type": "execute_result"
    }
   ],
   "source": [
    "def progenitor_selection(population_set,fitnes_list):\n",
    "    total_fit = fitnes_list.sum()\n",
    "    prob_list = fitnes_list/total_fit\n",
    "    \n",
    "    #Notice there is the chance that a progenitor. mates with oneself\n",
    "    progenitor_list_a = np.random.choice(list(range(len(population_set))), len(population_set),p=prob_list, replace=True)\n",
    "    progenitor_list_b = np.random.choice(list(range(len(population_set))), len(population_set),p=prob_list, replace=True)\n",
    "    \n",
    "    progenitor_list_a = population_set[progenitor_list_a]\n",
    "    progenitor_list_b = population_set[progenitor_list_b]\n",
    "    \n",
    "    \n",
    "    return np.array([progenitor_list_a,progenitor_list_b])\n",
    "\n",
    "\n",
    "progenitor_list = progenitor_selection(population_set,fitnes_list)\n",
    "progenitor_list[0][2]"
   ]
  },
  {
   "cell_type": "markdown",
   "metadata": {
    "id": "actj67WUOxRE"
   },
   "source": [
    "# 4. Mating\n",
    "For each pair of  parents we'll generate an offspring pair. Since we cannot repeat cities what we'll do is copy a random chunk from one progenitor and fill the blanks with the other progenitor."
   ]
  },
  {
   "cell_type": "code",
   "execution_count": null,
   "metadata": {
    "colab": {
     "base_uri": "https://localhost:8080/"
    },
    "executionInfo": {
     "elapsed": 1265,
     "status": "ok",
     "timestamp": 1673519893506,
     "user": {
      "displayName": "Mohammed EL-Boukri",
      "userId": "09133861228848981695"
     },
     "user_tz": -60
    },
    "id": "yv50iZSMOxRF",
    "outputId": "fbd5ba83-9fbc-4a4c-c628-44bd2b33fc7d"
   },
   "outputs": [
    {
     "data": {
      "text/plain": [
       "array(['96 Rue Daguerre', '65 Boulevard Malesherbes',\n",
       "       '56 Boulevard Haussmann', '32 Rue des Saints-Peres',\n",
       "       '1 Avenue des Champs-Élysées', '56 Passage des Panoramas',\n",
       "       '2 Place Vendôme', '5 Avenue Montaigne', '24 Rue de la Pais',\n",
       "       '9 Rue de la Bastille', '183 Avenue Daumesnil', '107 Rue de Patay',\n",
       "       '11 Rue Notre-Dame de Lorette', '14 Rue de la Boétie',\n",
       "       '53 Avenue des Champs-Elysees', '10 Rue de la Butte aux Cailles',\n",
       "       '4 Rue Boissieu'], dtype=object)"
      ]
     },
     "execution_count": 8,
     "metadata": {},
     "output_type": "execute_result"
    }
   ],
   "source": [
    "def mate_progenitors(prog_a, prog_b):\n",
    "    offspring = prog_a[0:5]\n",
    "\n",
    "    for city in prog_b:\n",
    "\n",
    "        if not city in offspring:\n",
    "            offspring = np.concatenate((offspring,[city]))\n",
    "\n",
    "    return offspring\n",
    "            \n",
    "    \n",
    "    \n",
    "def mate_population(progenitor_list):\n",
    "    new_population_set = []\n",
    "    for i in range(progenitor_list.shape[1]):\n",
    "        prog_a, prog_b = progenitor_list[0][i], progenitor_list[1][i]\n",
    "        offspring = mate_progenitors(prog_a, prog_b)\n",
    "        new_population_set.append(offspring)\n",
    "        \n",
    "    return new_population_set\n",
    "\n",
    "new_population_set = mate_population(progenitor_list)\n",
    "new_population_set[0]"
   ]
  },
  {
   "cell_type": "markdown",
   "metadata": {
    "id": "4SsYjUEeOxRG"
   },
   "source": [
    "# 5. Mutation\n",
    "Now for each element of the new population we add a random chance of swapping"
   ]
  },
  {
   "cell_type": "code",
   "execution_count": null,
   "metadata": {
    "colab": {
     "base_uri": "https://localhost:8080/"
    },
    "executionInfo": {
     "elapsed": 8,
     "status": "ok",
     "timestamp": 1673519893835,
     "user": {
      "displayName": "Mohammed EL-Boukri",
      "userId": "09133861228848981695"
     },
     "user_tz": -60
    },
    "id": "xRH8AYy6OxRH",
    "outputId": "3bfec81e-bc4f-4920-8069-c9105e7cb3ac"
   },
   "outputs": [
    {
     "data": {
      "text/plain": [
       "array(['32 Rue des Saints-Peres', '65 Boulevard Malesherbes',\n",
       "       '56 Boulevard Haussmann', '96 Rue Daguerre',\n",
       "       '1 Avenue des Champs-Élysées', '4 Rue Boissieu',\n",
       "       '14 Rue de la Boétie', '5 Avenue Montaigne',\n",
       "       '10 Rue de la Butte aux Cailles', '9 Rue de la Bastille',\n",
       "       '183 Avenue Daumesnil', '24 Rue de la Pais',\n",
       "       '11 Rue Notre-Dame de Lorette', '2 Place Vendôme',\n",
       "       '53 Avenue des Champs-Elysees', '107 Rue de Patay',\n",
       "       '56 Passage des Panoramas'], dtype=object)"
      ]
     },
     "execution_count": 9,
     "metadata": {},
     "output_type": "execute_result"
    }
   ],
   "source": [
    "def mutate_offspring(offspring):\n",
    "    for q in range(int(n_cities*mutation_rate)):\n",
    "        a = np.random.randint(0,n_cities)\n",
    "        b = np.random.randint(0,n_cities)\n",
    "\n",
    "        offspring[a], offspring[b] = offspring[b], offspring[a]\n",
    "\n",
    "    return offspring\n",
    "    \n",
    "    \n",
    "def mutate_population(new_population_set):\n",
    "    mutated_pop = []\n",
    "    for offspring in new_population_set:\n",
    "        mutated_pop.append(mutate_offspring(offspring))\n",
    "    return mutated_pop\n",
    "\n",
    "mutated_pop = mutate_population(new_population_set)\n",
    "mutated_pop[0]"
   ]
  },
  {
   "cell_type": "markdown",
   "metadata": {
    "id": "4Mq6MDo_OxRI"
   },
   "source": [
    "# 6. Stopping\n",
    "To select the stopping criteria we'll need to create a loop to stop first. Then I'll set it to loop at 1000 iterations."
   ]
  },
  {
   "cell_type": "code",
   "execution_count": null,
   "metadata": {
    "colab": {
     "base_uri": "https://localhost:8080/"
    },
    "executionInfo": {
     "elapsed": 105509,
     "status": "ok",
     "timestamp": 1673519999338,
     "user": {
      "displayName": "Mohammed EL-Boukri",
      "userId": "09133861228848981695"
     },
     "user_tz": -60
    },
    "id": "UFvuMUYCOxRJ",
    "outputId": "93af90b0-9091-4b12-df13-9cef37646174"
   },
   "outputs": [
    {
     "name": "stdout",
     "output_type": "stream",
     "text": [
      "0 37.16883539900403 57.99967107607049 13/01/23 12:45\n",
      "100 37.12147993908765 56.58391708272672 13/01/23 12:46\n",
      "200 33.57352579181543 57.58134560564711 13/01/23 12:46\n",
      "300 33.71051733826931 58.901170110038244 13/01/23 12:46\n",
      "400 35.27950581352602 54.78230406812214 13/01/23 12:47\n",
      "500 31.273383742049436 56.979407261526994 13/01/23 12:47\n",
      "600 43.531568024473465 58.517838930820524 13/01/23 12:47\n",
      "700 37.95045070747709 56.46932050351591 13/01/23 12:48\n",
      "800 32.607117785083915 57.13130541527039 13/01/23 12:48\n",
      "900 36.308715318924186 57.914405182011144 13/01/23 12:48\n"
     ]
    }
   ],
   "source": [
    "best_solution = [-1,np.inf,np.array([])]\n",
    "for i in range(1000):\n",
    "    if i%100==0: print(i, fitnes_list.min(), fitnes_list.mean(), datetime.now().strftime(\"%d/%m/%y %H:%M\"))\n",
    "    fitnes_list = get_all_fitnes(mutated_pop,cities_dict)\n",
    "    \n",
    "    #Saving the best solution\n",
    "    if fitnes_list.min() < best_solution[1]:\n",
    "        best_solution[0] = i\n",
    "        best_solution[1] = fitnes_list.min()\n",
    "        best_solution[2] = np.array(mutated_pop)[fitnes_list.min() == fitnes_list]\n",
    "    \n",
    "    progenitor_list = progenitor_selection(population_set,fitnes_list)\n",
    "    new_population_set = mate_population(progenitor_list)\n",
    "    \n",
    "    mutated_pop = mutate_population(new_population_set)"
   ]
  },
  {
   "cell_type": "code",
   "execution_count": null,
   "metadata": {
    "colab": {
     "base_uri": "https://localhost:8080/"
    },
    "executionInfo": {
     "elapsed": 82,
     "status": "ok",
     "timestamp": 1673519999341,
     "user": {
      "displayName": "Mohammed EL-Boukri",
      "userId": "09133861228848981695"
     },
     "user_tz": -60
    },
    "id": "eKCQTC3fOxRJ",
    "outputId": "140c213d-31da-4cc6-fd06-5ffa0dee1754"
   },
   "outputs": [
    {
     "data": {
      "text/plain": [
       "[730,\n",
       " 23.030861162163006,\n",
       " array([['24 Rue de la Pais', '2 Place Vendôme', '5 Avenue Montaigne',\n",
       "         '9 Rue de la Bastille', '14 Rue de la Boétie',\n",
       "         '107 Rue de Patay', '1 Avenue des Champs-Élysées',\n",
       "         '56 Boulevard Haussmann', '10 Rue de la Butte aux Cailles',\n",
       "         '183 Avenue Daumesnil', '96 Rue Daguerre',\n",
       "         '32 Rue des Saints-Peres', '53 Avenue des Champs-Elysees',\n",
       "         '4 Rue Boissieu', '56 Passage des Panoramas',\n",
       "         '65 Boulevard Malesherbes', '11 Rue Notre-Dame de Lorette']],\n",
       "       dtype=object)]"
      ]
     },
     "execution_count": 11,
     "metadata": {},
     "output_type": "execute_result"
    }
   ],
   "source": [
    "best_solution"
   ]
  },
  {
   "cell_type": "code",
   "execution_count": null,
   "metadata": {
    "colab": {
     "base_uri": "https://localhost:8080/"
    },
    "executionInfo": {
     "elapsed": 560,
     "status": "ok",
     "timestamp": 1673520656312,
     "user": {
      "displayName": "Mohammed EL-Boukri",
      "userId": "09133861228848981695"
     },
     "user_tz": -60
    },
    "id": "32PyhXKCO1R1",
    "outputId": "7dbab203-c558-4d34-c20a-bc84b68c17d0"
   },
   "outputs": [
    {
     "data": {
      "text/plain": [
       "array(['24 Rue de la Pais', '2 Place Vendôme', '5 Avenue Montaigne',\n",
       "       '9 Rue de la Bastille', '14 Rue de la Boétie', '107 Rue de Patay',\n",
       "       '1 Avenue des Champs-Élysées', '56 Boulevard Haussmann',\n",
       "       '10 Rue de la Butte aux Cailles', '183 Avenue Daumesnil',\n",
       "       '96 Rue Daguerre', '32 Rue des Saints-Peres',\n",
       "       '53 Avenue des Champs-Elysees', '4 Rue Boissieu',\n",
       "       '56 Passage des Panoramas', '65 Boulevard Malesherbes',\n",
       "       '11 Rue Notre-Dame de Lorette'], dtype=object)"
      ]
     },
     "execution_count": 12,
     "metadata": {},
     "output_type": "execute_result"
    }
   ],
   "source": [
    "best_road = best_solution[2][0]\n",
    "best_road"
   ]
  },
  {
   "cell_type": "code",
   "execution_count": null,
   "metadata": {
    "colab": {
     "base_uri": "https://localhost:8080/"
    },
    "executionInfo": {
     "elapsed": 486,
     "status": "ok",
     "timestamp": 1673520691518,
     "user": {
      "displayName": "Mohammed EL-Boukri",
      "userId": "09133861228848981695"
     },
     "user_tz": -60
    },
    "id": "cOfDYKkzmFDJ",
    "outputId": "0ff68db5-817e-4ab8-ac17-264f88a3dc02"
   },
   "outputs": [
    {
     "data": {
      "text/plain": [
       "[48.827357, 2.371647]"
      ]
     },
     "execution_count": 13,
     "metadata": {},
     "output_type": "execute_result"
    }
   ],
   "source": [
    "cities_dict[best_road[0]]"
   ]
  },
  {
   "cell_type": "code",
   "execution_count": null,
   "metadata": {
    "executionInfo": {
     "elapsed": 275,
     "status": "ok",
     "timestamp": 1673526054321,
     "user": {
      "displayName": "Mohammed EL-Boukri",
      "userId": "09133861228848981695"
     },
     "user_tz": -60
    },
    "id": "ZSzAT-z-mzI_"
   },
   "outputs": [
    {
     "data": {
      "text/html": [
       "<div style=\"width:100%;\"><div style=\"position:relative;width:100%;height:0;padding-bottom:60%;\"><span style=\"color:#565656\">Make this Notebook Trusted to load map: File -> Trust Notebook</span><iframe srcdoc=\"&lt;!DOCTYPE html&gt;\n",
       "&lt;html&gt;\n",
       "&lt;head&gt;\n",
       "    \n",
       "    &lt;meta http-equiv=&quot;content-type&quot; content=&quot;text/html; charset=UTF-8&quot; /&gt;\n",
       "    \n",
       "        &lt;script&gt;\n",
       "            L_NO_TOUCH = false;\n",
       "            L_DISABLE_3D = false;\n",
       "        &lt;/script&gt;\n",
       "    \n",
       "    &lt;style&gt;html, body {width: 100%;height: 100%;margin: 0;padding: 0;}&lt;/style&gt;\n",
       "    &lt;style&gt;#map {position:absolute;top:0;bottom:0;right:0;left:0;}&lt;/style&gt;\n",
       "    &lt;script src=&quot;https://cdn.jsdelivr.net/npm/leaflet@1.9.3/dist/leaflet.js&quot;&gt;&lt;/script&gt;\n",
       "    &lt;script src=&quot;https://code.jquery.com/jquery-1.12.4.min.js&quot;&gt;&lt;/script&gt;\n",
       "    &lt;script src=&quot;https://cdn.jsdelivr.net/npm/bootstrap@5.2.2/dist/js/bootstrap.bundle.min.js&quot;&gt;&lt;/script&gt;\n",
       "    &lt;script src=&quot;https://cdnjs.cloudflare.com/ajax/libs/Leaflet.awesome-markers/2.0.2/leaflet.awesome-markers.js&quot;&gt;&lt;/script&gt;\n",
       "    &lt;link rel=&quot;stylesheet&quot; href=&quot;https://cdn.jsdelivr.net/npm/leaflet@1.9.3/dist/leaflet.css&quot;/&gt;\n",
       "    &lt;link rel=&quot;stylesheet&quot; href=&quot;https://cdn.jsdelivr.net/npm/bootstrap@5.2.2/dist/css/bootstrap.min.css&quot;/&gt;\n",
       "    &lt;link rel=&quot;stylesheet&quot; href=&quot;https://netdna.bootstrapcdn.com/bootstrap/3.0.0/css/bootstrap.min.css&quot;/&gt;\n",
       "    &lt;link rel=&quot;stylesheet&quot; href=&quot;https://cdn.jsdelivr.net/npm/@fortawesome/fontawesome-free@6.2.0/css/all.min.css&quot;/&gt;\n",
       "    &lt;link rel=&quot;stylesheet&quot; href=&quot;https://cdnjs.cloudflare.com/ajax/libs/Leaflet.awesome-markers/2.0.2/leaflet.awesome-markers.css&quot;/&gt;\n",
       "    &lt;link rel=&quot;stylesheet&quot; href=&quot;https://cdn.jsdelivr.net/gh/python-visualization/folium/folium/templates/leaflet.awesome.rotate.min.css&quot;/&gt;\n",
       "    \n",
       "            &lt;meta name=&quot;viewport&quot; content=&quot;width=device-width,\n",
       "                initial-scale=1.0, maximum-scale=1.0, user-scalable=no&quot; /&gt;\n",
       "            &lt;style&gt;\n",
       "                #map_f9347e249ef0dac5d3813b42c48f28ff {\n",
       "                    position: relative;\n",
       "                    width: 100.0%;\n",
       "                    height: 100.0%;\n",
       "                    left: 0.0%;\n",
       "                    top: 0.0%;\n",
       "                }\n",
       "                .leaflet-container { font-size: 1rem; }\n",
       "            &lt;/style&gt;\n",
       "        \n",
       "&lt;/head&gt;\n",
       "&lt;body&gt;\n",
       "    \n",
       "    \n",
       "            &lt;div class=&quot;folium-map&quot; id=&quot;map_f9347e249ef0dac5d3813b42c48f28ff&quot; &gt;&lt;/div&gt;\n",
       "        \n",
       "&lt;/body&gt;\n",
       "&lt;script&gt;\n",
       "    \n",
       "    \n",
       "            var map_f9347e249ef0dac5d3813b42c48f28ff = L.map(\n",
       "                &quot;map_f9347e249ef0dac5d3813b42c48f28ff&quot;,\n",
       "                {\n",
       "                    center: [48.827357, 2.371647],\n",
       "                    crs: L.CRS.EPSG3857,\n",
       "                    zoom: 12,\n",
       "                    zoomControl: true,\n",
       "                    preferCanvas: false,\n",
       "                }\n",
       "            );\n",
       "\n",
       "            \n",
       "\n",
       "        \n",
       "    \n",
       "            var tile_layer_8172b48bf26fad9164f641f7aa3fac46 = L.tileLayer(\n",
       "                &quot;https://stamen-tiles-{s}.a.ssl.fastly.net/terrain/{z}/{x}/{y}.jpg&quot;,\n",
       "                {&quot;attribution&quot;: &quot;Map tiles by \\u003ca target=\\&quot;_blank\\&quot; href=\\&quot;http://stamen.com\\&quot;\\u003eStamen Design\\u003c/a\\u003e, under \\u003ca target=\\&quot;_blank\\&quot; href=\\&quot;http://creativecommons.org/licenses/by/3.0\\&quot;\\u003eCC BY 3.0\\u003c/a\\u003e. Data by \\u0026copy; \\u003ca target=\\&quot;_blank\\&quot; href=\\&quot;http://openstreetmap.org\\&quot;\\u003eOpenStreetMap\\u003c/a\\u003e, under \\u003ca target=\\&quot;_blank\\&quot; href=\\&quot;http://creativecommons.org/licenses/by-sa/3.0\\&quot;\\u003eCC BY SA\\u003c/a\\u003e.&quot;, &quot;detectRetina&quot;: false, &quot;maxNativeZoom&quot;: 18, &quot;maxZoom&quot;: 18, &quot;minZoom&quot;: 0, &quot;noWrap&quot;: false, &quot;opacity&quot;: 1, &quot;subdomains&quot;: &quot;abc&quot;, &quot;tms&quot;: false}\n",
       "            ).addTo(map_f9347e249ef0dac5d3813b42c48f28ff);\n",
       "        \n",
       "    \n",
       "            var marker_db7497a43533b3e87e1a285e3e4435c4 = L.marker(\n",
       "                [48.827357, 2.371647],\n",
       "                {}\n",
       "            ).addTo(map_f9347e249ef0dac5d3813b42c48f28ff);\n",
       "        \n",
       "    \n",
       "        var popup_ecda29a8b29111a3c87df8a5d1c7ea42 = L.popup({&quot;maxWidth&quot;: &quot;100%&quot;});\n",
       "\n",
       "        \n",
       "            \n",
       "                var html_77a11fa595f7bccea95dc7716335803e = $(`&lt;div id=&quot;html_77a11fa595f7bccea95dc7716335803e&quot; style=&quot;width: 100.0%; height: 100.0%;&quot;&gt;&lt;i&gt;24 Rue de la Pais&lt;/i&gt;&lt;/div&gt;`)[0];\n",
       "                popup_ecda29a8b29111a3c87df8a5d1c7ea42.setContent(html_77a11fa595f7bccea95dc7716335803e);\n",
       "            \n",
       "        \n",
       "\n",
       "        marker_db7497a43533b3e87e1a285e3e4435c4.bindPopup(popup_ecda29a8b29111a3c87df8a5d1c7ea42)\n",
       "        ;\n",
       "\n",
       "        \n",
       "    \n",
       "    \n",
       "            var marker_1c04e28290c21f10f207276f4c86d4ac = L.marker(\n",
       "                [48.827357, 2.371647],\n",
       "                {}\n",
       "            ).addTo(map_f9347e249ef0dac5d3813b42c48f28ff);\n",
       "        \n",
       "    \n",
       "        var popup_4cb4c3b82523e5fdb3abb3cbe42214c6 = L.popup({&quot;maxWidth&quot;: &quot;100%&quot;});\n",
       "\n",
       "        \n",
       "            \n",
       "                var html_e0dbaa8266a037f40b8e326f75025021 = $(`&lt;div id=&quot;html_e0dbaa8266a037f40b8e326f75025021&quot; style=&quot;width: 100.0%; height: 100.0%;&quot;&gt;&lt;i&gt;2 Place Vendôme&lt;/i&gt;&lt;/div&gt;`)[0];\n",
       "                popup_4cb4c3b82523e5fdb3abb3cbe42214c6.setContent(html_e0dbaa8266a037f40b8e326f75025021);\n",
       "            \n",
       "        \n",
       "\n",
       "        marker_1c04e28290c21f10f207276f4c86d4ac.bindPopup(popup_4cb4c3b82523e5fdb3abb3cbe42214c6)\n",
       "        ;\n",
       "\n",
       "        \n",
       "    \n",
       "    \n",
       "            var marker_e3386570cdae52b9980551bec6c53b28 = L.marker(\n",
       "                [48.827357, 2.371647],\n",
       "                {}\n",
       "            ).addTo(map_f9347e249ef0dac5d3813b42c48f28ff);\n",
       "        \n",
       "    \n",
       "        var popup_7429f7630a5a1aa38731f6f394d7dfe4 = L.popup({&quot;maxWidth&quot;: &quot;100%&quot;});\n",
       "\n",
       "        \n",
       "            \n",
       "                var html_792d4d0d677df7738a35aa539acb9386 = $(`&lt;div id=&quot;html_792d4d0d677df7738a35aa539acb9386&quot; style=&quot;width: 100.0%; height: 100.0%;&quot;&gt;&lt;i&gt;5 Avenue Montaigne&lt;/i&gt;&lt;/div&gt;`)[0];\n",
       "                popup_7429f7630a5a1aa38731f6f394d7dfe4.setContent(html_792d4d0d677df7738a35aa539acb9386);\n",
       "            \n",
       "        \n",
       "\n",
       "        marker_e3386570cdae52b9980551bec6c53b28.bindPopup(popup_7429f7630a5a1aa38731f6f394d7dfe4)\n",
       "        ;\n",
       "\n",
       "        \n",
       "    \n",
       "    \n",
       "            var marker_150dd67ef2d975164a66148918b46688 = L.marker(\n",
       "                [48.827357, 2.371647],\n",
       "                {}\n",
       "            ).addTo(map_f9347e249ef0dac5d3813b42c48f28ff);\n",
       "        \n",
       "    \n",
       "        var popup_e7d09289b712cf27c31ffca7de4cc968 = L.popup({&quot;maxWidth&quot;: &quot;100%&quot;});\n",
       "\n",
       "        \n",
       "            \n",
       "                var html_2ba0cd6a4b8e55aded2da7553a0ca2a1 = $(`&lt;div id=&quot;html_2ba0cd6a4b8e55aded2da7553a0ca2a1&quot; style=&quot;width: 100.0%; height: 100.0%;&quot;&gt;&lt;i&gt;9 Rue de la Bastille&lt;/i&gt;&lt;/div&gt;`)[0];\n",
       "                popup_e7d09289b712cf27c31ffca7de4cc968.setContent(html_2ba0cd6a4b8e55aded2da7553a0ca2a1);\n",
       "            \n",
       "        \n",
       "\n",
       "        marker_150dd67ef2d975164a66148918b46688.bindPopup(popup_e7d09289b712cf27c31ffca7de4cc968)\n",
       "        ;\n",
       "\n",
       "        \n",
       "    \n",
       "    \n",
       "            var marker_ac3d2a4820c5ef762861009a095f1de5 = L.marker(\n",
       "                [48.827357, 2.371647],\n",
       "                {}\n",
       "            ).addTo(map_f9347e249ef0dac5d3813b42c48f28ff);\n",
       "        \n",
       "    \n",
       "        var popup_5a251f8e3a97148b5038670280f5ef72 = L.popup({&quot;maxWidth&quot;: &quot;100%&quot;});\n",
       "\n",
       "        \n",
       "            \n",
       "                var html_6f1c81e5c8d4f6582f15d95fe5933426 = $(`&lt;div id=&quot;html_6f1c81e5c8d4f6582f15d95fe5933426&quot; style=&quot;width: 100.0%; height: 100.0%;&quot;&gt;&lt;i&gt;14 Rue de la Boétie&lt;/i&gt;&lt;/div&gt;`)[0];\n",
       "                popup_5a251f8e3a97148b5038670280f5ef72.setContent(html_6f1c81e5c8d4f6582f15d95fe5933426);\n",
       "            \n",
       "        \n",
       "\n",
       "        marker_ac3d2a4820c5ef762861009a095f1de5.bindPopup(popup_5a251f8e3a97148b5038670280f5ef72)\n",
       "        ;\n",
       "\n",
       "        \n",
       "    \n",
       "    \n",
       "            var marker_86584820faa2914b77efcfca8c3905ba = L.marker(\n",
       "                [48.827357, 2.371647],\n",
       "                {}\n",
       "            ).addTo(map_f9347e249ef0dac5d3813b42c48f28ff);\n",
       "        \n",
       "    \n",
       "        var popup_b19a1ab1b4f50449f0c630361bd757e9 = L.popup({&quot;maxWidth&quot;: &quot;100%&quot;});\n",
       "\n",
       "        \n",
       "            \n",
       "                var html_e98e59f983a634125f49e50f5c73238b = $(`&lt;div id=&quot;html_e98e59f983a634125f49e50f5c73238b&quot; style=&quot;width: 100.0%; height: 100.0%;&quot;&gt;&lt;i&gt;107 Rue de Patay&lt;/i&gt;&lt;/div&gt;`)[0];\n",
       "                popup_b19a1ab1b4f50449f0c630361bd757e9.setContent(html_e98e59f983a634125f49e50f5c73238b);\n",
       "            \n",
       "        \n",
       "\n",
       "        marker_86584820faa2914b77efcfca8c3905ba.bindPopup(popup_b19a1ab1b4f50449f0c630361bd757e9)\n",
       "        ;\n",
       "\n",
       "        \n",
       "    \n",
       "    \n",
       "            var marker_5d27e881feddbeef35447b5488200965 = L.marker(\n",
       "                [48.827357, 2.371647],\n",
       "                {}\n",
       "            ).addTo(map_f9347e249ef0dac5d3813b42c48f28ff);\n",
       "        \n",
       "    \n",
       "        var popup_22294565ae30fd01d3ebdd74b9af89e2 = L.popup({&quot;maxWidth&quot;: &quot;100%&quot;});\n",
       "\n",
       "        \n",
       "            \n",
       "                var html_94bc76551c7737b8a8eea864f8ac88a7 = $(`&lt;div id=&quot;html_94bc76551c7737b8a8eea864f8ac88a7&quot; style=&quot;width: 100.0%; height: 100.0%;&quot;&gt;&lt;i&gt;1 Avenue des Champs-Élysées&lt;/i&gt;&lt;/div&gt;`)[0];\n",
       "                popup_22294565ae30fd01d3ebdd74b9af89e2.setContent(html_94bc76551c7737b8a8eea864f8ac88a7);\n",
       "            \n",
       "        \n",
       "\n",
       "        marker_5d27e881feddbeef35447b5488200965.bindPopup(popup_22294565ae30fd01d3ebdd74b9af89e2)\n",
       "        ;\n",
       "\n",
       "        \n",
       "    \n",
       "    \n",
       "            var marker_81c19d59f8f445e8cc0ea0e8c3a1fc08 = L.marker(\n",
       "                [48.827357, 2.371647],\n",
       "                {}\n",
       "            ).addTo(map_f9347e249ef0dac5d3813b42c48f28ff);\n",
       "        \n",
       "    \n",
       "        var popup_f454e2da7c12883436240216f8e52802 = L.popup({&quot;maxWidth&quot;: &quot;100%&quot;});\n",
       "\n",
       "        \n",
       "            \n",
       "                var html_bf6978633fa9572e25e85faf64c99d7c = $(`&lt;div id=&quot;html_bf6978633fa9572e25e85faf64c99d7c&quot; style=&quot;width: 100.0%; height: 100.0%;&quot;&gt;&lt;i&gt;56 Boulevard Haussmann&lt;/i&gt;&lt;/div&gt;`)[0];\n",
       "                popup_f454e2da7c12883436240216f8e52802.setContent(html_bf6978633fa9572e25e85faf64c99d7c);\n",
       "            \n",
       "        \n",
       "\n",
       "        marker_81c19d59f8f445e8cc0ea0e8c3a1fc08.bindPopup(popup_f454e2da7c12883436240216f8e52802)\n",
       "        ;\n",
       "\n",
       "        \n",
       "    \n",
       "    \n",
       "            var marker_62db0a1cf063da6058312cb7d430b4ff = L.marker(\n",
       "                [48.827964, 2.351655],\n",
       "                {}\n",
       "            ).addTo(map_f9347e249ef0dac5d3813b42c48f28ff);\n",
       "        \n",
       "    \n",
       "        var popup_90f38696368120697ea522d298129217 = L.popup({&quot;maxWidth&quot;: &quot;100%&quot;});\n",
       "\n",
       "        \n",
       "            \n",
       "                var html_066ef0e5e3fff0791397312651400720 = $(`&lt;div id=&quot;html_066ef0e5e3fff0791397312651400720&quot; style=&quot;width: 100.0%; height: 100.0%;&quot;&gt;&lt;i&gt;10 Rue de la Butte aux Cailles&lt;/i&gt;&lt;/div&gt;`)[0];\n",
       "                popup_90f38696368120697ea522d298129217.setContent(html_066ef0e5e3fff0791397312651400720);\n",
       "            \n",
       "        \n",
       "\n",
       "        marker_62db0a1cf063da6058312cb7d430b4ff.bindPopup(popup_90f38696368120697ea522d298129217)\n",
       "        ;\n",
       "\n",
       "        \n",
       "    \n",
       "    \n",
       "            var marker_3aad12130f5e40b230dd57e77f02b5fd = L.marker(\n",
       "                [48.840378, 2.392925],\n",
       "                {}\n",
       "            ).addTo(map_f9347e249ef0dac5d3813b42c48f28ff);\n",
       "        \n",
       "    \n",
       "        var popup_0dbd8d2fc9218a55e9175f2ec4c3ce93 = L.popup({&quot;maxWidth&quot;: &quot;100%&quot;});\n",
       "\n",
       "        \n",
       "            \n",
       "                var html_373a14d21888f05e5dfd0c3671c9d61f = $(`&lt;div id=&quot;html_373a14d21888f05e5dfd0c3671c9d61f&quot; style=&quot;width: 100.0%; height: 100.0%;&quot;&gt;&lt;i&gt;183 Avenue Daumesnil&lt;/i&gt;&lt;/div&gt;`)[0];\n",
       "                popup_0dbd8d2fc9218a55e9175f2ec4c3ce93.setContent(html_373a14d21888f05e5dfd0c3671c9d61f);\n",
       "            \n",
       "        \n",
       "\n",
       "        marker_3aad12130f5e40b230dd57e77f02b5fd.bindPopup(popup_0dbd8d2fc9218a55e9175f2ec4c3ce93)\n",
       "        ;\n",
       "\n",
       "        \n",
       "    \n",
       "    \n",
       "            var marker_3a9bb2133e573f6428c60bff55f73759 = L.marker(\n",
       "                [48.836048, 2.32414],\n",
       "                {}\n",
       "            ).addTo(map_f9347e249ef0dac5d3813b42c48f28ff);\n",
       "        \n",
       "    \n",
       "        var popup_67f18ecc80cd2eee5b18beb540c37683 = L.popup({&quot;maxWidth&quot;: &quot;100%&quot;});\n",
       "\n",
       "        \n",
       "            \n",
       "                var html_36cfb1b16f1802097164a9caed70acea = $(`&lt;div id=&quot;html_36cfb1b16f1802097164a9caed70acea&quot; style=&quot;width: 100.0%; height: 100.0%;&quot;&gt;&lt;i&gt;96 Rue Daguerre&lt;/i&gt;&lt;/div&gt;`)[0];\n",
       "                popup_67f18ecc80cd2eee5b18beb540c37683.setContent(html_36cfb1b16f1802097164a9caed70acea);\n",
       "            \n",
       "        \n",
       "\n",
       "        marker_3a9bb2133e573f6428c60bff55f73759.bindPopup(popup_67f18ecc80cd2eee5b18beb540c37683)\n",
       "        ;\n",
       "\n",
       "        \n",
       "    \n",
       "    \n",
       "            var marker_b0523ebd1bed7f39eea54f624aa17595 = L.marker(\n",
       "                [48.855208, 2.330718],\n",
       "                {}\n",
       "            ).addTo(map_f9347e249ef0dac5d3813b42c48f28ff);\n",
       "        \n",
       "    \n",
       "        var popup_6f6327caff953a56d2b613de20d51a56 = L.popup({&quot;maxWidth&quot;: &quot;100%&quot;});\n",
       "\n",
       "        \n",
       "            \n",
       "                var html_04f61ae0a71c4c42f89dd2853f91f854 = $(`&lt;div id=&quot;html_04f61ae0a71c4c42f89dd2853f91f854&quot; style=&quot;width: 100.0%; height: 100.0%;&quot;&gt;&lt;i&gt;32 Rue des Saints-Peres&lt;/i&gt;&lt;/div&gt;`)[0];\n",
       "                popup_6f6327caff953a56d2b613de20d51a56.setContent(html_04f61ae0a71c4c42f89dd2853f91f854);\n",
       "            \n",
       "        \n",
       "\n",
       "        marker_b0523ebd1bed7f39eea54f624aa17595.bindPopup(popup_6f6327caff953a56d2b613de20d51a56)\n",
       "        ;\n",
       "\n",
       "        \n",
       "    \n",
       "    \n",
       "            var marker_a8f5c2e0780bb9b8528750238c8c61e1 = L.marker(\n",
       "                [48.870137, 2.305385],\n",
       "                {}\n",
       "            ).addTo(map_f9347e249ef0dac5d3813b42c48f28ff);\n",
       "        \n",
       "    \n",
       "        var popup_9ed4cd97767e9cc5342c71b22a6d993a = L.popup({&quot;maxWidth&quot;: &quot;100%&quot;});\n",
       "\n",
       "        \n",
       "            \n",
       "                var html_e07fd724cb2d9f3d2ea3d8a1091c98a3 = $(`&lt;div id=&quot;html_e07fd724cb2d9f3d2ea3d8a1091c98a3&quot; style=&quot;width: 100.0%; height: 100.0%;&quot;&gt;&lt;i&gt;53 Avenue des Champs-Elysees&lt;/i&gt;&lt;/div&gt;`)[0];\n",
       "                popup_9ed4cd97767e9cc5342c71b22a6d993a.setContent(html_e07fd724cb2d9f3d2ea3d8a1091c98a3);\n",
       "            \n",
       "        \n",
       "\n",
       "        marker_a8f5c2e0780bb9b8528750238c8c61e1.bindPopup(popup_9ed4cd97767e9cc5342c71b22a6d993a)\n",
       "        ;\n",
       "\n",
       "        \n",
       "    \n",
       "    \n",
       "            var marker_9b02fa48bda24377f90d7ebcc416a9be = L.marker(\n",
       "                [48.884347, 2.349094],\n",
       "                {}\n",
       "            ).addTo(map_f9347e249ef0dac5d3813b42c48f28ff);\n",
       "        \n",
       "    \n",
       "        var popup_1308320ce2e031e2041834608cafd7ba = L.popup({&quot;maxWidth&quot;: &quot;100%&quot;});\n",
       "\n",
       "        \n",
       "            \n",
       "                var html_44f15cb2db91dad0a4e41e36655143a7 = $(`&lt;div id=&quot;html_44f15cb2db91dad0a4e41e36655143a7&quot; style=&quot;width: 100.0%; height: 100.0%;&quot;&gt;&lt;i&gt;4 Rue Boissieu&lt;/i&gt;&lt;/div&gt;`)[0];\n",
       "                popup_1308320ce2e031e2041834608cafd7ba.setContent(html_44f15cb2db91dad0a4e41e36655143a7);\n",
       "            \n",
       "        \n",
       "\n",
       "        marker_9b02fa48bda24377f90d7ebcc416a9be.bindPopup(popup_1308320ce2e031e2041834608cafd7ba)\n",
       "        ;\n",
       "\n",
       "        \n",
       "    \n",
       "    \n",
       "            var marker_4e4ff8cece5ad1ce8d1546b92b47af78 = L.marker(\n",
       "                [48.871466, 2.341826],\n",
       "                {}\n",
       "            ).addTo(map_f9347e249ef0dac5d3813b42c48f28ff);\n",
       "        \n",
       "    \n",
       "        var popup_1137cdb1fa60fa4a15023a8b7fc575a5 = L.popup({&quot;maxWidth&quot;: &quot;100%&quot;});\n",
       "\n",
       "        \n",
       "            \n",
       "                var html_752f6195159dbafa8e31fee50fb8958d = $(`&lt;div id=&quot;html_752f6195159dbafa8e31fee50fb8958d&quot; style=&quot;width: 100.0%; height: 100.0%;&quot;&gt;&lt;i&gt;56 Passage des Panoramas&lt;/i&gt;&lt;/div&gt;`)[0];\n",
       "                popup_1137cdb1fa60fa4a15023a8b7fc575a5.setContent(html_752f6195159dbafa8e31fee50fb8958d);\n",
       "            \n",
       "        \n",
       "\n",
       "        marker_4e4ff8cece5ad1ce8d1546b92b47af78.bindPopup(popup_1137cdb1fa60fa4a15023a8b7fc575a5)\n",
       "        ;\n",
       "\n",
       "        \n",
       "    \n",
       "    \n",
       "            var marker_0c064709ed73636f0e3df7cb616ce17e = L.marker(\n",
       "                [48.876488, 2.31764],\n",
       "                {}\n",
       "            ).addTo(map_f9347e249ef0dac5d3813b42c48f28ff);\n",
       "        \n",
       "    \n",
       "        var popup_3921b8f13769682cfd75536c7f60ca83 = L.popup({&quot;maxWidth&quot;: &quot;100%&quot;});\n",
       "\n",
       "        \n",
       "            \n",
       "                var html_c9fa8b311cc339010e802429a9e64dde = $(`&lt;div id=&quot;html_c9fa8b311cc339010e802429a9e64dde&quot; style=&quot;width: 100.0%; height: 100.0%;&quot;&gt;&lt;i&gt;65 Boulevard Malesherbes&lt;/i&gt;&lt;/div&gt;`)[0];\n",
       "                popup_3921b8f13769682cfd75536c7f60ca83.setContent(html_c9fa8b311cc339010e802429a9e64dde);\n",
       "            \n",
       "        \n",
       "\n",
       "        marker_0c064709ed73636f0e3df7cb616ce17e.bindPopup(popup_3921b8f13769682cfd75536c7f60ca83)\n",
       "        ;\n",
       "\n",
       "        \n",
       "    \n",
       "    \n",
       "            var marker_87dd95d15820dbb2f4cb677d03107eac = L.marker(\n",
       "                [48.877498, 2.338302],\n",
       "                {}\n",
       "            ).addTo(map_f9347e249ef0dac5d3813b42c48f28ff);\n",
       "        \n",
       "    \n",
       "        var popup_a22d62726515668e5a2d48fbda39d30e = L.popup({&quot;maxWidth&quot;: &quot;100%&quot;});\n",
       "\n",
       "        \n",
       "            \n",
       "                var html_293e30380f21bc5a95d7e10455344719 = $(`&lt;div id=&quot;html_293e30380f21bc5a95d7e10455344719&quot; style=&quot;width: 100.0%; height: 100.0%;&quot;&gt;&lt;i&gt;11 Rue Notre-Dame de Lorette&lt;/i&gt;&lt;/div&gt;`)[0];\n",
       "                popup_a22d62726515668e5a2d48fbda39d30e.setContent(html_293e30380f21bc5a95d7e10455344719);\n",
       "            \n",
       "        \n",
       "\n",
       "        marker_87dd95d15820dbb2f4cb677d03107eac.bindPopup(popup_a22d62726515668e5a2d48fbda39d30e)\n",
       "        ;\n",
       "\n",
       "        \n",
       "    \n",
       "    \n",
       "            var poly_line_815e8ca6f804ccc3248e2a875808c82c = L.polyline(\n",
       "                [[48.827357, 2.371647], [48.827357, 2.371647], [48.827357, 2.371647], [48.827357, 2.371647], [48.827357, 2.371647], [48.827357, 2.371647], [48.827357, 2.371647], [48.827357, 2.371647], [48.827964, 2.351655], [48.840378, 2.392925], [48.836048, 2.32414], [48.855208, 2.330718], [48.870137, 2.305385], [48.884347, 2.349094], [48.871466, 2.341826], [48.876488, 2.31764], [48.877498, 2.338302], [48.827357, 2.371647]],\n",
       "                {&quot;bubblingMouseEvents&quot;: true, &quot;color&quot;: &quot;blue&quot;, &quot;dashArray&quot;: null, &quot;dashOffset&quot;: null, &quot;fill&quot;: false, &quot;fillColor&quot;: &quot;blue&quot;, &quot;fillOpacity&quot;: 0.2, &quot;fillRule&quot;: &quot;evenodd&quot;, &quot;lineCap&quot;: &quot;round&quot;, &quot;lineJoin&quot;: &quot;round&quot;, &quot;noClip&quot;: false, &quot;opacity&quot;: 0.9, &quot;smoothFactor&quot;: 1.0, &quot;stroke&quot;: true, &quot;weight&quot;: 4}\n",
       "            ).addTo(map_f9347e249ef0dac5d3813b42c48f28ff);\n",
       "        \n",
       "&lt;/script&gt;\n",
       "&lt;/html&gt;\" style=\"position:absolute;width:100%;height:100%;left:0;top:0;border:none !important;\" allowfullscreen webkitallowfullscreen mozallowfullscreen></iframe></div></div>"
      ],
      "text/plain": [
       "<folium.folium.Map at 0x1b76b9f10d0>"
      ]
     },
     "execution_count": 14,
     "metadata": {},
     "output_type": "execute_result"
    }
   ],
   "source": [
    "m = folium.Map(location=cities_dict[best_road[0]], zoom_start=12, tiles=\"Stamen Terrain\")\n",
    "loc = []\n",
    "for el in best_road:\n",
    "  loc.append(cities_dict[el])\n",
    "  folium.Marker(\n",
    "      cities_dict[el], popup=f\"<i>{el}</i>\"\n",
    "  ).add_to(m)\n",
    "loc.append(cities_dict[best_road[0]])\n",
    "folium.PolyLine(loc,\n",
    "                color='blue',\n",
    "                weight=4,\n",
    "                opacity=0.9).add_to(m)\n",
    "m\n",
    "#m.save(\"heat_map.html\")"
   ]
  },
  {
   "cell_type": "code",
   "execution_count": null,
   "metadata": {
    "id": "ZJDo7hg47sn2"
   },
   "outputs": [],
   "source": [
    "import urllib.request\n",
    "try:\n",
    "    import tkinter as tk\n",
    "except ImportError:\n",
    "    import Tkinter as tk\n",
    "\n",
    "from tkinterhtml import HtmlFrame\n",
    "\n",
    "root = tk.Tk()\n",
    "\n",
    "frame = HtmlFrame(root, horizontal_scrollbar=\"auto\")\n",
    "frame.grid(sticky=tk.NSEW)\n",
    " \n",
    " \n",
    "frame.set_content(\"\"\"\n",
    "<html>\n",
    "<body>\n",
    "<h1>Hello world!</h1>\n",
    "<p>First para</p>\n",
    "<ul>\n",
    "    <li>first list item</li>\n",
    "    <li>second list item</li>\n",
    "</ul>\n",
    "<img src=\"http://findicons.com/files/icons/638/magic_people/128/magic_ball.png\"/>\n",
    "</body>\n",
    "</html>    \n",
    "\"\"\")\n",
    " \n",
    "frame.set_content(urllib.request.urlopen(\"http://thonny.cs.ut.ee\").read().decode())\n",
    "print(frame.html.cget(\"zoom\"))\n",
    "\n",
    "\n",
    "root.columnconfigure(0, weight=1)\n",
    "root.rowconfigure(0, weight=1)\n",
    "root.mainloop()"
   ]
  },
  {
   "cell_type": "code",
   "execution_count": null,
   "metadata": {},
   "outputs": [],
   "source": []
  }
 ],
 "metadata": {
  "colab": {
   "provenance": []
  },
  "kernelspec": {
   "display_name": "Python 3 (ipykernel)",
   "language": "python",
   "name": "python3"
  },
  "language_info": {
   "codemirror_mode": {
    "name": "ipython",
    "version": 3
   },
   "file_extension": ".py",
   "mimetype": "text/x-python",
   "name": "python",
   "nbconvert_exporter": "python",
   "pygments_lexer": "ipython3",
   "version": "3.11.1"
  }
 },
 "nbformat": 4,
 "nbformat_minor": 4
}
