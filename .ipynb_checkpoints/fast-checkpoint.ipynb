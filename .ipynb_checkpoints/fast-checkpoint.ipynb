{
 "cells": [
  {
   "cell_type": "markdown",
   "metadata": {},
   "source": [
    "# Travelling Salesperson Problem solved using genetic algorithms"
   ]
  },
  {
   "cell_type": "code",
   "execution_count": 28,
   "metadata": {},
   "outputs": [],
   "source": [
    "# Imports \n",
    "import numpy as np\n",
    "import random\n",
    "\n",
    "np.random.seed(42)\n",
    "\n",
    "from datetime import datetime"
   ]
  },
  {
   "cell_type": "code",
   "execution_count": 29,
   "metadata": {},
   "outputs": [],
   "source": [
    "# Parameters\n",
    "n_cities = 10\n",
    "\n",
    "n_population = 50\n",
    "\n",
    "mutation_rate = 0.3"
   ]
  },
  {
   "cell_type": "code",
   "execution_count": 30,
   "metadata": {},
   "outputs": [
    {
     "data": {
      "text/plain": [
       "[[51, 87],\n",
       " [92, 99],\n",
       " [14, 23],\n",
       " [71, 2],\n",
       " [60, 21],\n",
       " [20, 52],\n",
       " [82, 1],\n",
       " [86, 87],\n",
       " [74, 29],\n",
       " [74, 37]]"
      ]
     },
     "execution_count": 30,
     "metadata": {},
     "output_type": "execute_result"
    }
   ],
   "source": [
    "# Generating a list of coordenades representing each city\n",
    "coordinates_list = [[x,y] for x,y in zip(np.random.randint(0,100,n_cities),np.random.randint(0,100,n_cities))]\n",
    "names_list = np.array(['Berlin', 'London', 'Moscow', 'Barcelona', 'Rome', 'Paris', 'Vienna', 'Munich', 'Istanbul', 'Kyiv', 'Bucharest', 'Minsk', 'Warsaw', 'Budapest', 'Milan', 'Prague', 'Sofia', 'Birmingham', 'Brussels', 'Amsterdam'])\n",
    "cities_dict = { x:y for x,y in zip(names_list,coordinates_list)}\n",
    "\n",
    "# Function to compute the distance between two points\n",
    "def compute_city_distance_coordinates(a,b):\n",
    "    return ((a[0]-b[0])**2+(a[1]-b[1])**2)**0.5\n",
    "\n",
    "def compute_city_distance_names(city_a, city_b, cities_dict):\n",
    "    return compute_city_distance_coordinates(cities_dict[city_a], cities_dict[city_b])\n",
    "\n",
    "coordinates_list"
   ]
  },
  {
   "cell_type": "markdown",
   "metadata": {},
   "source": [
    "## 1. Create the first population set\n",
    "We randomly shuffle the cities N times where N=population_size"
   ]
  },
  {
   "cell_type": "code",
   "execution_count": 31,
   "metadata": {},
   "outputs": [
    {
     "data": {
      "text/plain": [
       "array([['Paris', 'Moscow', 'Munich', 'Vienna', 'Istanbul', 'Kyiv',\n",
       "        'Barcelona', 'Berlin', 'Rome', 'London'],\n",
       "       ['London', 'Paris', 'Rome', 'Istanbul', 'Berlin', 'Munich',\n",
       "        'Vienna', 'Barcelona', 'Moscow', 'Kyiv'],\n",
       "       ['Istanbul', 'Moscow', 'Paris', 'Munich', 'Barcelona', 'London',\n",
       "        'Kyiv', 'Berlin', 'Rome', 'Vienna'],\n",
       "       ['Berlin', 'Paris', 'Moscow', 'Vienna', 'Barcelona', 'Munich',\n",
       "        'Rome', 'London', 'Istanbul', 'Kyiv'],\n",
       "       ['Rome', 'Istanbul', 'London', 'Barcelona', 'Berlin', 'Paris',\n",
       "        'Moscow', 'Kyiv', 'Munich', 'Vienna'],\n",
       "       ['Moscow', 'Berlin', 'Rome', 'Kyiv', 'Istanbul', 'Vienna',\n",
       "        'Munich', 'Paris', 'London', 'Barcelona'],\n",
       "       ['Rome', 'Moscow', 'Munich', 'Berlin', 'Vienna', 'Barcelona',\n",
       "        'Paris', 'Istanbul', 'Kyiv', 'London'],\n",
       "       ['Paris', 'Moscow', 'Munich', 'Barcelona', 'Berlin', 'Istanbul',\n",
       "        'Kyiv', 'Vienna', 'London', 'Rome'],\n",
       "       ['London', 'Paris', 'Moscow', 'Rome', 'Barcelona', 'Munich',\n",
       "        'Kyiv', 'Vienna', 'Istanbul', 'Berlin'],\n",
       "       ['Barcelona', 'London', 'Rome', 'Paris', 'Istanbul', 'Vienna',\n",
       "        'Kyiv', 'Munich', 'Berlin', 'Moscow'],\n",
       "       ['Moscow', 'Rome', 'Paris', 'London', 'Munich', 'Berlin', 'Kyiv',\n",
       "        'Barcelona', 'Istanbul', 'Vienna'],\n",
       "       ['Munich', 'Berlin', 'London', 'Istanbul', 'Barcelona', 'Moscow',\n",
       "        'Rome', 'Paris', 'Kyiv', 'Vienna'],\n",
       "       ['Vienna', 'London', 'Barcelona', 'Istanbul', 'Munich', 'Paris',\n",
       "        'Rome', 'Kyiv', 'Berlin', 'Moscow'],\n",
       "       ['Rome', 'Munich', 'Istanbul', 'Barcelona', 'Paris', 'London',\n",
       "        'Berlin', 'Moscow', 'Kyiv', 'Vienna'],\n",
       "       ['London', 'Istanbul', 'Paris', 'Moscow', 'Kyiv', 'Munich',\n",
       "        'Rome', 'Barcelona', 'Berlin', 'Vienna'],\n",
       "       ['Istanbul', 'Berlin', 'Rome', 'London', 'Kyiv', 'Paris',\n",
       "        'Munich', 'Moscow', 'Vienna', 'Barcelona'],\n",
       "       ['Berlin', 'Moscow', 'London', 'Kyiv', 'Munich', 'Vienna',\n",
       "        'Barcelona', 'Paris', 'Rome', 'Istanbul'],\n",
       "       ['London', 'Moscow', 'Munich', 'Rome', 'Istanbul', 'Paris',\n",
       "        'Berlin', 'Barcelona', 'Vienna', 'Kyiv'],\n",
       "       ['Munich', 'Kyiv', 'London', 'Vienna', 'Paris', 'Moscow',\n",
       "        'Berlin', 'Rome', 'Barcelona', 'Istanbul'],\n",
       "       ['Paris', 'Munich', 'Rome', 'Vienna', 'Kyiv', 'Istanbul',\n",
       "        'Barcelona', 'London', 'Moscow', 'Berlin'],\n",
       "       ['Vienna', 'Rome', 'Munich', 'Kyiv', 'Moscow', 'London', 'Paris',\n",
       "        'Istanbul', 'Barcelona', 'Berlin'],\n",
       "       ['Kyiv', 'Vienna', 'Rome', 'Barcelona', 'Paris', 'London',\n",
       "        'Istanbul', 'Moscow', 'Berlin', 'Munich'],\n",
       "       ['Barcelona', 'Vienna', 'Kyiv', 'Munich', 'London', 'Paris',\n",
       "        'Moscow', 'Istanbul', 'Berlin', 'Rome'],\n",
       "       ['Munich', 'London', 'Rome', 'Berlin', 'Kyiv', 'Moscow',\n",
       "        'Istanbul', 'Barcelona', 'Vienna', 'Paris'],\n",
       "       ['Vienna', 'Kyiv', 'Berlin', 'Istanbul', 'Moscow', 'Paris',\n",
       "        'London', 'Barcelona', 'Rome', 'Munich'],\n",
       "       ['Rome', 'Berlin', 'London', 'Kyiv', 'Vienna', 'Istanbul',\n",
       "        'Munich', 'Barcelona', 'Moscow', 'Paris'],\n",
       "       ['Paris', 'London', 'Kyiv', 'Rome', 'Berlin', 'Istanbul',\n",
       "        'Vienna', 'Munich', 'Barcelona', 'Moscow'],\n",
       "       ['Vienna', 'Rome', 'Kyiv', 'London', 'Paris', 'Istanbul',\n",
       "        'Barcelona', 'Moscow', 'Berlin', 'Munich'],\n",
       "       ['Istanbul', 'Paris', 'Rome', 'Munich', 'Berlin', 'London',\n",
       "        'Barcelona', 'Vienna', 'Moscow', 'Kyiv'],\n",
       "       ['Munich', 'London', 'Barcelona', 'Vienna', 'Paris', 'Kyiv',\n",
       "        'Moscow', 'Istanbul', 'Rome', 'Berlin'],\n",
       "       ['Rome', 'London', 'Vienna', 'Kyiv', 'Istanbul', 'Berlin',\n",
       "        'Paris', 'Munich', 'Barcelona', 'Moscow'],\n",
       "       ['Rome', 'Berlin', 'London', 'Vienna', 'Moscow', 'Istanbul',\n",
       "        'Kyiv', 'Munich', 'Paris', 'Barcelona'],\n",
       "       ['Kyiv', 'Berlin', 'Barcelona', 'Munich', 'Vienna', 'Paris',\n",
       "        'London', 'Rome', 'Istanbul', 'Moscow'],\n",
       "       ['London', 'Paris', 'Moscow', 'Vienna', 'Rome', 'Munich', 'Kyiv',\n",
       "        'Berlin', 'Barcelona', 'Istanbul'],\n",
       "       ['Istanbul', 'Vienna', 'Rome', 'London', 'Paris', 'Moscow',\n",
       "        'Barcelona', 'Munich', 'Kyiv', 'Berlin'],\n",
       "       ['Barcelona', 'Berlin', 'London', 'Munich', 'Vienna', 'Istanbul',\n",
       "        'Moscow', 'Rome', 'Kyiv', 'Paris'],\n",
       "       ['Istanbul', 'London', 'Paris', 'Vienna', 'Moscow', 'Munich',\n",
       "        'Barcelona', 'Rome', 'Kyiv', 'Berlin'],\n",
       "       ['Moscow', 'Vienna', 'Istanbul', 'London', 'Rome', 'Paris',\n",
       "        'Munich', 'Barcelona', 'Kyiv', 'Berlin'],\n",
       "       ['Paris', 'London', 'Barcelona', 'Kyiv', 'Vienna', 'Berlin',\n",
       "        'Munich', 'Rome', 'Istanbul', 'Moscow'],\n",
       "       ['Paris', 'London', 'Moscow', 'Istanbul', 'Kyiv', 'Munich',\n",
       "        'Rome', 'Vienna', 'Barcelona', 'Berlin'],\n",
       "       ['Berlin', 'Barcelona', 'Rome', 'Moscow', 'Munich', 'Paris',\n",
       "        'Vienna', 'Kyiv', 'Istanbul', 'London'],\n",
       "       ['Istanbul', 'Berlin', 'Barcelona', 'Rome', 'Munich', 'Moscow',\n",
       "        'Kyiv', 'Vienna', 'Paris', 'London'],\n",
       "       ['Kyiv', 'Barcelona', 'Vienna', 'London', 'Rome', 'Paris',\n",
       "        'Moscow', 'Istanbul', 'Berlin', 'Munich'],\n",
       "       ['Paris', 'Vienna', 'Munich', 'Kyiv', 'Istanbul', 'Barcelona',\n",
       "        'Rome', 'Berlin', 'London', 'Moscow'],\n",
       "       ['London', 'Istanbul', 'Rome', 'Moscow', 'Kyiv', 'Vienna',\n",
       "        'Paris', 'Munich', 'Berlin', 'Barcelona'],\n",
       "       ['Rome', 'Barcelona', 'Istanbul', 'Berlin', 'Moscow', 'Paris',\n",
       "        'Vienna', 'Munich', 'Kyiv', 'London'],\n",
       "       ['Istanbul', 'Rome', 'Munich', 'Vienna', 'Moscow', 'London',\n",
       "        'Barcelona', 'Berlin', 'Kyiv', 'Paris'],\n",
       "       ['Paris', 'Berlin', 'London', 'Moscow', 'Istanbul', 'Vienna',\n",
       "        'Kyiv', 'Barcelona', 'Rome', 'Munich'],\n",
       "       ['Berlin', 'Istanbul', 'Paris', 'Munich', 'London', 'Rome',\n",
       "        'Kyiv', 'Vienna', 'Moscow', 'Barcelona'],\n",
       "       ['Istanbul', 'Rome', 'Paris', 'London', 'Barcelona', 'Kyiv',\n",
       "        'Vienna', 'Munich', 'Berlin', 'Moscow']], dtype='<U10')"
      ]
     },
     "execution_count": 31,
     "metadata": {},
     "output_type": "execute_result"
    }
   ],
   "source": [
    "# First step: Create the first population set\n",
    "def genesis(city_list, n_population):\n",
    "\n",
    "    population_set = []\n",
    "    for i in range(n_population):\n",
    "        #Randomly generating a new solution\n",
    "        sol_i = city_list[np.random.choice(list(range(n_cities)), n_cities, replace=False)]\n",
    "        population_set.append(sol_i)\n",
    "    return np.array(population_set)\n",
    "\n",
    "population_set = genesis(names_list, n_population)\n",
    "population_set"
   ]
  },
  {
   "cell_type": "markdown",
   "metadata": {},
   "source": [
    "## 2. Evaluate solutions fitness\n",
    "The solutions are defined so that the first element on the list is the first city to visit, then the second, etc. and the last city is linked to the first.\n",
    "The fitness function needs to compute the distance between subsequent cities."
   ]
  },
  {
   "cell_type": "code",
   "execution_count": 32,
   "metadata": {},
   "outputs": [],
   "source": [
    "def fitness_eval(city_list, cities_dict):\n",
    "    total = 0\n",
    "    for i in range(n_cities-1):\n",
    "        a = city_list[i]\n",
    "        b = city_list[i+1]\n",
    "        total += compute_city_distance_names(a,b, cities_dict)\n",
    "    return total"
   ]
  },
  {
   "cell_type": "code",
   "execution_count": 33,
   "metadata": {},
   "outputs": [
    {
     "data": {
      "text/plain": [
       "array([522.52970267, 469.60269696, 566.11942763, 480.7206728 ,\n",
       "       550.46353712, 544.94596579, 482.51366134, 589.67149718,\n",
       "       449.72044868, 519.20066415, 377.50002842, 427.48137269,\n",
       "       559.68527211, 529.87048218, 545.24604435, 587.47283214,\n",
       "       534.0996141 , 532.99107675, 514.04081814, 529.49558456,\n",
       "       581.76796388, 487.47079148, 417.66050302, 459.77573976,\n",
       "       522.34269131, 475.79080568, 563.07978271, 457.06632134,\n",
       "       501.33154418, 464.68058387, 558.60944866, 545.15645543,\n",
       "       641.75999169, 508.67933815, 512.2732197 , 442.31871329,\n",
       "       590.90811204, 558.9673975 , 531.01322586, 513.64061364,\n",
       "       523.7942287 , 603.69218112, 466.90520883, 493.14868047,\n",
       "       510.24317637, 497.40800832, 651.17736945, 452.69562181,\n",
       "       483.87359979, 518.98568707])"
      ]
     },
     "execution_count": 33,
     "metadata": {},
     "output_type": "execute_result"
    }
   ],
   "source": [
    "def get_all_fitnes(population_set, cities_dict):\n",
    "    fitnes_list = np.zeros(len(population_set))\n",
    "\n",
    "    #Looping over all solutions computing the fitness for each solution\n",
    "    for i in  range(len(population_set)):\n",
    "        fitnes_list[i] = fitness_eval(population_set[i], cities_dict)\n",
    "\n",
    "    return fitnes_list\n",
    "\n",
    "fitnes_list = get_all_fitnes(population_set,cities_dict)\n",
    "fitnes_list"
   ]
  },
  {
   "cell_type": "markdown",
   "metadata": {},
   "source": [
    "# 3. Progenitors selection\n",
    "I will select a new set of progenitors using the Roulette Wheel Selection. Generates a list of progenitor pairs where N= len(population_set) but at each position there are two solutions to merge"
   ]
  },
  {
   "cell_type": "code",
   "execution_count": 34,
   "metadata": {},
   "outputs": [
    {
     "data": {
      "text/plain": [
       "array(['Istanbul', 'Berlin', 'Barcelona', 'Rome', 'Munich', 'Moscow',\n",
       "       'Kyiv', 'Vienna', 'Paris', 'London'], dtype='<U10')"
      ]
     },
     "execution_count": 34,
     "metadata": {},
     "output_type": "execute_result"
    }
   ],
   "source": [
    "# ORG\n",
    "def progenitor_selection(population_set,fitnes_list):\n",
    "    total_fit = fitnes_list.sum()\n",
    "    prob_list = fitnes_list/total_fit\n",
    "    \n",
    "    #Notice there is the chance that a progenitor. mates with oneself\n",
    "    progenitor_list_a = np.random.choice(list(range(len(population_set))), len(population_set),p=prob_list, replace=True)\n",
    "    progenitor_list_b = np.random.choice(list(range(len(population_set))), len(population_set),p=prob_list, replace=True)\n",
    "    \n",
    "    progenitor_list_a = population_set[progenitor_list_a]\n",
    "    progenitor_list_b = population_set[progenitor_list_b]\n",
    "    \n",
    "    \n",
    "    return np.array([progenitor_list_a,progenitor_list_b])\n",
    "\n",
    "\n",
    "progenitor_list = progenitor_selection(population_set,fitnes_list)\n",
    "progenitor_list[0][2]"
   ]
  },
  {
   "cell_type": "code",
   "execution_count": 35,
   "metadata": {},
   "outputs": [
    {
     "ename": "ValueError",
     "evalue": "'a' and 'p' must have same size",
     "output_type": "error",
     "traceback": [
      "\u001b[1;31m---------------------------------------------------------------------------\u001b[0m",
      "\u001b[1;31mValueError\u001b[0m                                Traceback (most recent call last)",
      "Cell \u001b[1;32mIn [35], line 19\u001b[0m\n\u001b[0;32m     13\u001b[0m     progenitor_list_b \u001b[38;5;241m=\u001b[39m population_set[progenitor_list_b]\n\u001b[0;32m     16\u001b[0m     \u001b[38;5;28;01mreturn\u001b[39;00m np\u001b[38;5;241m.\u001b[39marray([progenitor_list_a,progenitor_list_b])\n\u001b[1;32m---> 19\u001b[0m progenitor_list \u001b[38;5;241m=\u001b[39m \u001b[43mprogenitor_selection_by_rank\u001b[49m\u001b[43m(\u001b[49m\u001b[43mpopulation_set\u001b[49m\u001b[43m,\u001b[49m\u001b[43mfitnes_list\u001b[49m\u001b[43m,\u001b[49m\u001b[43m \u001b[49m\u001b[38;5;28;43mlen\u001b[39;49m\u001b[43m(\u001b[49m\u001b[43mpopulation_set\u001b[49m\u001b[43m)\u001b[49m\u001b[43m)\u001b[49m\n\u001b[0;32m     20\u001b[0m progenitor_list[\u001b[38;5;241m0\u001b[39m][\u001b[38;5;241m2\u001b[39m]\n",
      "Cell \u001b[1;32mIn [35], line 9\u001b[0m, in \u001b[0;36mprogenitor_selection_by_rank\u001b[1;34m(population_set, fitnes_list, n_pairs)\u001b[0m\n\u001b[0;32m      6\u001b[0m f \u001b[38;5;241m=\u001b[39m fitnes_list\u001b[38;5;241m.\u001b[39margsort()\n\u001b[0;32m      8\u001b[0m \u001b[38;5;66;03m#Notice there is the chance that a progenitor. mates with oneself\u001b[39;00m\n\u001b[1;32m----> 9\u001b[0m progenitor_list_a \u001b[38;5;241m=\u001b[39m \u001b[43mnp\u001b[49m\u001b[38;5;241;43m.\u001b[39;49m\u001b[43mrandom\u001b[49m\u001b[38;5;241;43m.\u001b[39;49m\u001b[43mchoice\u001b[49m\u001b[43m(\u001b[49m\u001b[43mf\u001b[49m\u001b[43m,\u001b[49m\u001b[43m \u001b[49m\u001b[43mn_pairs\u001b[49m\u001b[43m,\u001b[49m\u001b[43m \u001b[49m\u001b[43mp\u001b[49m\u001b[38;5;241;43m=\u001b[39;49m\u001b[43mprob_list\u001b[49m\u001b[43m,\u001b[49m\u001b[43m \u001b[49m\u001b[43mreplace\u001b[49m\u001b[38;5;241;43m=\u001b[39;49m\u001b[38;5;28;43;01mTrue\u001b[39;49;00m\u001b[43m)\u001b[49m\n\u001b[0;32m     10\u001b[0m progenitor_list_b \u001b[38;5;241m=\u001b[39m np\u001b[38;5;241m.\u001b[39mrandom\u001b[38;5;241m.\u001b[39mchoice(f, n_pairs, p\u001b[38;5;241m=\u001b[39mprob_list, replace\u001b[38;5;241m=\u001b[39m\u001b[38;5;28;01mTrue\u001b[39;00m)\n\u001b[0;32m     12\u001b[0m progenitor_list_a \u001b[38;5;241m=\u001b[39m population_set[progenitor_list_a]\n",
      "File \u001b[1;32mmtrand.pyx:932\u001b[0m, in \u001b[0;36mnumpy.random.mtrand.RandomState.choice\u001b[1;34m()\u001b[0m\n",
      "\u001b[1;31mValueError\u001b[0m: 'a' and 'p' must have same size"
     ]
    }
   ],
   "source": [
    "\n",
    "\n",
    "def progenitor_selection_by_rank(population_set, fitnes_list, n_pairs):\n",
    "    n = len(population_set)\n",
    "    rank_sum = n * (n + 1) / 2\n",
    "    prob_list = [i/rank_sum for i in range(1,101)][::-1]\n",
    "\n",
    "    f = fitnes_list.argsort()\n",
    "    \n",
    "    #Notice there is the chance that a progenitor. mates with oneself\n",
    "    progenitor_list_a = np.random.choice(f, n_pairs, p=prob_list, replace=True)\n",
    "    progenitor_list_b = np.random.choice(f, n_pairs, p=prob_list, replace=True)\n",
    "    \n",
    "    progenitor_list_a = population_set[progenitor_list_a]\n",
    "    progenitor_list_b = population_set[progenitor_list_b]\n",
    "    \n",
    "    \n",
    "    return np.array([progenitor_list_a,progenitor_list_b])\n",
    "\n",
    "\n",
    "progenitor_list = progenitor_selection_by_rank(population_set,fitnes_list, len(population_set))\n",
    "progenitor_list[0][2]"
   ]
  },
  {
   "cell_type": "markdown",
   "metadata": {},
   "source": [
    "# 4. Mating\n",
    "For each pair of  parents we'll generate an offspring pair. Since we cannot repeat cities what we'll do is copy a random chunk from one progenitor and fill the blanks with the other progenitor."
   ]
  },
  {
   "cell_type": "code",
   "execution_count": 25,
   "metadata": {},
   "outputs": [
    {
     "data": {
      "text/plain": [
       "array(['Warsaw', 'Amsterdam', 'London', 'Paris', 'Munich', 'Moscow',\n",
       "       'Budapest', 'Istanbul', 'Prague', 'Barcelona', 'Vienna',\n",
       "       'Brussels', 'Berlin', 'Rome', 'Minsk', 'Bucharest', 'Birmingham',\n",
       "       'Milan', 'Kyiv', 'Sofia'], dtype='<U10')"
      ]
     },
     "execution_count": 25,
     "metadata": {},
     "output_type": "execute_result"
    }
   ],
   "source": [
    "def mate_progenitors(prog_a, prog_b):\n",
    "    offspring = prog_a[0:5]\n",
    "\n",
    "    for city in prog_b:\n",
    "\n",
    "        if not city in offspring:\n",
    "            offspring = np.concatenate((offspring,[city]))\n",
    "\n",
    "    return offspring\n",
    "            \n",
    "    \n",
    "    \n",
    "def mate_population(progenitor_list):\n",
    "    new_population_set = []\n",
    "    for i in range(progenitor_list.shape[1]):\n",
    "        prog_a, prog_b = progenitor_list[0][i], progenitor_list[1][i]\n",
    "        offspring = mate_progenitors(prog_a, prog_b)\n",
    "        new_population_set.append(offspring)\n",
    "        \n",
    "    return new_population_set\n",
    "\n",
    "new_population_set = mate_population(progenitor_list)\n",
    "new_population_set[0]"
   ]
  },
  {
   "cell_type": "markdown",
   "metadata": {},
   "source": [
    "# 5. Mutation\n",
    "Now for each element of the new population we add a random chance of swapping"
   ]
  },
  {
   "cell_type": "code",
   "execution_count": 26,
   "metadata": {},
   "outputs": [
    {
     "data": {
      "text/plain": [
       "array(['Warsaw', 'Rome', 'Sofia', 'Paris', 'Amsterdam', 'Minsk',\n",
       "       'Barcelona', 'Istanbul', 'Prague', 'Munich', 'Vienna', 'Brussels',\n",
       "       'Berlin', 'Budapest', 'Moscow', 'Bucharest', 'Birmingham', 'Milan',\n",
       "       'Kyiv', 'London'], dtype='<U10')"
      ]
     },
     "execution_count": 26,
     "metadata": {},
     "output_type": "execute_result"
    }
   ],
   "source": [
    "def mutate_offspring(offspring):\n",
    "    for q in range(int(n_cities*mutation_rate)):\n",
    "        a = np.random.randint(0,n_cities)\n",
    "        b = np.random.randint(0,n_cities)\n",
    "\n",
    "        offspring[a], offspring[b] = offspring[b], offspring[a]\n",
    "\n",
    "    return offspring\n",
    "    \n",
    "    \n",
    "def mutate_population(new_population_set):\n",
    "    mutated_pop = []\n",
    "    for offspring in new_population_set:\n",
    "        mutated_pop.append(mutate_offspring(offspring))\n",
    "    return mutated_pop\n",
    "\n",
    "mutated_pop = mutate_population(new_population_set)\n",
    "mutated_pop[0]"
   ]
  },
  {
   "cell_type": "markdown",
   "metadata": {},
   "source": [
    "# 6. Stopping\n",
    "To select the stopping criteria we'll need to create a loop to stop first. Then I'll set it to loop at 1000 iterations."
   ]
  },
  {
   "cell_type": "code",
   "execution_count": 27,
   "metadata": {},
   "outputs": [
    {
     "name": "stdout",
     "output_type": "stream",
     "text": [
      "0 831.4911854722953 1012.7187535355878 15/01/23 14:55\n"
     ]
    },
    {
     "ename": "KeyboardInterrupt",
     "evalue": "",
     "output_type": "error",
     "traceback": [
      "\u001b[1;31m---------------------------------------------------------------------------\u001b[0m",
      "\u001b[1;31mKeyboardInterrupt\u001b[0m                         Traceback (most recent call last)",
      "Cell \u001b[1;32mIn [27], line 31\u001b[0m\n\u001b[0;32m     28\u001b[0m mutation_rate \u001b[38;5;241m=\u001b[39m i\u001b[38;5;241m/\u001b[39mn_gens\n\u001b[0;32m     30\u001b[0m progenitor_list \u001b[38;5;241m=\u001b[39m progenitor_selection_by_rank(population_set,fitnes_list, \u001b[38;5;28mlen\u001b[39m(population_set)\u001b[38;5;241m-\u001b[39m n_elitism)\n\u001b[1;32m---> 31\u001b[0m offspring \u001b[38;5;241m=\u001b[39m \u001b[43mmate_population\u001b[49m\u001b[43m(\u001b[49m\u001b[43mprogenitor_list\u001b[49m\u001b[43m)\u001b[49m\n\u001b[0;32m     33\u001b[0m mutated_pop2 \u001b[38;5;241m=\u001b[39m mutate_population(offspring)\n\u001b[0;32m     35\u001b[0m mutated_pop \u001b[38;5;241m=\u001b[39m np\u001b[38;5;241m.\u001b[39mconcatenate((np\u001b[38;5;241m.\u001b[39marray(mutated_pop)[fitnes_list\u001b[38;5;241m.\u001b[39margsort()[:n_elitism]],mutated_pop2[:\u001b[38;5;28mlen\u001b[39m(population_set)\u001b[38;5;241m-\u001b[39mn_elitism]))\n",
      "Cell \u001b[1;32mIn [25], line 17\u001b[0m, in \u001b[0;36mmate_population\u001b[1;34m(progenitor_list)\u001b[0m\n\u001b[0;32m     15\u001b[0m \u001b[38;5;28;01mfor\u001b[39;00m i \u001b[38;5;129;01min\u001b[39;00m \u001b[38;5;28mrange\u001b[39m(progenitor_list\u001b[38;5;241m.\u001b[39mshape[\u001b[38;5;241m1\u001b[39m]):\n\u001b[0;32m     16\u001b[0m     prog_a, prog_b \u001b[38;5;241m=\u001b[39m progenitor_list[\u001b[38;5;241m0\u001b[39m][i], progenitor_list[\u001b[38;5;241m1\u001b[39m][i]\n\u001b[1;32m---> 17\u001b[0m     offspring \u001b[38;5;241m=\u001b[39m \u001b[43mmate_progenitors\u001b[49m\u001b[43m(\u001b[49m\u001b[43mprog_a\u001b[49m\u001b[43m,\u001b[49m\u001b[43m \u001b[49m\u001b[43mprog_b\u001b[49m\u001b[43m)\u001b[49m\n\u001b[0;32m     18\u001b[0m     new_population_set\u001b[38;5;241m.\u001b[39mappend(offspring)\n\u001b[0;32m     20\u001b[0m \u001b[38;5;28;01mreturn\u001b[39;00m new_population_set\n",
      "Cell \u001b[1;32mIn [25], line 7\u001b[0m, in \u001b[0;36mmate_progenitors\u001b[1;34m(prog_a, prog_b)\u001b[0m\n\u001b[0;32m      4\u001b[0m \u001b[38;5;28;01mfor\u001b[39;00m city \u001b[38;5;129;01min\u001b[39;00m prog_b:\n\u001b[0;32m      6\u001b[0m     \u001b[38;5;28;01mif\u001b[39;00m \u001b[38;5;129;01mnot\u001b[39;00m city \u001b[38;5;129;01min\u001b[39;00m offspring:\n\u001b[1;32m----> 7\u001b[0m         offspring \u001b[38;5;241m=\u001b[39m \u001b[43mnp\u001b[49m\u001b[38;5;241;43m.\u001b[39;49m\u001b[43mconcatenate\u001b[49m\u001b[43m(\u001b[49m\u001b[43m(\u001b[49m\u001b[43moffspring\u001b[49m\u001b[43m,\u001b[49m\u001b[43m[\u001b[49m\u001b[43mcity\u001b[49m\u001b[43m]\u001b[49m\u001b[43m)\u001b[49m\u001b[43m)\u001b[49m\n\u001b[0;32m      9\u001b[0m \u001b[38;5;28;01mreturn\u001b[39;00m offspring\n",
      "File \u001b[1;32m<__array_function__ internals>:179\u001b[0m, in \u001b[0;36mconcatenate\u001b[1;34m(*args, **kwargs)\u001b[0m\n",
      "File \u001b[1;32m~\\AppData\\Local\\Programs\\Python\\Python311\\Lib\\site-packages\\numpy\\core\\multiarray.py:148\u001b[0m, in \u001b[0;36mconcatenate\u001b[1;34m(arrays, axis, out, dtype, casting)\u001b[0m\n\u001b[0;32m     82\u001b[0m     \u001b[38;5;124;03m\"\"\"\u001b[39;00m\n\u001b[0;32m     83\u001b[0m \u001b[38;5;124;03m    empty_like(prototype, dtype=None, order='K', subok=True, shape=None)\u001b[39;00m\n\u001b[0;32m     84\u001b[0m \n\u001b[1;32m   (...)\u001b[0m\n\u001b[0;32m    143\u001b[0m \n\u001b[0;32m    144\u001b[0m \u001b[38;5;124;03m    \"\"\"\u001b[39;00m\n\u001b[0;32m    145\u001b[0m     \u001b[38;5;28;01mreturn\u001b[39;00m (prototype,)\n\u001b[1;32m--> 148\u001b[0m \u001b[38;5;129m@array_function_from_c_func_and_dispatcher\u001b[39m(_multiarray_umath\u001b[38;5;241m.\u001b[39mconcatenate)\n\u001b[0;32m    149\u001b[0m \u001b[38;5;28;01mdef\u001b[39;00m \u001b[38;5;21mconcatenate\u001b[39m(arrays, axis\u001b[38;5;241m=\u001b[39m\u001b[38;5;28;01mNone\u001b[39;00m, out\u001b[38;5;241m=\u001b[39m\u001b[38;5;28;01mNone\u001b[39;00m, \u001b[38;5;241m*\u001b[39m, dtype\u001b[38;5;241m=\u001b[39m\u001b[38;5;28;01mNone\u001b[39;00m, casting\u001b[38;5;241m=\u001b[39m\u001b[38;5;28;01mNone\u001b[39;00m):\n\u001b[0;32m    150\u001b[0m     \u001b[38;5;124;03m\"\"\"\u001b[39;00m\n\u001b[0;32m    151\u001b[0m \u001b[38;5;124;03m    concatenate((a1, a2, ...), axis=0, out=None, dtype=None, casting=\"same_kind\")\u001b[39;00m\n\u001b[0;32m    152\u001b[0m \n\u001b[1;32m   (...)\u001b[0m\n\u001b[0;32m    240\u001b[0m \n\u001b[0;32m    241\u001b[0m \u001b[38;5;124;03m    \"\"\"\u001b[39;00m\n\u001b[0;32m    242\u001b[0m     \u001b[38;5;28;01mif\u001b[39;00m out \u001b[38;5;129;01mis\u001b[39;00m \u001b[38;5;129;01mnot\u001b[39;00m \u001b[38;5;28;01mNone\u001b[39;00m:\n\u001b[0;32m    243\u001b[0m         \u001b[38;5;66;03m# optimize for the typical case where only arrays is provided\u001b[39;00m\n",
      "\u001b[1;31mKeyboardInterrupt\u001b[0m: "
     ]
    }
   ],
   "source": [
    "best_solution = [-1,np.inf,np.array([])]\n",
    "\n",
    "n_elitism=1\n",
    "mutation_rate = 0.3\n",
    "\n",
    "n_gens = 10000\n",
    "\n",
    "for i in range(n_gens):\n",
    "    if i%100==0: print(i, fitnes_list.min(), fitnes_list.mean(), datetime.now().strftime(\"%d/%m/%y %H:%M\"))\n",
    "    \n",
    "    \n",
    "    if i == 0:\n",
    "        #Compute all fitness\n",
    "        fitnes_list = get_all_fitnes(mutated_pop,cities_dict)\n",
    "    else:\n",
    "        #Compute new fitness\n",
    "        fitnes_list2 = get_all_fitnes(mutated_pop2,cities_dict)\n",
    "        fitnes_list = np.concatenate((fitnes_list[fitnes_list.argsort()][:n_elitism],fitnes_list2))\n",
    "    \n",
    "    #Saving the best solution\n",
    "    if fitnes_list.min() < best_solution[1]:\n",
    "        best_solution[0] = i\n",
    "        best_solution[1] = fitnes_list.min()\n",
    "        best_solution[2] = np.array(mutated_pop)[fitnes_list.min() == fitnes_list]\n",
    "    \n",
    "    #This can be set as progressive elitism\n",
    "    n_elitism= min(len(new_population_set), int(np.log(i+1)))\n",
    "    mutation_rate = i/n_gens\n",
    "    \n",
    "    progenitor_list = progenitor_selection_by_rank(population_set,fitnes_list, len(population_set)- n_elitism)\n",
    "    offspring = mate_population(progenitor_list)\n",
    "    \n",
    "    mutated_pop2 = mutate_population(offspring)\n",
    "    \n",
    "    mutated_pop = np.concatenate((np.array(mutated_pop)[fitnes_list.argsort()[:n_elitism]],mutated_pop2[:len(population_set)-n_elitism]))\n",
    "    \n"
   ]
  },
  {
   "cell_type": "code",
   "execution_count": null,
   "metadata": {},
   "outputs": [],
   "source": [
    "#645"
   ]
  },
  {
   "cell_type": "code",
   "execution_count": null,
   "metadata": {},
   "outputs": [],
   "source": [
    "np.log(5000+1)**0.5"
   ]
  }
 ],
 "metadata": {
  "kernelspec": {
   "display_name": "Python 3 (ipykernel)",
   "language": "python",
   "name": "python3"
  },
  "language_info": {
   "codemirror_mode": {
    "name": "ipython",
    "version": 3
   },
   "file_extension": ".py",
   "mimetype": "text/x-python",
   "name": "python",
   "nbconvert_exporter": "python",
   "pygments_lexer": "ipython3",
   "version": "3.11.0"
  }
 },
 "nbformat": 4,
 "nbformat_minor": 4
}
