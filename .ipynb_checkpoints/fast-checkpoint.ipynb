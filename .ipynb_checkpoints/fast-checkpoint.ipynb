{
 "cells": [
  {
   "cell_type": "markdown",
   "metadata": {},
   "source": [
    "# Travelling Salesperson Problem solved using genetic algorithms"
   ]
  },
  {
   "cell_type": "code",
   "execution_count": 12,
   "metadata": {},
   "outputs": [],
   "source": [
    "# Imports \n",
    "import numpy as np\n",
    "import random\n",
    "\n",
    "np.random.seed(42)\n",
    "\n",
    "from datetime import datetime"
   ]
  },
  {
   "cell_type": "code",
   "execution_count": 13,
   "metadata": {},
   "outputs": [],
   "source": [
    "# Parameters\n",
    "n_cities = 20\n",
    "\n",
    "n_population = 100\n",
    "\n",
    "mutation_rate = 0.3"
   ]
  },
  {
   "cell_type": "code",
   "execution_count": 14,
   "metadata": {},
   "outputs": [
    {
     "data": {
      "text/plain": [
       "[[51, 1],\n",
       " [92, 63],\n",
       " [14, 59],\n",
       " [71, 20],\n",
       " [60, 32],\n",
       " [20, 75],\n",
       " [82, 57],\n",
       " [86, 21],\n",
       " [74, 88],\n",
       " [74, 48],\n",
       " [87, 90],\n",
       " [99, 58],\n",
       " [23, 41],\n",
       " [2, 91],\n",
       " [21, 59],\n",
       " [52, 79],\n",
       " [1, 14],\n",
       " [87, 61],\n",
       " [29, 61],\n",
       " [37, 46]]"
      ]
     },
     "execution_count": 14,
     "metadata": {},
     "output_type": "execute_result"
    }
   ],
   "source": [
    "# Generating a list of coordenades representing each city\n",
    "coordinates_list = [[x,y] for x,y in zip(np.random.randint(0,100,n_cities),np.random.randint(0,100,n_cities))]\n",
    "names_list = np.array(['Berlin', 'London', 'Moscow', 'Barcelona', 'Rome', 'Paris', 'Vienna', 'Munich', 'Istanbul', 'Kyiv', 'Bucharest', 'Minsk', 'Warsaw', 'Budapest', 'Milan', 'Prague', 'Sofia', 'Birmingham', 'Brussels', 'Amsterdam'])\n",
    "cities_dict = { x:y for x,y in zip(names_list,coordinates_list)}\n",
    "\n",
    "# Function to compute the distance between two points\n",
    "def compute_city_distance_coordinates(a,b):\n",
    "    return ((a[0]-b[0])**2+(a[1]-b[1])**2)**0.5\n",
    "\n",
    "def compute_city_distance_names(city_a, city_b, cities_dict):\n",
    "    return compute_city_distance_coordinates(cities_dict[city_a], cities_dict[city_b])\n",
    "\n",
    "coordinates_list"
   ]
  },
  {
   "cell_type": "markdown",
   "metadata": {},
   "source": [
    "## 1. Create the first population set\n",
    "We randomly shuffle the cities N times where N=population_size"
   ]
  },
  {
   "cell_type": "code",
   "execution_count": 4,
   "metadata": {},
   "outputs": [
    {
     "data": {
      "text/plain": [
       "array([['Prague', 'Munich', 'Budapest', ..., 'Moscow', 'Minsk',\n",
       "        'Brussels'],\n",
       "       ['Budapest', 'Prague', 'Rome', ..., 'Vienna', 'Milan', 'London'],\n",
       "       ['Moscow', 'Berlin', 'Paris', ..., 'London', 'Minsk',\n",
       "        'Birmingham'],\n",
       "       ...,\n",
       "       ['Budapest', 'Berlin', 'Milan', ..., 'Istanbul', 'Paris',\n",
       "        'Moscow'],\n",
       "       ['Bucharest', 'Warsaw', 'Minsk', ..., 'Barcelona', 'Prague',\n",
       "        'Amsterdam'],\n",
       "       ['Prague', 'Minsk', 'Berlin', ..., 'Barcelona', 'Budapest',\n",
       "        'Brussels']], dtype='<U10')"
      ]
     },
     "execution_count": 4,
     "metadata": {},
     "output_type": "execute_result"
    }
   ],
   "source": [
    "# First step: Create the first population set\n",
    "def genesis(city_list, n_population):\n",
    "\n",
    "    population_set = []\n",
    "    for i in range(n_population):\n",
    "        #Randomly generating a new solution\n",
    "        sol_i = city_list[np.random.choice(list(range(n_cities)), n_cities, replace=False)]\n",
    "        population_set.append(sol_i)\n",
    "    return np.array(population_set)\n",
    "\n",
    "population_set = genesis(names_list, n_population)\n",
    "population_set"
   ]
  },
  {
   "cell_type": "markdown",
   "metadata": {},
   "source": [
    "## 2. Evaluate solutions fitness\n",
    "The solutions are defined so that the first element on the list is the first city to visit, then the second, etc. and the last city is linked to the first.\n",
    "The fitness function needs to compute the distance between subsequent cities."
   ]
  },
  {
   "cell_type": "code",
   "execution_count": 5,
   "metadata": {},
   "outputs": [],
   "source": [
    "def fitness_eval(city_list, cities_dict):\n",
    "    total = 0\n",
    "    for i in range(n_cities-1):\n",
    "        a = city_list[i]\n",
    "        b = city_list[i+1]\n",
    "        total += compute_city_distance_names(a,b, cities_dict)\n",
    "    return total"
   ]
  },
  {
   "cell_type": "code",
   "execution_count": 6,
   "metadata": {},
   "outputs": [
    {
     "data": {
      "text/plain": [
       "array([1255.15287164, 1052.53607429,  965.51789891, 1036.36183177,\n",
       "        879.44027804, 1036.5560631 ,  937.30697091,  894.68193131,\n",
       "       1030.58421856, 1050.19970288, 1020.39604193, 1033.71475965,\n",
       "        903.75660497, 1147.30725354, 1124.82980456, 1008.61780339,\n",
       "        884.09179724, 1157.98023232,  947.90741993, 1019.47661627,\n",
       "        997.10745475,  912.05976107,  902.30648574, 1029.85026604,\n",
       "       1113.56434666,  838.92461468, 1003.97594363, 1003.49502143,\n",
       "        955.55361584,  979.03611426,  897.86346402, 1023.28164421,\n",
       "        999.59478622, 1076.50742562,  956.85293143,  908.07173724,\n",
       "        968.7582608 , 1080.75558082, 1015.45390227, 1018.88283913,\n",
       "        983.38406618, 1170.33698574, 1025.03223048,  981.16514434,\n",
       "       1004.66637234,  957.60798338,  945.20208566,  989.63711937,\n",
       "       1055.07742869,  906.24499451, 1028.06717304,  977.70047293,\n",
       "       1035.42410739,  831.49118547, 1086.49202813, 1092.85512369,\n",
       "        971.01347048,  985.35653284,  990.59069671,  957.52755616,\n",
       "       1083.38951509,  932.8377309 ,  964.34465471, 1027.08508898,\n",
       "       1023.30447974, 1070.45074259,  886.24702382, 1071.57415124,\n",
       "       1198.59320711, 1127.10664494, 1146.9326577 , 1049.36656176,\n",
       "       1020.98633455,  964.42161462, 1148.90590872, 1022.72818617,\n",
       "       1040.75498387,  930.92524357,  947.71175514,  976.87096685,\n",
       "        954.4326142 , 1117.89578561,  918.69608155, 1102.15358871,\n",
       "       1084.36208594, 1076.76111991,  998.2862856 ,  944.56851331,\n",
       "       1090.22990786, 1006.32376446,  917.8979875 ,  972.30392765,\n",
       "       1091.36848895, 1166.84002325,  957.3991611 ,  907.53402977,\n",
       "       1134.7843952 ,  949.59344756, 1090.22163921, 1112.49992555])"
      ]
     },
     "execution_count": 6,
     "metadata": {},
     "output_type": "execute_result"
    }
   ],
   "source": [
    "def get_all_fitnes(population_set, cities_dict):\n",
    "    fitnes_list = np.zeros(len(population_set))\n",
    "\n",
    "    #Looping over all solutions computing the fitness for each solution\n",
    "    for i in  range(len(population_set)):\n",
    "        fitnes_list[i] = fitness_eval(population_set[i], cities_dict)\n",
    "\n",
    "    return fitnes_list\n",
    "\n",
    "fitnes_list = get_all_fitnes(population_set,cities_dict)\n",
    "fitnes_list"
   ]
  },
  {
   "cell_type": "markdown",
   "metadata": {},
   "source": [
    "# 3. Progenitors selection\n",
    "I will select a new set of progenitors using the Roulette Wheel Selection. Generates a list of progenitor pairs where N= len(population_set) but at each position there are two solutions to merge"
   ]
  },
  {
   "cell_type": "code",
   "execution_count": 7,
   "metadata": {},
   "outputs": [
    {
     "data": {
      "text/plain": [
       "array(['Paris', 'Birmingham', 'Barcelona', 'Bucharest', 'Warsaw',\n",
       "       'Prague', 'Amsterdam', 'Rome', 'Brussels', 'Munich', 'Istanbul',\n",
       "       'Milan', 'Moscow', 'London', 'Berlin', 'Vienna', 'Budapest',\n",
       "       'Kyiv', 'Sofia', 'Minsk'], dtype='<U10')"
      ]
     },
     "execution_count": 7,
     "metadata": {},
     "output_type": "execute_result"
    }
   ],
   "source": [
    "# ORG\n",
    "def progenitor_selection(population_set,fitnes_list):\n",
    "    total_fit = fitnes_list.sum()\n",
    "    prob_list = fitnes_list/total_fit\n",
    "    \n",
    "    #Notice there is the chance that a progenitor. mates with oneself\n",
    "    progenitor_list_a = np.random.choice(list(range(len(population_set))), len(population_set),p=prob_list, replace=True)\n",
    "    progenitor_list_b = np.random.choice(list(range(len(population_set))), len(population_set),p=prob_list, replace=True)\n",
    "    \n",
    "    progenitor_list_a = population_set[progenitor_list_a]\n",
    "    progenitor_list_b = population_set[progenitor_list_b]\n",
    "    \n",
    "    \n",
    "    return np.array([progenitor_list_a,progenitor_list_b])\n",
    "\n",
    "\n",
    "progenitor_list = progenitor_selection(population_set,fitnes_list)\n",
    "progenitor_list[0][2]"
   ]
  },
  {
   "cell_type": "code",
   "execution_count": 8,
   "metadata": {},
   "outputs": [
    {
     "data": {
      "text/plain": [
       "array(['Rome', 'Barcelona', 'Birmingham', 'Kyiv', 'Brussels', 'Amsterdam',\n",
       "       'Paris', 'Istanbul', 'Milan', 'Bucharest', 'London', 'Vienna',\n",
       "       'Moscow', 'Minsk', 'Sofia', 'Prague', 'Budapest', 'Munich',\n",
       "       'Berlin', 'Warsaw'], dtype='<U10')"
      ]
     },
     "execution_count": 8,
     "metadata": {},
     "output_type": "execute_result"
    }
   ],
   "source": [
    "\n",
    "\n",
    "def progenitor_selection_by_rank(population_set, fitnes_list, n_pairs):\n",
    "    n = len(population_set)\n",
    "    rank_sum = n * (n + 1) / 2\n",
    "    prob_list = [i/rank_sum for i in range(1,101)][::-1]\n",
    "\n",
    "    f = fitnes_list.argsort()\n",
    "    \n",
    "    #Notice there is the chance that a progenitor. mates with oneself\n",
    "    progenitor_list_a = np.random.choice(f, n_pairs, p=prob_list, replace=True)\n",
    "    progenitor_list_b = np.random.choice(f, n_pairs, p=prob_list, replace=True)\n",
    "    \n",
    "    progenitor_list_a = population_set[progenitor_list_a]\n",
    "    progenitor_list_b = population_set[progenitor_list_b]\n",
    "    \n",
    "    \n",
    "    return np.array([progenitor_list_a,progenitor_list_b])\n",
    "\n",
    "\n",
    "progenitor_list = progenitor_selection_by_rank(population_set,fitnes_list, len(population_set))\n",
    "progenitor_list[0][2]"
   ]
  },
  {
   "cell_type": "markdown",
   "metadata": {},
   "source": [
    "# 4. Mating\n",
    "For each pair of  parents we'll generate an offspring pair. Since we cannot repeat cities what we'll do is copy a random chunk from one progenitor and fill the blanks with the other progenitor."
   ]
  },
  {
   "cell_type": "code",
   "execution_count": 9,
   "metadata": {},
   "outputs": [
    {
     "data": {
      "text/plain": [
       "array(['Warsaw', 'Amsterdam', 'London', 'Paris', 'Munich', 'Moscow',\n",
       "       'Budapest', 'Istanbul', 'Prague', 'Barcelona', 'Vienna',\n",
       "       'Brussels', 'Berlin', 'Rome', 'Minsk', 'Bucharest', 'Birmingham',\n",
       "       'Milan', 'Kyiv', 'Sofia'], dtype='<U10')"
      ]
     },
     "execution_count": 9,
     "metadata": {},
     "output_type": "execute_result"
    }
   ],
   "source": [
    "def mate_progenitors(prog_a, prog_b):\n",
    "    offspring = prog_a[0:5]\n",
    "\n",
    "    for city in prog_b:\n",
    "\n",
    "        if not city in offspring:\n",
    "            offspring = np.concatenate((offspring,[city]))\n",
    "\n",
    "    return offspring\n",
    "            \n",
    "    \n",
    "    \n",
    "def mate_population(progenitor_list):\n",
    "    new_population_set = []\n",
    "    for i in range(progenitor_list.shape[1]):\n",
    "        prog_a, prog_b = progenitor_list[0][i], progenitor_list[1][i]\n",
    "        offspring = mate_progenitors(prog_a, prog_b)\n",
    "        new_population_set.append(offspring)\n",
    "        \n",
    "    return new_population_set\n",
    "\n",
    "new_population_set = mate_population(progenitor_list)\n",
    "new_population_set[0]"
   ]
  },
  {
   "cell_type": "markdown",
   "metadata": {},
   "source": [
    "# 5. Mutation\n",
    "Now for each element of the new population we add a random chance of swapping"
   ]
  },
  {
   "cell_type": "code",
   "execution_count": 10,
   "metadata": {},
   "outputs": [
    {
     "data": {
      "text/plain": [
       "array(['Warsaw', 'Rome', 'Sofia', 'Paris', 'Amsterdam', 'Minsk',\n",
       "       'Barcelona', 'Istanbul', 'Prague', 'Munich', 'Vienna', 'Brussels',\n",
       "       'Berlin', 'Budapest', 'Moscow', 'Bucharest', 'Birmingham', 'Milan',\n",
       "       'Kyiv', 'London'], dtype='<U10')"
      ]
     },
     "execution_count": 10,
     "metadata": {},
     "output_type": "execute_result"
    }
   ],
   "source": [
    "def mutate_offspring(offspring):\n",
    "    for q in range(int(n_cities*mutation_rate)):\n",
    "        a = np.random.randint(0,n_cities)\n",
    "        b = np.random.randint(0,n_cities)\n",
    "\n",
    "        offspring[a], offspring[b] = offspring[b], offspring[a]\n",
    "\n",
    "    return offspring\n",
    "    \n",
    "    \n",
    "def mutate_population(new_population_set):\n",
    "    mutated_pop = []\n",
    "    for offspring in new_population_set:\n",
    "        mutated_pop.append(mutate_offspring(offspring))\n",
    "    return mutated_pop\n",
    "\n",
    "mutated_pop = mutate_population(new_population_set)\n",
    "mutated_pop[0]"
   ]
  },
  {
   "cell_type": "markdown",
   "metadata": {},
   "source": [
    "# 6. Stopping\n",
    "To select the stopping criteria we'll need to create a loop to stop first. Then I'll set it to loop at 1000 iterations."
   ]
  },
  {
   "cell_type": "code",
   "execution_count": 11,
   "metadata": {},
   "outputs": [
    {
     "name": "stdout",
     "output_type": "stream",
     "text": [
      "0 831.4911854722953 1012.7187535355878 15/01/23 01:25\n",
      "100 661.4915724246024 993.6564923658315 15/01/23 01:25\n",
      "200 661.4915724246024 980.0747835891316 15/01/23 01:25\n",
      "300 661.4915724246024 981.5789070068079 15/01/23 01:25\n",
      "400 661.4915724246024 1001.5336241903277 15/01/23 01:25\n",
      "500 661.4915724246024 993.5384419464183 15/01/23 01:25\n",
      "600 646.3105150486459 984.7515142534193 15/01/23 01:26\n",
      "700 646.3105150486459 998.1302579638342 15/01/23 01:26\n",
      "800 638.9280599096186 990.7301196348099 15/01/23 01:26\n",
      "900 638.9280599096186 994.3061309607273 15/01/23 01:26\n",
      "1000 638.9280599096186 992.9901610369521 15/01/23 01:26\n",
      "1100 638.9280599096186 979.0263126806727 15/01/23 01:26\n",
      "1200 638.9280599096186 985.1031180080256 15/01/23 01:26\n",
      "1300 638.9280599096186 976.9662498668615 15/01/23 01:26\n",
      "1400 638.9280599096186 985.4593800635975 15/01/23 01:26\n",
      "1500 638.9280599096186 988.3946599606028 15/01/23 01:26\n",
      "1600 638.9280599096186 979.7106617224927 15/01/23 01:26\n",
      "1700 638.9280599096186 995.3736670785231 15/01/23 01:26\n",
      "1800 638.9280599096186 978.1983839804566 15/01/23 01:26\n",
      "1900 638.9280599096186 1002.4877880593785 15/01/23 01:26\n",
      "2000 638.9280599096186 980.8745201944184 15/01/23 01:26\n",
      "2100 638.9280599096186 988.6021081612687 15/01/23 01:26\n",
      "2200 638.9280599096186 984.2242875475825 15/01/23 01:26\n",
      "2300 638.9280599096186 993.0569084082986 15/01/23 01:26\n",
      "2400 638.9280599096186 981.0827249794617 15/01/23 01:26\n",
      "2500 638.9280599096186 976.7032203400274 15/01/23 01:26\n",
      "2600 638.9280599096186 978.7830197910057 15/01/23 01:27\n",
      "2700 638.9280599096186 996.301187577114 15/01/23 01:27\n",
      "2800 638.9280599096186 971.7784495658203 15/01/23 01:27\n",
      "2900 638.9280599096186 977.6882293251592 15/01/23 01:27\n",
      "3000 628.5432508081348 981.4136780172039 15/01/23 01:27\n",
      "3100 628.5432508081348 967.9949837882876 15/01/23 01:27\n",
      "3200 628.5432508081348 970.1919242038026 15/01/23 01:27\n",
      "3300 628.5432508081348 984.7129949015253 15/01/23 01:27\n",
      "3400 628.5432508081348 986.3616528937397 15/01/23 01:27\n",
      "3500 628.5432508081348 979.4796205783123 15/01/23 01:27\n"
     ]
    },
    {
     "ename": "KeyboardInterrupt",
     "evalue": "",
     "output_type": "error",
     "traceback": [
      "\u001b[1;31m---------------------------------------------------------------------------\u001b[0m",
      "\u001b[1;31mKeyboardInterrupt\u001b[0m                         Traceback (most recent call last)",
      "Cell \u001b[1;32mIn[11], line 18\u001b[0m\n\u001b[0;32m     15\u001b[0m \u001b[38;5;28;01melse\u001b[39;00m:\n\u001b[0;32m     16\u001b[0m     \u001b[38;5;66;03m#Compute new fitness\u001b[39;00m\n\u001b[0;32m     17\u001b[0m     fitnes_list2 \u001b[38;5;241m=\u001b[39m get_all_fitnes(mutated_pop2,cities_dict)\n\u001b[1;32m---> 18\u001b[0m     fitnes_list \u001b[38;5;241m=\u001b[39m np\u001b[38;5;241m.\u001b[39mconcatenate((fitnes_list[fitnes_list\u001b[38;5;241m.\u001b[39margsort()][:n_elitism],fitnes_list2))\n\u001b[0;32m     20\u001b[0m \u001b[38;5;66;03m#Saving the best solution\u001b[39;00m\n\u001b[0;32m     21\u001b[0m \u001b[38;5;28;01mif\u001b[39;00m fitnes_list\u001b[38;5;241m.\u001b[39mmin() \u001b[38;5;241m<\u001b[39m best_solution[\u001b[38;5;241m1\u001b[39m]:\n",
      "\u001b[1;31mKeyboardInterrupt\u001b[0m: "
     ]
    }
   ],
   "source": [
    "best_solution = [-1,np.inf,np.array([])]\n",
    "\n",
    "n_elitism=1\n",
    "mutation_rate = 0.3\n",
    "\n",
    "n_gens = 10000\n",
    "\n",
    "for i in range(n_gens):\n",
    "    if i%100==0: print(i, fitnes_list.min(), fitnes_list.mean(), datetime.now().strftime(\"%d/%m/%y %H:%M\"))\n",
    "    \n",
    "    \n",
    "    if i == 0:\n",
    "        #Compute all fitness\n",
    "        fitnes_list = get_all_fitnes(mutated_pop,cities_dict)\n",
    "    else:\n",
    "        #Compute new fitness\n",
    "        fitnes_list2 = get_all_fitnes(mutated_pop2,cities_dict)\n",
    "        fitnes_list = np.concatenate((fitnes_list[fitnes_list.argsort()][:n_elitism],fitnes_list2))\n",
    "    \n",
    "    #Saving the best solution\n",
    "    if fitnes_list.min() < best_solution[1]:\n",
    "        best_solution[0] = i\n",
    "        best_solution[1] = fitnes_list.min()\n",
    "        best_solution[2] = np.array(mutated_pop)[fitnes_list.min() == fitnes_list]\n",
    "    \n",
    "    #This can be set as progressive elitism\n",
    "    n_elitism= min(len(new_population_set), int(np.log(i+1)))\n",
    "    mutation_rate = i/n_gens\n",
    "    \n",
    "    progenitor_list = progenitor_selection_by_rank(population_set,fitnes_list, len(population_set)- n_elitism)\n",
    "    offspring = mate_population(progenitor_list)\n",
    "    \n",
    "    mutated_pop2 = mutate_population(offspring)\n",
    "    \n",
    "    mutated_pop = np.concatenate((np.array(mutated_pop)[fitnes_list.argsort()[:n_elitism]],mutated_pop2[:len(population_set)-n_elitism]))\n",
    "    \n"
   ]
  },
  {
   "cell_type": "code",
   "execution_count": null,
   "metadata": {},
   "outputs": [],
   "source": [
    "#645"
   ]
  },
  {
   "cell_type": "code",
   "execution_count": null,
   "metadata": {},
   "outputs": [],
   "source": [
    "np.log(5000+1)**0.5"
   ]
  }
 ],
 "metadata": {
  "kernelspec": {
   "display_name": "Python 3 (ipykernel)",
   "language": "python",
   "name": "python3"
  },
  "language_info": {
   "codemirror_mode": {
    "name": "ipython",
    "version": 3
   },
   "file_extension": ".py",
   "mimetype": "text/x-python",
   "name": "python",
   "nbconvert_exporter": "python",
   "pygments_lexer": "ipython3",
   "version": "3.11.1"
  }
 },
 "nbformat": 4,
 "nbformat_minor": 4
}
