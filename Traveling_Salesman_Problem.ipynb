{
 "cells": [
  {
   "cell_type": "markdown",
   "metadata": {
    "id": "AeNkytBxOxQX"
   },
   "source": [
    "# Travelling Salesperson Problem solved using genetic algorithms"
   ]
  },
  {
   "cell_type": "code",
   "execution_count": 48,
   "metadata": {
    "executionInfo": {
     "elapsed": 409,
     "status": "ok",
     "timestamp": 1673520743809,
     "user": {
      "displayName": "Mohammed EL-Boukri",
      "userId": "09133861228848981695"
     },
     "user_tz": -60
    },
    "id": "bcB2mhC_OxQm"
   },
   "outputs": [],
   "source": [
    "# Imports \n",
    "import numpy as np\n",
    "import random\n",
    "import pandas as pd\n",
    "from geopy import distance,geocoders,Nominatim # to calculate distance on the surface\n",
    "import folium\n",
    "from datetime import datetime"
   ]
  },
  {
   "cell_type": "code",
   "execution_count": 49,
   "metadata": {
    "id": "RlIwCRIlOxQu"
   },
   "outputs": [],
   "source": [
    "# Parameters\n",
    "n_cities = 15\n",
    "\n",
    "n_population = 50\n",
    "\n",
    "mutation_rate = 0.3\n",
    "\n",
    "df = pd.read_csv('output.csv')"
   ]
  },
  {
   "cell_type": "code",
   "execution_count": 50,
   "metadata": {
    "colab": {
     "base_uri": "https://localhost:8080/"
    },
    "executionInfo": {
     "elapsed": 9,
     "status": "ok",
     "timestamp": 1673519873823,
     "user": {
      "displayName": "Mohammed EL-Boukri",
      "userId": "09133861228848981695"
     },
     "user_tz": -60
    },
    "id": "B9RITKvqOxQw",
    "outputId": "a8856c80-8e17-48c5-de48-0119f1ae32bb"
   },
   "outputs": [
    {
     "data": {
      "text/plain": [
       "{'24 Rue Tiquetonne': [48.8646943, 2.3485383],\n",
       " '4 Boulevard de Grenelle': [48.8540376, 2.2888741],\n",
       " '5 Rue Audran': [48.8851871, 2.3358188],\n",
       " '85 Boulevard de Sebastopol': [48.8648771, 2.3515534],\n",
       " '2 Rue du Faubourg Saint-Honore': [48.8685293, 2.3230081],\n",
       " '31 Avenue Secretan': [48.8813911, 2.3732117],\n",
       " '124 Rue du Faubourg Saint-Honore': [48.8721214, 2.3132623],\n",
       " \"30 Avenue d'Italie\": [48.830242850000005, 2.355210601316469],\n",
       " '43 Avenue de Clichy': [48.8869589, 2.3256654],\n",
       " '38 Rue Balard': [48.8428844, 2.2773907],\n",
       " '15 Rue Cail': [48.8826982, 2.360298],\n",
       " '79 Rue Lamarck': [48.8902312, 2.3362593],\n",
       " '14 Rue Papillon': [48.876317, 2.3471531],\n",
       " '138 Boulevard de la Villette': [48.8788385, 2.3705586],\n",
       " '55 Rue des Vinaigriers': [48.8731803, 2.3597091]}"
      ]
     },
     "execution_count": 50,
     "metadata": {},
     "output_type": "execute_result"
    }
   ],
   "source": [
    "# Generating a list of coordenades representing each city\n",
    "geolocator = geocoders.Nominatim(user_agent=\"my_email@myserver.com\")\n",
    "coordinates_list=[]\n",
    "names_list = np.array(df['Street'].head(n_cities))\n",
    "for city in names_list:\n",
    "    location = geolocator.geocode(city)\n",
    "    coordinates_list.append(list((location.latitude, location.longitude)))\n",
    "    \n",
    "cities_dict = { x:y for x,y in zip(names_list,coordinates_list)}\n",
    "\n",
    "# Function to compute the distance between two points\n",
    "def compute_city_distance_coordinates(a,b):\n",
    "    return distance.distance((a[0], a[1]), (b[0],b[1])).km\n",
    "\n",
    "def compute_city_distance_names(city_a, city_b, cities_dict):\n",
    "    return compute_city_distance_coordinates(cities_dict[city_a], cities_dict[city_b])\n",
    "\n",
    "cities_dict"
   ]
  },
  {
   "cell_type": "markdown",
   "metadata": {
    "id": "Kup6XCy6OxQ1"
   },
   "source": [
    "## 1. Create the first population set\n",
    "We randomly shuffle the cities N times where N=population_size"
   ]
  },
  {
   "cell_type": "code",
   "execution_count": 51,
   "metadata": {
    "id": "Gfh5ENNzOxQ3"
   },
   "outputs": [],
   "source": [
    "# First step: Create the first population set\n",
    "def genesis(city_list, n_population):\n",
    "\n",
    "    population_set = []\n",
    "    for i in range(n_population):\n",
    "        #Randomly generating a new solution\n",
    "        sol_i = city_list[np.random.choice(list(range(n_cities)), n_cities, replace=False)]\n",
    "        population_set.append(sol_i)\n",
    "    return np.array(population_set)\n",
    "\n",
    "population_set = genesis(names_list, n_population)\n",
    "# population_set"
   ]
  },
  {
   "cell_type": "markdown",
   "metadata": {
    "id": "2kgBecMHOxQ6"
   },
   "source": [
    "## 2. Evaluate solutions fitness\n",
    "The solutions are defined so that the first element on the list is the first city to visit, then the second, etc. and the last city is linked to the first.\n",
    "The fitness function needs to compute the distance between subsequent cities."
   ]
  },
  {
   "cell_type": "code",
   "execution_count": 52,
   "metadata": {
    "id": "LfFgr8LWOxQ-"
   },
   "outputs": [],
   "source": [
    "def fitness_eval(city_list, cities_dict):\n",
    "    total = 0\n",
    "    for i in range(n_cities-1):\n",
    "        a = city_list[i]\n",
    "        b = city_list[i+1]\n",
    "        total += compute_city_distance_names(a,b, cities_dict)\n",
    "    return total"
   ]
  },
  {
   "cell_type": "code",
   "execution_count": 53,
   "metadata": {
    "colab": {
     "base_uri": "https://localhost:8080/"
    },
    "executionInfo": {
     "elapsed": 10,
     "status": "ok",
     "timestamp": 1673519874299,
     "user": {
      "displayName": "Mohammed EL-Boukri",
      "userId": "09133861228848981695"
     },
     "user_tz": -60
    },
    "id": "yNl6ZIF8OxRA",
    "outputId": "c9bdafeb-e483-4814-c620-619b9347dafb"
   },
   "outputs": [
    {
     "data": {
      "text/plain": [
       "array([36.11372239, 44.50310372, 41.00454377, 45.91905567, 41.91509519,\n",
       "       55.53559009, 49.36737738, 48.15736603, 40.25252874, 48.16156143,\n",
       "       44.09319485, 48.27328643, 52.54841799, 42.75144544, 53.21917539,\n",
       "       44.67091187, 51.65419162, 47.57268014, 45.59581285, 45.70315969,\n",
       "       42.95533695, 49.92403786, 50.44462368, 53.22999004, 46.62731551,\n",
       "       37.79032247, 51.31082564, 42.90949672, 52.80546389, 53.17104846,\n",
       "       44.86813091, 47.96207944, 45.16757665, 42.89772768, 46.6505741 ,\n",
       "       47.19266766, 40.59702494, 52.22453166, 46.63156196, 48.41765155,\n",
       "       42.60294194, 52.72852296, 46.53536865, 38.85976533, 53.64642205,\n",
       "       47.27422998, 45.56557062, 47.67899059, 47.0499439 , 42.96315317])"
      ]
     },
     "execution_count": 53,
     "metadata": {},
     "output_type": "execute_result"
    }
   ],
   "source": [
    "def get_all_fitnes(population_set, cities_dict):\n",
    "    fitnes_list = np.zeros(n_population)\n",
    "\n",
    "    #Looping over all solutions computing the fitness for each solution\n",
    "    for i in  range(n_population):\n",
    "        fitnes_list[i] = fitness_eval(population_set[i], cities_dict)\n",
    "\n",
    "    return fitnes_list\n",
    "\n",
    "fitnes_list = get_all_fitnes(population_set,cities_dict)\n",
    "fitnes_list"
   ]
  },
  {
   "cell_type": "markdown",
   "metadata": {
    "id": "kxXKdA7nOxRC"
   },
   "source": [
    "# 3. Progenitors selection\n",
    "I will select a new set of progenitors using the Roulette Wheel Selection. Generates a list of progenitor pairs where N= len(population_set) but at each position there are two solutions to merge"
   ]
  },
  {
   "cell_type": "code",
   "execution_count": 54,
   "metadata": {
    "colab": {
     "base_uri": "https://localhost:8080/"
    },
    "executionInfo": {
     "elapsed": 9,
     "status": "ok",
     "timestamp": 1673519874299,
     "user": {
      "displayName": "Mohammed EL-Boukri",
      "userId": "09133861228848981695"
     },
     "user_tz": -60
    },
    "id": "MIJbZrCbOxRD",
    "outputId": "2d9abcd7-e4a6-43ff-fc42-e560650dec52"
   },
   "outputs": [
    {
     "data": {
      "text/plain": [
       "array(['31 Avenue Secretan', '4 Boulevard de Grenelle', '14 Rue Papillon',\n",
       "       '85 Boulevard de Sebastopol', '2 Rue du Faubourg Saint-Honore',\n",
       "       '24 Rue Tiquetonne', \"30 Avenue d'Italie\",\n",
       "       '138 Boulevard de la Villette', '124 Rue du Faubourg Saint-Honore',\n",
       "       '79 Rue Lamarck', '5 Rue Audran', '38 Rue Balard',\n",
       "       '43 Avenue de Clichy', '55 Rue des Vinaigriers', '15 Rue Cail'],\n",
       "      dtype=object)"
      ]
     },
     "execution_count": 54,
     "metadata": {},
     "output_type": "execute_result"
    }
   ],
   "source": [
    "def progenitor_selection(population_set,fitnes_list):\n",
    "    total_fit = fitnes_list.sum()\n",
    "    prob_list = fitnes_list/total_fit\n",
    "    \n",
    "    #Notice there is the chance that a progenitor. mates with oneself\n",
    "    progenitor_list_a = np.random.choice(list(range(len(population_set))), len(population_set),p=prob_list, replace=True)\n",
    "    progenitor_list_b = np.random.choice(list(range(len(population_set))), len(population_set),p=prob_list, replace=True)\n",
    "    \n",
    "    progenitor_list_a = population_set[progenitor_list_a]\n",
    "    progenitor_list_b = population_set[progenitor_list_b]\n",
    "    \n",
    "    \n",
    "    return np.array([progenitor_list_a,progenitor_list_b])\n",
    "\n",
    "\n",
    "progenitor_list = progenitor_selection(population_set,fitnes_list)\n",
    "progenitor_list[0][2]"
   ]
  },
  {
   "cell_type": "markdown",
   "metadata": {
    "id": "actj67WUOxRE"
   },
   "source": [
    "# 4. Mating\n",
    "For each pair of  parents we'll generate an offspring pair. Since we cannot repeat cities what we'll do is copy a random chunk from one progenitor and fill the blanks with the other progenitor."
   ]
  },
  {
   "cell_type": "code",
   "execution_count": 55,
   "metadata": {
    "colab": {
     "base_uri": "https://localhost:8080/"
    },
    "executionInfo": {
     "elapsed": 1265,
     "status": "ok",
     "timestamp": 1673519893506,
     "user": {
      "displayName": "Mohammed EL-Boukri",
      "userId": "09133861228848981695"
     },
     "user_tz": -60
    },
    "id": "yv50iZSMOxRF",
    "outputId": "fbd5ba83-9fbc-4a4c-c628-44bd2b33fc7d"
   },
   "outputs": [
    {
     "data": {
      "text/plain": [
       "array(['24 Rue Tiquetonne', '2 Rue du Faubourg Saint-Honore',\n",
       "       '38 Rue Balard', '15 Rue Cail', \"30 Avenue d'Italie\",\n",
       "       '124 Rue du Faubourg Saint-Honore', '43 Avenue de Clichy',\n",
       "       '79 Rue Lamarck', '4 Boulevard de Grenelle',\n",
       "       '85 Boulevard de Sebastopol', '138 Boulevard de la Villette',\n",
       "       '55 Rue des Vinaigriers', '5 Rue Audran', '14 Rue Papillon',\n",
       "       '31 Avenue Secretan'], dtype=object)"
      ]
     },
     "execution_count": 55,
     "metadata": {},
     "output_type": "execute_result"
    }
   ],
   "source": [
    "def mate_progenitors(prog_a, prog_b):\n",
    "    offspring = prog_a[0:5]\n",
    "\n",
    "    for city in prog_b:\n",
    "\n",
    "        if not city in offspring:\n",
    "            offspring = np.concatenate((offspring,[city]))\n",
    "\n",
    "    return offspring\n",
    "            \n",
    "    \n",
    "    \n",
    "def mate_population(progenitor_list):\n",
    "    new_population_set = []\n",
    "    for i in range(progenitor_list.shape[1]):\n",
    "        prog_a, prog_b = progenitor_list[0][i], progenitor_list[1][i]\n",
    "        offspring = mate_progenitors(prog_a, prog_b)\n",
    "        new_population_set.append(offspring)\n",
    "        \n",
    "    return new_population_set\n",
    "\n",
    "new_population_set = mate_population(progenitor_list)\n",
    "new_population_set[0]"
   ]
  },
  {
   "cell_type": "markdown",
   "metadata": {
    "id": "4SsYjUEeOxRG"
   },
   "source": [
    "# 5. Mutation\n",
    "Now for each element of the new population we add a random chance of swapping"
   ]
  },
  {
   "cell_type": "code",
   "execution_count": 56,
   "metadata": {
    "colab": {
     "base_uri": "https://localhost:8080/"
    },
    "executionInfo": {
     "elapsed": 8,
     "status": "ok",
     "timestamp": 1673519893835,
     "user": {
      "displayName": "Mohammed EL-Boukri",
      "userId": "09133861228848981695"
     },
     "user_tz": -60
    },
    "id": "xRH8AYy6OxRH",
    "outputId": "3bfec81e-bc4f-4920-8069-c9105e7cb3ac"
   },
   "outputs": [
    {
     "data": {
      "text/plain": [
       "array(['24 Rue Tiquetonne', '138 Boulevard de la Villette',\n",
       "       '38 Rue Balard', '14 Rue Papillon', \"30 Avenue d'Italie\",\n",
       "       '2 Rue du Faubourg Saint-Honore', '43 Avenue de Clichy',\n",
       "       '79 Rue Lamarck', '4 Boulevard de Grenelle',\n",
       "       '85 Boulevard de Sebastopol', '124 Rue du Faubourg Saint-Honore',\n",
       "       '55 Rue des Vinaigriers', '5 Rue Audran', '15 Rue Cail',\n",
       "       '31 Avenue Secretan'], dtype=object)"
      ]
     },
     "execution_count": 56,
     "metadata": {},
     "output_type": "execute_result"
    }
   ],
   "source": [
    "def mutate_offspring(offspring):\n",
    "    for q in range(int(n_cities*mutation_rate)):\n",
    "        a = np.random.randint(0,n_cities)\n",
    "        b = np.random.randint(0,n_cities)\n",
    "\n",
    "        offspring[a], offspring[b] = offspring[b], offspring[a]\n",
    "\n",
    "    return offspring\n",
    "    \n",
    "    \n",
    "def mutate_population(new_population_set):\n",
    "    mutated_pop = []\n",
    "    for offspring in new_population_set:\n",
    "        mutated_pop.append(mutate_offspring(offspring))\n",
    "    return mutated_pop\n",
    "\n",
    "mutated_pop = mutate_population(new_population_set)\n",
    "mutated_pop[0]"
   ]
  },
  {
   "cell_type": "markdown",
   "metadata": {
    "id": "4Mq6MDo_OxRI"
   },
   "source": [
    "# 6. Stopping\n",
    "To select the stopping criteria we'll need to create a loop to stop first. Then I'll set it to loop at 1000 iterations."
   ]
  },
  {
   "cell_type": "code",
   "execution_count": 57,
   "metadata": {
    "colab": {
     "base_uri": "https://localhost:8080/"
    },
    "executionInfo": {
     "elapsed": 105509,
     "status": "ok",
     "timestamp": 1673519999338,
     "user": {
      "displayName": "Mohammed EL-Boukri",
      "userId": "09133861228848981695"
     },
     "user_tz": -60
    },
    "id": "UFvuMUYCOxRJ",
    "outputId": "93af90b0-9091-4b12-df13-9cef37646174"
   },
   "outputs": [
    {
     "name": "stdout",
     "output_type": "stream",
     "text": [
      "0 36.113722385618466 46.713902352517636 14/01/23 01:17\n",
      "100 37.9766875100764 47.89663690767136 14/01/23 01:18\n",
      "200 34.577128398588265 47.40704206130121 14/01/23 01:18\n",
      "300 31.586464568501984 47.123947498580904 14/01/23 01:19\n",
      "400 31.032961896181284 47.72987136149919 14/01/23 01:19\n",
      "500 37.350786662783094 48.305675034094776 14/01/23 01:20\n",
      "600 36.908884336149754 47.413981563791396 14/01/23 01:20\n",
      "700 32.86148944768271 47.587926514691226 14/01/23 01:21\n",
      "800 40.71064429394387 47.5078252923556 14/01/23 01:22\n",
      "900 38.41505506377549 47.25323007254652 14/01/23 01:22\n"
     ]
    }
   ],
   "source": [
    "best_solution = [-1,np.inf,np.array([])]\n",
    "for i in range(1000):\n",
    "    if i%100==0: print(i, fitnes_list.min(), fitnes_list.mean(), datetime.now().strftime(\"%d/%m/%y %H:%M\"))\n",
    "    fitnes_list = get_all_fitnes(mutated_pop,cities_dict)\n",
    "    \n",
    "    #Saving the best solution\n",
    "    if fitnes_list.min() < best_solution[1]:\n",
    "        best_solution[0] = i\n",
    "        best_solution[1] = fitnes_list.min()\n",
    "        best_solution[2] = np.array(mutated_pop)[fitnes_list.min() == fitnes_list]\n",
    "    \n",
    "    progenitor_list = progenitor_selection(population_set,fitnes_list)\n",
    "    new_population_set = mate_population(progenitor_list)\n",
    "    \n",
    "    mutated_pop = mutate_population(new_population_set)"
   ]
  },
  {
   "cell_type": "code",
   "execution_count": 58,
   "metadata": {
    "colab": {
     "base_uri": "https://localhost:8080/"
    },
    "executionInfo": {
     "elapsed": 82,
     "status": "ok",
     "timestamp": 1673519999341,
     "user": {
      "displayName": "Mohammed EL-Boukri",
      "userId": "09133861228848981695"
     },
     "user_tz": -60
    },
    "id": "eKCQTC3fOxRJ",
    "outputId": "140c213d-31da-4cc6-fd06-5ffa0dee1754"
   },
   "outputs": [
    {
     "data": {
      "text/plain": [
       "[34,\n",
       " 27.127028036007285,\n",
       " array([[\"30 Avenue d'Italie\", '43 Avenue de Clichy', '79 Rue Lamarck',\n",
       "         '5 Rue Audran', '15 Rue Cail', '31 Avenue Secretan',\n",
       "         '138 Boulevard de la Villette', '2 Rue du Faubourg Saint-Honore',\n",
       "         '55 Rue des Vinaigriers', '24 Rue Tiquetonne',\n",
       "         '85 Boulevard de Sebastopol', '14 Rue Papillon',\n",
       "         '124 Rue du Faubourg Saint-Honore', '4 Boulevard de Grenelle',\n",
       "         '38 Rue Balard']], dtype=object)]"
      ]
     },
     "execution_count": 58,
     "metadata": {},
     "output_type": "execute_result"
    }
   ],
   "source": [
    "best_solution"
   ]
  },
  {
   "cell_type": "code",
   "execution_count": 59,
   "metadata": {
    "colab": {
     "base_uri": "https://localhost:8080/"
    },
    "executionInfo": {
     "elapsed": 560,
     "status": "ok",
     "timestamp": 1673520656312,
     "user": {
      "displayName": "Mohammed EL-Boukri",
      "userId": "09133861228848981695"
     },
     "user_tz": -60
    },
    "id": "32PyhXKCO1R1",
    "outputId": "7dbab203-c558-4d34-c20a-bc84b68c17d0"
   },
   "outputs": [
    {
     "data": {
      "text/plain": [
       "array([\"30 Avenue d'Italie\", '43 Avenue de Clichy', '79 Rue Lamarck',\n",
       "       '5 Rue Audran', '15 Rue Cail', '31 Avenue Secretan',\n",
       "       '138 Boulevard de la Villette', '2 Rue du Faubourg Saint-Honore',\n",
       "       '55 Rue des Vinaigriers', '24 Rue Tiquetonne',\n",
       "       '85 Boulevard de Sebastopol', '14 Rue Papillon',\n",
       "       '124 Rue du Faubourg Saint-Honore', '4 Boulevard de Grenelle',\n",
       "       '38 Rue Balard'], dtype=object)"
      ]
     },
     "execution_count": 59,
     "metadata": {},
     "output_type": "execute_result"
    }
   ],
   "source": [
    "best_road = best_solution[2][0]\n",
    "best_road"
   ]
  },
  {
   "cell_type": "code",
   "execution_count": 60,
   "metadata": {
    "colab": {
     "base_uri": "https://localhost:8080/"
    },
    "executionInfo": {
     "elapsed": 486,
     "status": "ok",
     "timestamp": 1673520691518,
     "user": {
      "displayName": "Mohammed EL-Boukri",
      "userId": "09133861228848981695"
     },
     "user_tz": -60
    },
    "id": "cOfDYKkzmFDJ",
    "outputId": "0ff68db5-817e-4ab8-ac17-264f88a3dc02"
   },
   "outputs": [
    {
     "data": {
      "text/plain": [
       "[48.830242850000005, 2.355210601316469]"
      ]
     },
     "execution_count": 60,
     "metadata": {},
     "output_type": "execute_result"
    }
   ],
   "source": [
    "cities_dict[best_road[0]]"
   ]
  },
  {
   "cell_type": "code",
   "execution_count": 61,
   "metadata": {
    "executionInfo": {
     "elapsed": 275,
     "status": "ok",
     "timestamp": 1673526054321,
     "user": {
      "displayName": "Mohammed EL-Boukri",
      "userId": "09133861228848981695"
     },
     "user_tz": -60
    },
    "id": "ZSzAT-z-mzI_"
   },
   "outputs": [
    {
     "data": {
      "text/html": [
       "<div style=\"width:100%;\"><div style=\"position:relative;width:100%;height:0;padding-bottom:60%;\"><span style=\"color:#565656\">Make this Notebook Trusted to load map: File -> Trust Notebook</span><iframe srcdoc=\"&lt;!DOCTYPE html&gt;\n",
       "&lt;html&gt;\n",
       "&lt;head&gt;\n",
       "    \n",
       "    &lt;meta http-equiv=&quot;content-type&quot; content=&quot;text/html; charset=UTF-8&quot; /&gt;\n",
       "    \n",
       "        &lt;script&gt;\n",
       "            L_NO_TOUCH = false;\n",
       "            L_DISABLE_3D = false;\n",
       "        &lt;/script&gt;\n",
       "    \n",
       "    &lt;style&gt;html, body {width: 100%;height: 100%;margin: 0;padding: 0;}&lt;/style&gt;\n",
       "    &lt;style&gt;#map {position:absolute;top:0;bottom:0;right:0;left:0;}&lt;/style&gt;\n",
       "    &lt;script src=&quot;https://cdn.jsdelivr.net/npm/leaflet@1.9.3/dist/leaflet.js&quot;&gt;&lt;/script&gt;\n",
       "    &lt;script src=&quot;https://code.jquery.com/jquery-1.12.4.min.js&quot;&gt;&lt;/script&gt;\n",
       "    &lt;script src=&quot;https://cdn.jsdelivr.net/npm/bootstrap@5.2.2/dist/js/bootstrap.bundle.min.js&quot;&gt;&lt;/script&gt;\n",
       "    &lt;script src=&quot;https://cdnjs.cloudflare.com/ajax/libs/Leaflet.awesome-markers/2.0.2/leaflet.awesome-markers.js&quot;&gt;&lt;/script&gt;\n",
       "    &lt;link rel=&quot;stylesheet&quot; href=&quot;https://cdn.jsdelivr.net/npm/leaflet@1.9.3/dist/leaflet.css&quot;/&gt;\n",
       "    &lt;link rel=&quot;stylesheet&quot; href=&quot;https://cdn.jsdelivr.net/npm/bootstrap@5.2.2/dist/css/bootstrap.min.css&quot;/&gt;\n",
       "    &lt;link rel=&quot;stylesheet&quot; href=&quot;https://netdna.bootstrapcdn.com/bootstrap/3.0.0/css/bootstrap.min.css&quot;/&gt;\n",
       "    &lt;link rel=&quot;stylesheet&quot; href=&quot;https://cdn.jsdelivr.net/npm/@fortawesome/fontawesome-free@6.2.0/css/all.min.css&quot;/&gt;\n",
       "    &lt;link rel=&quot;stylesheet&quot; href=&quot;https://cdnjs.cloudflare.com/ajax/libs/Leaflet.awesome-markers/2.0.2/leaflet.awesome-markers.css&quot;/&gt;\n",
       "    &lt;link rel=&quot;stylesheet&quot; href=&quot;https://cdn.jsdelivr.net/gh/python-visualization/folium/folium/templates/leaflet.awesome.rotate.min.css&quot;/&gt;\n",
       "    \n",
       "            &lt;meta name=&quot;viewport&quot; content=&quot;width=device-width,\n",
       "                initial-scale=1.0, maximum-scale=1.0, user-scalable=no&quot; /&gt;\n",
       "            &lt;style&gt;\n",
       "                #map_ed15790bd538578e6eae9188f4aa9e90 {\n",
       "                    position: relative;\n",
       "                    width: 100.0%;\n",
       "                    height: 100.0%;\n",
       "                    left: 0.0%;\n",
       "                    top: 0.0%;\n",
       "                }\n",
       "                .leaflet-container { font-size: 1rem; }\n",
       "            &lt;/style&gt;\n",
       "        \n",
       "&lt;/head&gt;\n",
       "&lt;body&gt;\n",
       "    \n",
       "    \n",
       "            &lt;div class=&quot;folium-map&quot; id=&quot;map_ed15790bd538578e6eae9188f4aa9e90&quot; &gt;&lt;/div&gt;\n",
       "        \n",
       "&lt;/body&gt;\n",
       "&lt;script&gt;\n",
       "    \n",
       "    \n",
       "            var map_ed15790bd538578e6eae9188f4aa9e90 = L.map(\n",
       "                &quot;map_ed15790bd538578e6eae9188f4aa9e90&quot;,\n",
       "                {\n",
       "                    center: [48.830242850000005, 2.355210601316469],\n",
       "                    crs: L.CRS.EPSG3857,\n",
       "                    zoom: 12,\n",
       "                    zoomControl: true,\n",
       "                    preferCanvas: false,\n",
       "                }\n",
       "            );\n",
       "\n",
       "            \n",
       "\n",
       "        \n",
       "    \n",
       "            var tile_layer_632c38826f66a0c71e5dfe8ef8fade3e = L.tileLayer(\n",
       "                &quot;https://stamen-tiles-{s}.a.ssl.fastly.net/terrain/{z}/{x}/{y}.jpg&quot;,\n",
       "                {&quot;attribution&quot;: &quot;Map tiles by \\u003ca target=\\&quot;_blank\\&quot; href=\\&quot;http://stamen.com\\&quot;\\u003eStamen Design\\u003c/a\\u003e, under \\u003ca target=\\&quot;_blank\\&quot; href=\\&quot;http://creativecommons.org/licenses/by/3.0\\&quot;\\u003eCC BY 3.0\\u003c/a\\u003e. Data by \\u0026copy; \\u003ca target=\\&quot;_blank\\&quot; href=\\&quot;http://openstreetmap.org\\&quot;\\u003eOpenStreetMap\\u003c/a\\u003e, under \\u003ca target=\\&quot;_blank\\&quot; href=\\&quot;http://creativecommons.org/licenses/by-sa/3.0\\&quot;\\u003eCC BY SA\\u003c/a\\u003e.&quot;, &quot;detectRetina&quot;: false, &quot;maxNativeZoom&quot;: 18, &quot;maxZoom&quot;: 18, &quot;minZoom&quot;: 0, &quot;noWrap&quot;: false, &quot;opacity&quot;: 1, &quot;subdomains&quot;: &quot;abc&quot;, &quot;tms&quot;: false}\n",
       "            ).addTo(map_ed15790bd538578e6eae9188f4aa9e90);\n",
       "        \n",
       "    \n",
       "            var marker_e294989a78d7bd78a62b63ff7ae0b5f5 = L.marker(\n",
       "                [48.830242850000005, 2.355210601316469],\n",
       "                {}\n",
       "            ).addTo(map_ed15790bd538578e6eae9188f4aa9e90);\n",
       "        \n",
       "    \n",
       "        var popup_b1404687320ff477dbcf282f2e3b74df = L.popup({&quot;maxWidth&quot;: &quot;100%&quot;});\n",
       "\n",
       "        \n",
       "            \n",
       "                var html_762bf26c7fedae911a15a6e7458a5341 = $(`&lt;div id=&quot;html_762bf26c7fedae911a15a6e7458a5341&quot; style=&quot;width: 100.0%; height: 100.0%;&quot;&gt;&lt;i&gt;30 Avenue d&#x27;Italie&lt;/i&gt;&lt;/div&gt;`)[0];\n",
       "                popup_b1404687320ff477dbcf282f2e3b74df.setContent(html_762bf26c7fedae911a15a6e7458a5341);\n",
       "            \n",
       "        \n",
       "\n",
       "        marker_e294989a78d7bd78a62b63ff7ae0b5f5.bindPopup(popup_b1404687320ff477dbcf282f2e3b74df)\n",
       "        ;\n",
       "\n",
       "        \n",
       "    \n",
       "    \n",
       "            var marker_7d783cd0ce826e5d8e97ca560cd013b5 = L.marker(\n",
       "                [48.8869589, 2.3256654],\n",
       "                {}\n",
       "            ).addTo(map_ed15790bd538578e6eae9188f4aa9e90);\n",
       "        \n",
       "    \n",
       "        var popup_bca463a99ece7e2c85ce73b836cc862a = L.popup({&quot;maxWidth&quot;: &quot;100%&quot;});\n",
       "\n",
       "        \n",
       "            \n",
       "                var html_f8d455a310ef453e367615fac4456c84 = $(`&lt;div id=&quot;html_f8d455a310ef453e367615fac4456c84&quot; style=&quot;width: 100.0%; height: 100.0%;&quot;&gt;&lt;i&gt;43 Avenue de Clichy&lt;/i&gt;&lt;/div&gt;`)[0];\n",
       "                popup_bca463a99ece7e2c85ce73b836cc862a.setContent(html_f8d455a310ef453e367615fac4456c84);\n",
       "            \n",
       "        \n",
       "\n",
       "        marker_7d783cd0ce826e5d8e97ca560cd013b5.bindPopup(popup_bca463a99ece7e2c85ce73b836cc862a)\n",
       "        ;\n",
       "\n",
       "        \n",
       "    \n",
       "    \n",
       "            var marker_059b8a55d43440dee00020c3f6b74951 = L.marker(\n",
       "                [48.8902312, 2.3362593],\n",
       "                {}\n",
       "            ).addTo(map_ed15790bd538578e6eae9188f4aa9e90);\n",
       "        \n",
       "    \n",
       "        var popup_9a7c6d7889c81adefcde8d693a7f4a8f = L.popup({&quot;maxWidth&quot;: &quot;100%&quot;});\n",
       "\n",
       "        \n",
       "            \n",
       "                var html_11319985adc128750323cacd9179c872 = $(`&lt;div id=&quot;html_11319985adc128750323cacd9179c872&quot; style=&quot;width: 100.0%; height: 100.0%;&quot;&gt;&lt;i&gt;79 Rue Lamarck&lt;/i&gt;&lt;/div&gt;`)[0];\n",
       "                popup_9a7c6d7889c81adefcde8d693a7f4a8f.setContent(html_11319985adc128750323cacd9179c872);\n",
       "            \n",
       "        \n",
       "\n",
       "        marker_059b8a55d43440dee00020c3f6b74951.bindPopup(popup_9a7c6d7889c81adefcde8d693a7f4a8f)\n",
       "        ;\n",
       "\n",
       "        \n",
       "    \n",
       "    \n",
       "            var marker_13a03b127a879ca2332579456b6efd5e = L.marker(\n",
       "                [48.8851871, 2.3358188],\n",
       "                {}\n",
       "            ).addTo(map_ed15790bd538578e6eae9188f4aa9e90);\n",
       "        \n",
       "    \n",
       "        var popup_0878944ab99e66802cca83d9121a2ac2 = L.popup({&quot;maxWidth&quot;: &quot;100%&quot;});\n",
       "\n",
       "        \n",
       "            \n",
       "                var html_65622c0e82f5b91d50db95c9d49f6bdf = $(`&lt;div id=&quot;html_65622c0e82f5b91d50db95c9d49f6bdf&quot; style=&quot;width: 100.0%; height: 100.0%;&quot;&gt;&lt;i&gt;5 Rue Audran&lt;/i&gt;&lt;/div&gt;`)[0];\n",
       "                popup_0878944ab99e66802cca83d9121a2ac2.setContent(html_65622c0e82f5b91d50db95c9d49f6bdf);\n",
       "            \n",
       "        \n",
       "\n",
       "        marker_13a03b127a879ca2332579456b6efd5e.bindPopup(popup_0878944ab99e66802cca83d9121a2ac2)\n",
       "        ;\n",
       "\n",
       "        \n",
       "    \n",
       "    \n",
       "            var marker_722209e45e2f755fe10ed5d37fb52a58 = L.marker(\n",
       "                [48.8826982, 2.360298],\n",
       "                {}\n",
       "            ).addTo(map_ed15790bd538578e6eae9188f4aa9e90);\n",
       "        \n",
       "    \n",
       "        var popup_83963f5503386b1084c46d08dde14148 = L.popup({&quot;maxWidth&quot;: &quot;100%&quot;});\n",
       "\n",
       "        \n",
       "            \n",
       "                var html_a0c64f31be4c971ce029b01038524686 = $(`&lt;div id=&quot;html_a0c64f31be4c971ce029b01038524686&quot; style=&quot;width: 100.0%; height: 100.0%;&quot;&gt;&lt;i&gt;15 Rue Cail&lt;/i&gt;&lt;/div&gt;`)[0];\n",
       "                popup_83963f5503386b1084c46d08dde14148.setContent(html_a0c64f31be4c971ce029b01038524686);\n",
       "            \n",
       "        \n",
       "\n",
       "        marker_722209e45e2f755fe10ed5d37fb52a58.bindPopup(popup_83963f5503386b1084c46d08dde14148)\n",
       "        ;\n",
       "\n",
       "        \n",
       "    \n",
       "    \n",
       "            var marker_fb6606092e3f97bef886ca110b6e52c9 = L.marker(\n",
       "                [48.8813911, 2.3732117],\n",
       "                {}\n",
       "            ).addTo(map_ed15790bd538578e6eae9188f4aa9e90);\n",
       "        \n",
       "    \n",
       "        var popup_67ac61381b50f4023b2c2108bab7a1ac = L.popup({&quot;maxWidth&quot;: &quot;100%&quot;});\n",
       "\n",
       "        \n",
       "            \n",
       "                var html_955a2ab4828c6ecb236bc7d0b20e280b = $(`&lt;div id=&quot;html_955a2ab4828c6ecb236bc7d0b20e280b&quot; style=&quot;width: 100.0%; height: 100.0%;&quot;&gt;&lt;i&gt;31 Avenue Secretan&lt;/i&gt;&lt;/div&gt;`)[0];\n",
       "                popup_67ac61381b50f4023b2c2108bab7a1ac.setContent(html_955a2ab4828c6ecb236bc7d0b20e280b);\n",
       "            \n",
       "        \n",
       "\n",
       "        marker_fb6606092e3f97bef886ca110b6e52c9.bindPopup(popup_67ac61381b50f4023b2c2108bab7a1ac)\n",
       "        ;\n",
       "\n",
       "        \n",
       "    \n",
       "    \n",
       "            var marker_d52522ad07e0a8a148107b8ad12b1c81 = L.marker(\n",
       "                [48.8788385, 2.3705586],\n",
       "                {}\n",
       "            ).addTo(map_ed15790bd538578e6eae9188f4aa9e90);\n",
       "        \n",
       "    \n",
       "        var popup_cddefc9aca0bded4d8e7b4dbf12f364b = L.popup({&quot;maxWidth&quot;: &quot;100%&quot;});\n",
       "\n",
       "        \n",
       "            \n",
       "                var html_efba41271dc4923c2c84924c7b674c47 = $(`&lt;div id=&quot;html_efba41271dc4923c2c84924c7b674c47&quot; style=&quot;width: 100.0%; height: 100.0%;&quot;&gt;&lt;i&gt;138 Boulevard de la Villette&lt;/i&gt;&lt;/div&gt;`)[0];\n",
       "                popup_cddefc9aca0bded4d8e7b4dbf12f364b.setContent(html_efba41271dc4923c2c84924c7b674c47);\n",
       "            \n",
       "        \n",
       "\n",
       "        marker_d52522ad07e0a8a148107b8ad12b1c81.bindPopup(popup_cddefc9aca0bded4d8e7b4dbf12f364b)\n",
       "        ;\n",
       "\n",
       "        \n",
       "    \n",
       "    \n",
       "            var marker_78391f4b39845b6f64eeb86a2d8eba71 = L.marker(\n",
       "                [48.8685293, 2.3230081],\n",
       "                {}\n",
       "            ).addTo(map_ed15790bd538578e6eae9188f4aa9e90);\n",
       "        \n",
       "    \n",
       "        var popup_4c407797859ca917e7cb114cfa9d3f31 = L.popup({&quot;maxWidth&quot;: &quot;100%&quot;});\n",
       "\n",
       "        \n",
       "            \n",
       "                var html_d2d89e19ad6309652c3888d93c1e23b0 = $(`&lt;div id=&quot;html_d2d89e19ad6309652c3888d93c1e23b0&quot; style=&quot;width: 100.0%; height: 100.0%;&quot;&gt;&lt;i&gt;2 Rue du Faubourg Saint-Honore&lt;/i&gt;&lt;/div&gt;`)[0];\n",
       "                popup_4c407797859ca917e7cb114cfa9d3f31.setContent(html_d2d89e19ad6309652c3888d93c1e23b0);\n",
       "            \n",
       "        \n",
       "\n",
       "        marker_78391f4b39845b6f64eeb86a2d8eba71.bindPopup(popup_4c407797859ca917e7cb114cfa9d3f31)\n",
       "        ;\n",
       "\n",
       "        \n",
       "    \n",
       "    \n",
       "            var marker_040dbed5be5d57d2a7a4a881bfbe93bb = L.marker(\n",
       "                [48.8731803, 2.3597091],\n",
       "                {}\n",
       "            ).addTo(map_ed15790bd538578e6eae9188f4aa9e90);\n",
       "        \n",
       "    \n",
       "        var popup_3649a0e6ed42a1d4cbf2014bb0107551 = L.popup({&quot;maxWidth&quot;: &quot;100%&quot;});\n",
       "\n",
       "        \n",
       "            \n",
       "                var html_83fa276a3ed8a7550aa11114d2de67f2 = $(`&lt;div id=&quot;html_83fa276a3ed8a7550aa11114d2de67f2&quot; style=&quot;width: 100.0%; height: 100.0%;&quot;&gt;&lt;i&gt;55 Rue des Vinaigriers&lt;/i&gt;&lt;/div&gt;`)[0];\n",
       "                popup_3649a0e6ed42a1d4cbf2014bb0107551.setContent(html_83fa276a3ed8a7550aa11114d2de67f2);\n",
       "            \n",
       "        \n",
       "\n",
       "        marker_040dbed5be5d57d2a7a4a881bfbe93bb.bindPopup(popup_3649a0e6ed42a1d4cbf2014bb0107551)\n",
       "        ;\n",
       "\n",
       "        \n",
       "    \n",
       "    \n",
       "            var marker_f61d2f700262082a6cfdaa3d058c2c5a = L.marker(\n",
       "                [48.8646943, 2.3485383],\n",
       "                {}\n",
       "            ).addTo(map_ed15790bd538578e6eae9188f4aa9e90);\n",
       "        \n",
       "    \n",
       "        var popup_83839e8baa1916c2a7407a15d10bc400 = L.popup({&quot;maxWidth&quot;: &quot;100%&quot;});\n",
       "\n",
       "        \n",
       "            \n",
       "                var html_9587020f28b6a867619098ef1370bb12 = $(`&lt;div id=&quot;html_9587020f28b6a867619098ef1370bb12&quot; style=&quot;width: 100.0%; height: 100.0%;&quot;&gt;&lt;i&gt;24 Rue Tiquetonne&lt;/i&gt;&lt;/div&gt;`)[0];\n",
       "                popup_83839e8baa1916c2a7407a15d10bc400.setContent(html_9587020f28b6a867619098ef1370bb12);\n",
       "            \n",
       "        \n",
       "\n",
       "        marker_f61d2f700262082a6cfdaa3d058c2c5a.bindPopup(popup_83839e8baa1916c2a7407a15d10bc400)\n",
       "        ;\n",
       "\n",
       "        \n",
       "    \n",
       "    \n",
       "            var marker_c649d30a1e8ab05e4ad169f637f75118 = L.marker(\n",
       "                [48.8648771, 2.3515534],\n",
       "                {}\n",
       "            ).addTo(map_ed15790bd538578e6eae9188f4aa9e90);\n",
       "        \n",
       "    \n",
       "        var popup_fe04c38fd7b1ac8cdd50430827ac915d = L.popup({&quot;maxWidth&quot;: &quot;100%&quot;});\n",
       "\n",
       "        \n",
       "            \n",
       "                var html_a215a6c940a0b559eea74d8c6ec39f1c = $(`&lt;div id=&quot;html_a215a6c940a0b559eea74d8c6ec39f1c&quot; style=&quot;width: 100.0%; height: 100.0%;&quot;&gt;&lt;i&gt;85 Boulevard de Sebastopol&lt;/i&gt;&lt;/div&gt;`)[0];\n",
       "                popup_fe04c38fd7b1ac8cdd50430827ac915d.setContent(html_a215a6c940a0b559eea74d8c6ec39f1c);\n",
       "            \n",
       "        \n",
       "\n",
       "        marker_c649d30a1e8ab05e4ad169f637f75118.bindPopup(popup_fe04c38fd7b1ac8cdd50430827ac915d)\n",
       "        ;\n",
       "\n",
       "        \n",
       "    \n",
       "    \n",
       "            var marker_aed860ad2bbd0b2b9323824b55bbd9c5 = L.marker(\n",
       "                [48.876317, 2.3471531],\n",
       "                {}\n",
       "            ).addTo(map_ed15790bd538578e6eae9188f4aa9e90);\n",
       "        \n",
       "    \n",
       "        var popup_e2c33a8412ab6a66bedbee6181358a99 = L.popup({&quot;maxWidth&quot;: &quot;100%&quot;});\n",
       "\n",
       "        \n",
       "            \n",
       "                var html_7167d6e0605757a03fa68988d5a6b599 = $(`&lt;div id=&quot;html_7167d6e0605757a03fa68988d5a6b599&quot; style=&quot;width: 100.0%; height: 100.0%;&quot;&gt;&lt;i&gt;14 Rue Papillon&lt;/i&gt;&lt;/div&gt;`)[0];\n",
       "                popup_e2c33a8412ab6a66bedbee6181358a99.setContent(html_7167d6e0605757a03fa68988d5a6b599);\n",
       "            \n",
       "        \n",
       "\n",
       "        marker_aed860ad2bbd0b2b9323824b55bbd9c5.bindPopup(popup_e2c33a8412ab6a66bedbee6181358a99)\n",
       "        ;\n",
       "\n",
       "        \n",
       "    \n",
       "    \n",
       "            var marker_0accb8c8f30c2abab877bc9d3ac9e13f = L.marker(\n",
       "                [48.8721214, 2.3132623],\n",
       "                {}\n",
       "            ).addTo(map_ed15790bd538578e6eae9188f4aa9e90);\n",
       "        \n",
       "    \n",
       "        var popup_55b4dc055dc2c6632fb7a0a196478177 = L.popup({&quot;maxWidth&quot;: &quot;100%&quot;});\n",
       "\n",
       "        \n",
       "            \n",
       "                var html_701a86fc627fa143d8d7f3481cdb16ff = $(`&lt;div id=&quot;html_701a86fc627fa143d8d7f3481cdb16ff&quot; style=&quot;width: 100.0%; height: 100.0%;&quot;&gt;&lt;i&gt;124 Rue du Faubourg Saint-Honore&lt;/i&gt;&lt;/div&gt;`)[0];\n",
       "                popup_55b4dc055dc2c6632fb7a0a196478177.setContent(html_701a86fc627fa143d8d7f3481cdb16ff);\n",
       "            \n",
       "        \n",
       "\n",
       "        marker_0accb8c8f30c2abab877bc9d3ac9e13f.bindPopup(popup_55b4dc055dc2c6632fb7a0a196478177)\n",
       "        ;\n",
       "\n",
       "        \n",
       "    \n",
       "    \n",
       "            var marker_de22b7bd0e466b7857fa4fbbbbbf071d = L.marker(\n",
       "                [48.8540376, 2.2888741],\n",
       "                {}\n",
       "            ).addTo(map_ed15790bd538578e6eae9188f4aa9e90);\n",
       "        \n",
       "    \n",
       "        var popup_9edc345b2367490ab3e106ea262089c1 = L.popup({&quot;maxWidth&quot;: &quot;100%&quot;});\n",
       "\n",
       "        \n",
       "            \n",
       "                var html_f2f9720d4ee9de89d0ff46924f323e4d = $(`&lt;div id=&quot;html_f2f9720d4ee9de89d0ff46924f323e4d&quot; style=&quot;width: 100.0%; height: 100.0%;&quot;&gt;&lt;i&gt;4 Boulevard de Grenelle&lt;/i&gt;&lt;/div&gt;`)[0];\n",
       "                popup_9edc345b2367490ab3e106ea262089c1.setContent(html_f2f9720d4ee9de89d0ff46924f323e4d);\n",
       "            \n",
       "        \n",
       "\n",
       "        marker_de22b7bd0e466b7857fa4fbbbbbf071d.bindPopup(popup_9edc345b2367490ab3e106ea262089c1)\n",
       "        ;\n",
       "\n",
       "        \n",
       "    \n",
       "    \n",
       "            var marker_e2c62c7966740f05348e4984f211531d = L.marker(\n",
       "                [48.8428844, 2.2773907],\n",
       "                {}\n",
       "            ).addTo(map_ed15790bd538578e6eae9188f4aa9e90);\n",
       "        \n",
       "    \n",
       "        var popup_518af7f09ca8cd7ce51bccbecc9ac558 = L.popup({&quot;maxWidth&quot;: &quot;100%&quot;});\n",
       "\n",
       "        \n",
       "            \n",
       "                var html_f98c9af857489e32efe1769e354ad614 = $(`&lt;div id=&quot;html_f98c9af857489e32efe1769e354ad614&quot; style=&quot;width: 100.0%; height: 100.0%;&quot;&gt;&lt;i&gt;38 Rue Balard&lt;/i&gt;&lt;/div&gt;`)[0];\n",
       "                popup_518af7f09ca8cd7ce51bccbecc9ac558.setContent(html_f98c9af857489e32efe1769e354ad614);\n",
       "            \n",
       "        \n",
       "\n",
       "        marker_e2c62c7966740f05348e4984f211531d.bindPopup(popup_518af7f09ca8cd7ce51bccbecc9ac558)\n",
       "        ;\n",
       "\n",
       "        \n",
       "    \n",
       "    \n",
       "            var poly_line_0092b7c2a9ff254ec6ba9494fb1dcb3e = L.polyline(\n",
       "                [[48.830242850000005, 2.355210601316469], [48.8869589, 2.3256654], [48.8902312, 2.3362593], [48.8851871, 2.3358188], [48.8826982, 2.360298], [48.8813911, 2.3732117], [48.8788385, 2.3705586], [48.8685293, 2.3230081], [48.8731803, 2.3597091], [48.8646943, 2.3485383], [48.8648771, 2.3515534], [48.876317, 2.3471531], [48.8721214, 2.3132623], [48.8540376, 2.2888741], [48.8428844, 2.2773907], [48.830242850000005, 2.355210601316469]],\n",
       "                {&quot;bubblingMouseEvents&quot;: true, &quot;color&quot;: &quot;blue&quot;, &quot;dashArray&quot;: null, &quot;dashOffset&quot;: null, &quot;fill&quot;: false, &quot;fillColor&quot;: &quot;blue&quot;, &quot;fillOpacity&quot;: 0.2, &quot;fillRule&quot;: &quot;evenodd&quot;, &quot;lineCap&quot;: &quot;round&quot;, &quot;lineJoin&quot;: &quot;round&quot;, &quot;noClip&quot;: false, &quot;opacity&quot;: 0.9, &quot;smoothFactor&quot;: 1.0, &quot;stroke&quot;: true, &quot;weight&quot;: 4}\n",
       "            ).addTo(map_ed15790bd538578e6eae9188f4aa9e90);\n",
       "        \n",
       "&lt;/script&gt;\n",
       "&lt;/html&gt;\" style=\"position:absolute;width:100%;height:100%;left:0;top:0;border:none !important;\" allowfullscreen webkitallowfullscreen mozallowfullscreen></iframe></div></div>"
      ],
      "text/plain": [
       "<folium.folium.Map at 0x2c7fc87cd10>"
      ]
     },
     "execution_count": 61,
     "metadata": {},
     "output_type": "execute_result"
    }
   ],
   "source": [
    "m = folium.Map(location=cities_dict[best_road[0]], zoom_start=12, tiles=\"Stamen Terrain\")\n",
    "loc = []\n",
    "for el in best_road:\n",
    "  loc.append(cities_dict[el])\n",
    "  folium.Marker(\n",
    "      cities_dict[el], popup=f\"<i>{el}</i>\"\n",
    "  ).add_to(m)\n",
    "loc.append(cities_dict[best_road[0]])\n",
    "folium.PolyLine(loc,\n",
    "                color='blue',\n",
    "                weight=4,\n",
    "                opacity=0.9).add_to(m)\n",
    "m\n",
    "#m.save(\"heat_map.html\")"
   ]
  },
  {
   "cell_type": "code",
   "execution_count": null,
   "metadata": {},
   "outputs": [],
   "source": []
  }
 ],
 "metadata": {
  "colab": {
   "provenance": []
  },
  "kernelspec": {
   "display_name": "Python 3 (ipykernel)",
   "language": "python",
   "name": "python3"
  },
  "language_info": {
   "codemirror_mode": {
    "name": "ipython",
    "version": 3
   },
   "file_extension": ".py",
   "mimetype": "text/x-python",
   "name": "python",
   "nbconvert_exporter": "python",
   "pygments_lexer": "ipython3",
   "version": "3.11.0"
  }
 },
 "nbformat": 4,
 "nbformat_minor": 4
}
