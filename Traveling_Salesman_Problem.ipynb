{
 "cells": [
  {
   "cell_type": "markdown",
   "metadata": {},
   "source": [
    "# Travelling Salesperson Problem solved using genetic algorithms"
   ]
  },
  {
   "cell_type": "code",
   "execution_count": 1,
   "metadata": {},
   "outputs": [],
   "source": [
    "# Imports \n",
    "import numpy as np\n",
    "import random\n",
    "\n",
    "np.random.seed(42)\n",
    "# Imports \n",
    "import numpy as np\n",
    "import random\n",
    "import pandas as pd\n",
    "from geopy import distance,geocoders,Nominatim # to calculate distance on the surface\n",
    "import folium\n",
    "from datetime import datetime\n",
    "from datetime import datetime"
   ]
  },
  {
   "cell_type": "code",
   "execution_count": 2,
   "metadata": {},
   "outputs": [],
   "source": [
    "# Parameters\n",
    "n_cities = 10\n",
    "\n",
    "n_population = 50\n",
    "\n",
    "mutation_rate = 0.3\n",
    "df = pd.read_csv('output.csv')\n"
   ]
  },
  {
   "cell_type": "code",
   "execution_count": 3,
   "metadata": {},
   "outputs": [
    {
     "data": {
      "text/plain": [
       "[[50.85798545, 5.6969881818221095],\n",
       " [50.776351, 6.083862],\n",
       " [50.8775239, 5.981506585454879],\n",
       " [50.9673322, 5.8277007],\n",
       " [50.9974235, 5.8666627],\n",
       " [51.1073016, 5.8719765],\n",
       " [50.735851, 7.10066],\n",
       " [50.889865, 5.8575404],\n",
       " [50.8141622, 5.6692203],\n",
       " [52.2723505, 7.2796275]]"
      ]
     },
     "execution_count": 3,
     "metadata": {},
     "output_type": "execute_result"
    }
   ],
   "source": [
    "# Generating a list of coordenades representing each city\n",
    "geolocator = geocoders.Nominatim(user_agent=\"my_email@myserver.com\")\n",
    "coordinates_list=[]\n",
    "names_list = np.array(df['Street'].head(n_cities))\n",
    "for city in names_list:\n",
    "    location = geolocator.geocode(city)\n",
    "    coordinates_list.append(list((location.latitude, location.longitude)))\n",
    "    \n",
    "cities_dict = { x:y for x,y in zip(names_list,coordinates_list)}\n",
    "\n",
    "# Function to compute the distance between two points\n",
    "def compute_city_distance_coordinates(a,b):\n",
    "    return distance.distance((a[0], a[1]), (b[0],b[1])).km\n",
    "\n",
    "def compute_city_distance_names(city_a, city_b, cities_dict):\n",
    "    return compute_city_distance_coordinates(cities_dict[city_a], cities_dict[city_b])\n",
    "\n",
    "coordinates_list"
   ]
  },
  {
   "cell_type": "markdown",
   "metadata": {},
   "source": [
    "## 1. Create the first population set\n",
    "We randomly shuffle the cities N times where N=population_size"
   ]
  },
  {
   "cell_type": "code",
   "execution_count": 4,
   "metadata": {},
   "outputs": [],
   "source": [
    "# First step: Create the first population set\n",
    "def genesis(city_list, n_population):\n",
    "\n",
    "    population_set = []\n",
    "    for i in range(n_population):\n",
    "        #Randomly generating a new solution\n",
    "        sol_i = city_list[np.random.choice(list(range(n_cities)), n_cities, replace=False)]\n",
    "        population_set.append(sol_i)\n",
    "    return np.array(population_set)\n",
    "\n",
    "population_set = genesis(names_list, n_population)\n",
    "#population_set"
   ]
  },
  {
   "cell_type": "markdown",
   "metadata": {},
   "source": [
    "## 2. Evaluate solutions fitness\n",
    "The solutions are defined so that the first element on the list is the first city to visit, then the second, etc. and the last city is linked to the first.\n",
    "The fitness function needs to compute the distance between subsequent cities."
   ]
  },
  {
   "cell_type": "code",
   "execution_count": 5,
   "metadata": {},
   "outputs": [],
   "source": [
    "def fitness_eval(city_list, cities_dict):\n",
    "    total = 0\n",
    "    for i in range(n_cities-1):\n",
    "        a = city_list[i]\n",
    "        b = city_list[i+1]\n",
    "        total += compute_city_distance_names(a,b, cities_dict)\n",
    "    return total"
   ]
  },
  {
   "cell_type": "code",
   "execution_count": 6,
   "metadata": {},
   "outputs": [
    {
     "data": {
      "text/plain": [
       "array([569.54434638, 560.5706764 , 510.39577204, 412.30583968,\n",
       "       470.36060249, 599.73634939, 507.05941247, 605.68968397,\n",
       "       691.39853516, 663.83986731, 534.11247006, 555.86990342,\n",
       "       592.05253487, 589.87370991, 466.52173509, 556.5600469 ,\n",
       "       503.31869899, 585.32983421, 608.60945219, 637.49153198,\n",
       "       404.68555277, 627.41726867, 577.9223998 , 589.94675899,\n",
       "       407.55300235, 582.01466331, 672.58403221, 502.16731786,\n",
       "       573.02183409, 637.02779277, 592.27723143, 481.34620784,\n",
       "       646.05837946, 552.61001851, 643.48191056, 517.43150587,\n",
       "       660.58452059, 686.435529  , 628.02824572, 631.63160407,\n",
       "       654.03789148, 587.07178013, 667.94509624, 561.8781111 ,\n",
       "       531.90630901, 449.84123783, 651.05564001, 567.65066189,\n",
       "       630.48345118, 616.78691243])"
      ]
     },
     "execution_count": 6,
     "metadata": {},
     "output_type": "execute_result"
    }
   ],
   "source": [
    "def get_all_fitnes(population_set, cities_dict):\n",
    "    fitnes_list = np.zeros(len(population_set))\n",
    "\n",
    "    #Looping over all solutions computing the fitness for each solution\n",
    "    for i in  range(len(population_set)):\n",
    "        fitnes_list[i] = fitness_eval(population_set[i], cities_dict)\n",
    "\n",
    "    return fitnes_list\n",
    "\n",
    "fitnes_list = get_all_fitnes(population_set,cities_dict)\n",
    "fitnes_list"
   ]
  },
  {
   "cell_type": "markdown",
   "metadata": {},
   "source": [
    "# 3. Progenitors selection\n",
    "I will select a new set of progenitors using the Roulette Wheel Selection. Generates a list of progenitor pairs where N= len(population_set) but at each position there are two solutions to merge"
   ]
  },
  {
   "cell_type": "code",
   "execution_count": 7,
   "metadata": {},
   "outputs": [
    {
     "data": {
      "text/plain": [
       "array(['sittard', 'geleen', 'kanne', 'maastricht', 'heerlen', 'echt',\n",
       "       'bonn', 'hulsberg', 'ohne', 'aachen'], dtype=object)"
      ]
     },
     "execution_count": 7,
     "metadata": {},
     "output_type": "execute_result"
    }
   ],
   "source": [
    "# ORG\n",
    "def progenitor_selection(population_set,fitnes_list):\n",
    "    total_fit = fitnes_list.sum()\n",
    "    prob_list = fitnes_list/total_fit\n",
    "    \n",
    "    #Notice there is the chance that a progenitor. mates with oneself\n",
    "    progenitor_list_a = np.random.choice(list(range(len(population_set))), len(population_set),p=prob_list, replace=True)\n",
    "    progenitor_list_b = np.random.choice(list(range(len(population_set))), len(population_set),p=prob_list, replace=True)\n",
    "    \n",
    "    progenitor_list_a = population_set[progenitor_list_a]\n",
    "    progenitor_list_b = population_set[progenitor_list_b]\n",
    "    \n",
    "    \n",
    "    return np.array([progenitor_list_a,progenitor_list_b])\n",
    "\n",
    "\n",
    "progenitor_list = progenitor_selection(population_set,fitnes_list)\n",
    "progenitor_list[0][2]"
   ]
  },
  {
   "cell_type": "code",
   "execution_count": 8,
   "metadata": {},
   "outputs": [
    {
     "data": {
      "text/plain": [
       "array(['sittard', 'maastricht', 'aachen', 'ohne', 'bonn', 'kanne',\n",
       "       'hulsberg', 'geleen', 'heerlen', 'echt'], dtype=object)"
      ]
     },
     "execution_count": 8,
     "metadata": {},
     "output_type": "execute_result"
    }
   ],
   "source": [
    "\n",
    "\n",
    "def progenitor_selection_by_rank(population_set, fitnes_list, n_pairs):\n",
    "    n = len(population_set)\n",
    "    rank_sum = n * (n + 1) / 2\n",
    "    prob_list = [i/rank_sum for i in range(1,n+1)][::-1]\n",
    "\n",
    "    f = fitnes_list.argsort()\n",
    "    #Notice there is the chance that a progenitor. mates with oneself\n",
    "    progenitor_list_a = np.random.choice(f, n_pairs, p=prob_list, replace=True)\n",
    "    progenitor_list_b = np.random.choice(f, n_pairs, p=prob_list, replace=True)\n",
    "    \n",
    "    progenitor_list_a = population_set[progenitor_list_a]\n",
    "    progenitor_list_b = population_set[progenitor_list_b]\n",
    "    \n",
    "    \n",
    "    return np.array([progenitor_list_a,progenitor_list_b])\n",
    "\n",
    "\n",
    "progenitor_list = progenitor_selection_by_rank(population_set,fitnes_list, len(population_set))\n",
    "progenitor_list[0][2]"
   ]
  },
  {
   "cell_type": "markdown",
   "metadata": {},
   "source": [
    "# 4. Mating\n",
    "For each pair of  parents we'll generate an offspring pair. Since we cannot repeat cities what we'll do is copy a random chunk from one progenitor and fill the blanks with the other progenitor."
   ]
  },
  {
   "cell_type": "code",
   "execution_count": 9,
   "metadata": {},
   "outputs": [
    {
     "data": {
      "text/plain": [
       "array(['maastricht', 'aachen', 'kanne', 'echt', 'geleen', 'hulsberg',\n",
       "       'bonn', 'heerlen', 'sittard', 'ohne'], dtype=object)"
      ]
     },
     "execution_count": 9,
     "metadata": {},
     "output_type": "execute_result"
    }
   ],
   "source": [
    "def mate_progenitors(prog_a, prog_b):\n",
    "    offspring = prog_a[0:5]\n",
    "\n",
    "    for city in prog_b:\n",
    "\n",
    "        if not city in offspring:\n",
    "            offspring = np.concatenate((offspring,[city]))\n",
    "\n",
    "    return offspring\n",
    "            \n",
    "    \n",
    "    \n",
    "def mate_population(progenitor_list):\n",
    "    new_population_set = []\n",
    "    for i in range(progenitor_list.shape[1]):\n",
    "        prog_a, prog_b = progenitor_list[0][i], progenitor_list[1][i]\n",
    "        offspring = mate_progenitors(prog_a, prog_b)\n",
    "        new_population_set.append(offspring)\n",
    "        \n",
    "    return new_population_set\n",
    "\n",
    "new_population_set = mate_population(progenitor_list)\n",
    "new_population_set[0]"
   ]
  },
  {
   "cell_type": "markdown",
   "metadata": {},
   "source": [
    "# 5. Mutation\n",
    "Now for each element of the new population we add a random chance of swapping"
   ]
  },
  {
   "cell_type": "code",
   "execution_count": 10,
   "metadata": {},
   "outputs": [
    {
     "data": {
      "text/plain": [
       "array(['hulsberg', 'geleen', 'kanne', 'sittard', 'aachen', 'maastricht',\n",
       "       'bonn', 'heerlen', 'echt', 'ohne'], dtype=object)"
      ]
     },
     "execution_count": 10,
     "metadata": {},
     "output_type": "execute_result"
    }
   ],
   "source": [
    "def mutate_offspring(offspring):\n",
    "    for q in range(int(n_cities*mutation_rate)):\n",
    "        a = np.random.randint(0,n_cities)\n",
    "        b = np.random.randint(0,n_cities)\n",
    "\n",
    "        offspring[a], offspring[b] = offspring[b], offspring[a]\n",
    "\n",
    "    return offspring\n",
    "    \n",
    "    \n",
    "def mutate_population(new_population_set):\n",
    "    mutated_pop = []\n",
    "    for offspring in new_population_set:\n",
    "        mutated_pop.append(mutate_offspring(offspring))\n",
    "    return mutated_pop\n",
    "\n",
    "mutated_pop = mutate_population(new_population_set)\n",
    "mutated_pop[0]"
   ]
  },
  {
   "cell_type": "markdown",
   "metadata": {},
   "source": [
    "# 6. Stopping\n",
    "To select the stopping criteria we'll need to create a loop to stop first. Then I'll set it to loop at 1000 iterations."
   ]
  },
  {
   "cell_type": "code",
   "execution_count": 20,
   "metadata": {},
   "outputs": [
    {
     "name": "stdout",
     "output_type": "stream",
     "text": [
      "0 322.4554206704063 556.5252759196784 15/01/23 01:34\n",
      "100 357.7407957526576 553.2804369791342 15/01/23 01:34\n",
      "200 322.4554206704063 550.5617747959408 15/01/23 01:34\n",
      "300 322.4554206704063 557.6335558545558 15/01/23 01:34\n",
      "400 322.4554206704063 540.383339197704 15/01/23 01:35\n",
      "500 322.4554206704063 552.261729507881 15/01/23 01:35\n",
      "600 322.4554206704063 536.3121389248963 15/01/23 01:35\n",
      "700 322.4554206704063 532.5200437883846 15/01/23 01:35\n",
      "800 322.4554206704063 542.0958175671378 15/01/23 01:35\n",
      "900 322.4554206704063 545.9969466638361 15/01/23 01:35\n"
     ]
    }
   ],
   "source": [
    "best_solution = [-1,np.inf,np.array([])]\n",
    "\n",
    "n_elitism=1\n",
    "mutation_rate = 0.3\n",
    "\n",
    "n_gens = 1000\n",
    "\n",
    "for i in range(n_gens):\n",
    "    if i%100==0: print(i, fitnes_list.min(), fitnes_list.mean(), datetime.now().strftime(\"%d/%m/%y %H:%M\"))\n",
    "    \n",
    "    \n",
    "    if i == 0:\n",
    "        #Compute all fitness\n",
    "        fitnes_list = get_all_fitnes(mutated_pop,cities_dict)\n",
    "    else:\n",
    "        #Compute new fitness\n",
    "        fitnes_list2 = get_all_fitnes(mutated_pop2,cities_dict)\n",
    "        fitnes_list = np.concatenate((fitnes_list[fitnes_list.argsort()][:n_elitism],fitnes_list2))\n",
    "    \n",
    "    #Saving the best solution\n",
    "    if fitnes_list.min() < best_solution[1]:\n",
    "        best_solution[0] = i\n",
    "        best_solution[1] = fitnes_list.min()\n",
    "        best_solution[2] = np.array(mutated_pop)[fitnes_list.min() == fitnes_list]\n",
    "    \n",
    "    #This can be set as progressive elitism\n",
    "    n_elitism= min(len(new_population_set), int(np.log(i+1)))\n",
    "    mutation_rate = i/n_gens\n",
    "    \n",
    "    progenitor_list = progenitor_selection_by_rank(population_set,fitnes_list, len(population_set)- n_elitism)\n",
    "    offspring = mate_population(progenitor_list)\n",
    "    \n",
    "    mutated_pop2 = mutate_population(offspring)\n",
    "    \n",
    "    mutated_pop = np.concatenate((np.array(mutated_pop)[fitnes_list.argsort()[:n_elitism]],mutated_pop2[:len(population_set)-n_elitism]))\n",
    "    \n"
   ]
  },
  {
   "cell_type": "code",
   "execution_count": 21,
   "metadata": {},
   "outputs": [
    {
     "data": {
      "text/plain": [
       "array(['ohne', 'echt', 'sittard', 'kanne', 'maastricht', 'geleen',\n",
       "       'hulsberg', 'heerlen', 'aachen', 'bonn'], dtype=object)"
      ]
     },
     "execution_count": 21,
     "metadata": {},
     "output_type": "execute_result"
    }
   ],
   "source": [
    "#645\n",
    "best_road = best_solution[2][0]\n",
    "best_road"
   ]
  },
  {
   "cell_type": "code",
   "execution_count": 22,
   "metadata": {},
   "outputs": [
    {
     "data": {
      "text/html": [
       "<div style=\"width:100%;\"><div style=\"position:relative;width:100%;height:0;padding-bottom:60%;\"><span style=\"color:#565656\">Make this Notebook Trusted to load map: File -> Trust Notebook</span><iframe srcdoc=\"&lt;!DOCTYPE html&gt;\n",
       "&lt;html&gt;\n",
       "&lt;head&gt;\n",
       "    \n",
       "    &lt;meta http-equiv=&quot;content-type&quot; content=&quot;text/html; charset=UTF-8&quot; /&gt;\n",
       "    \n",
       "        &lt;script&gt;\n",
       "            L_NO_TOUCH = false;\n",
       "            L_DISABLE_3D = false;\n",
       "        &lt;/script&gt;\n",
       "    \n",
       "    &lt;style&gt;html, body {width: 100%;height: 100%;margin: 0;padding: 0;}&lt;/style&gt;\n",
       "    &lt;style&gt;#map {position:absolute;top:0;bottom:0;right:0;left:0;}&lt;/style&gt;\n",
       "    &lt;script src=&quot;https://cdn.jsdelivr.net/npm/leaflet@1.9.3/dist/leaflet.js&quot;&gt;&lt;/script&gt;\n",
       "    &lt;script src=&quot;https://code.jquery.com/jquery-1.12.4.min.js&quot;&gt;&lt;/script&gt;\n",
       "    &lt;script src=&quot;https://cdn.jsdelivr.net/npm/bootstrap@5.2.2/dist/js/bootstrap.bundle.min.js&quot;&gt;&lt;/script&gt;\n",
       "    &lt;script src=&quot;https://cdnjs.cloudflare.com/ajax/libs/Leaflet.awesome-markers/2.0.2/leaflet.awesome-markers.js&quot;&gt;&lt;/script&gt;\n",
       "    &lt;link rel=&quot;stylesheet&quot; href=&quot;https://cdn.jsdelivr.net/npm/leaflet@1.9.3/dist/leaflet.css&quot;/&gt;\n",
       "    &lt;link rel=&quot;stylesheet&quot; href=&quot;https://cdn.jsdelivr.net/npm/bootstrap@5.2.2/dist/css/bootstrap.min.css&quot;/&gt;\n",
       "    &lt;link rel=&quot;stylesheet&quot; href=&quot;https://netdna.bootstrapcdn.com/bootstrap/3.0.0/css/bootstrap.min.css&quot;/&gt;\n",
       "    &lt;link rel=&quot;stylesheet&quot; href=&quot;https://cdn.jsdelivr.net/npm/@fortawesome/fontawesome-free@6.2.0/css/all.min.css&quot;/&gt;\n",
       "    &lt;link rel=&quot;stylesheet&quot; href=&quot;https://cdnjs.cloudflare.com/ajax/libs/Leaflet.awesome-markers/2.0.2/leaflet.awesome-markers.css&quot;/&gt;\n",
       "    &lt;link rel=&quot;stylesheet&quot; href=&quot;https://cdn.jsdelivr.net/gh/python-visualization/folium/folium/templates/leaflet.awesome.rotate.min.css&quot;/&gt;\n",
       "    \n",
       "            &lt;meta name=&quot;viewport&quot; content=&quot;width=device-width,\n",
       "                initial-scale=1.0, maximum-scale=1.0, user-scalable=no&quot; /&gt;\n",
       "            &lt;style&gt;\n",
       "                #map_f99f3f2fa462223b581ccaafbae2656a {\n",
       "                    position: relative;\n",
       "                    width: 100.0%;\n",
       "                    height: 100.0%;\n",
       "                    left: 0.0%;\n",
       "                    top: 0.0%;\n",
       "                }\n",
       "                .leaflet-container { font-size: 1rem; }\n",
       "            &lt;/style&gt;\n",
       "        \n",
       "&lt;/head&gt;\n",
       "&lt;body&gt;\n",
       "    \n",
       "    \n",
       "            &lt;div class=&quot;folium-map&quot; id=&quot;map_f99f3f2fa462223b581ccaafbae2656a&quot; &gt;&lt;/div&gt;\n",
       "        \n",
       "&lt;/body&gt;\n",
       "&lt;script&gt;\n",
       "    \n",
       "    \n",
       "            var map_f99f3f2fa462223b581ccaafbae2656a = L.map(\n",
       "                &quot;map_f99f3f2fa462223b581ccaafbae2656a&quot;,\n",
       "                {\n",
       "                    center: [52.2723505, 7.2796275],\n",
       "                    crs: L.CRS.EPSG3857,\n",
       "                    zoom: 12,\n",
       "                    zoomControl: true,\n",
       "                    preferCanvas: false,\n",
       "                }\n",
       "            );\n",
       "\n",
       "            \n",
       "\n",
       "        \n",
       "    \n",
       "            var tile_layer_2e5d2a401b2aa9668b1a51ee8827370a = L.tileLayer(\n",
       "                &quot;https://stamen-tiles-{s}.a.ssl.fastly.net/terrain/{z}/{x}/{y}.jpg&quot;,\n",
       "                {&quot;attribution&quot;: &quot;Map tiles by \\u003ca target=\\&quot;_blank\\&quot; href=\\&quot;http://stamen.com\\&quot;\\u003eStamen Design\\u003c/a\\u003e, under \\u003ca target=\\&quot;_blank\\&quot; href=\\&quot;http://creativecommons.org/licenses/by/3.0\\&quot;\\u003eCC BY 3.0\\u003c/a\\u003e. Data by \\u0026copy; \\u003ca target=\\&quot;_blank\\&quot; href=\\&quot;http://openstreetmap.org\\&quot;\\u003eOpenStreetMap\\u003c/a\\u003e, under \\u003ca target=\\&quot;_blank\\&quot; href=\\&quot;http://creativecommons.org/licenses/by-sa/3.0\\&quot;\\u003eCC BY SA\\u003c/a\\u003e.&quot;, &quot;detectRetina&quot;: false, &quot;maxNativeZoom&quot;: 18, &quot;maxZoom&quot;: 18, &quot;minZoom&quot;: 0, &quot;noWrap&quot;: false, &quot;opacity&quot;: 1, &quot;subdomains&quot;: &quot;abc&quot;, &quot;tms&quot;: false}\n",
       "            ).addTo(map_f99f3f2fa462223b581ccaafbae2656a);\n",
       "        \n",
       "    \n",
       "            var marker_b75fe15c3f532d3dceefb3379203358f = L.marker(\n",
       "                [52.2723505, 7.2796275],\n",
       "                {}\n",
       "            ).addTo(map_f99f3f2fa462223b581ccaafbae2656a);\n",
       "        \n",
       "    \n",
       "        var popup_36a85d15d3e4bba18c8814c7c9e65ae0 = L.popup({&quot;maxWidth&quot;: &quot;100%&quot;});\n",
       "\n",
       "        \n",
       "            \n",
       "                var html_03d480d581f3a3e48e19a47f26961487 = $(`&lt;div id=&quot;html_03d480d581f3a3e48e19a47f26961487&quot; style=&quot;width: 100.0%; height: 100.0%;&quot;&gt;&lt;i&gt;ohne&lt;/i&gt;&lt;/div&gt;`)[0];\n",
       "                popup_36a85d15d3e4bba18c8814c7c9e65ae0.setContent(html_03d480d581f3a3e48e19a47f26961487);\n",
       "            \n",
       "        \n",
       "\n",
       "        marker_b75fe15c3f532d3dceefb3379203358f.bindPopup(popup_36a85d15d3e4bba18c8814c7c9e65ae0)\n",
       "        ;\n",
       "\n",
       "        \n",
       "    \n",
       "    \n",
       "            var marker_6116afbaaf37e6b12df921444a0619b0 = L.marker(\n",
       "                [51.1073016, 5.8719765],\n",
       "                {}\n",
       "            ).addTo(map_f99f3f2fa462223b581ccaafbae2656a);\n",
       "        \n",
       "    \n",
       "        var popup_ef1a7829024d34d841a675f5c9f39ae3 = L.popup({&quot;maxWidth&quot;: &quot;100%&quot;});\n",
       "\n",
       "        \n",
       "            \n",
       "                var html_c13eb9423bef0c4f71bdba90885fbffa = $(`&lt;div id=&quot;html_c13eb9423bef0c4f71bdba90885fbffa&quot; style=&quot;width: 100.0%; height: 100.0%;&quot;&gt;&lt;i&gt;echt&lt;/i&gt;&lt;/div&gt;`)[0];\n",
       "                popup_ef1a7829024d34d841a675f5c9f39ae3.setContent(html_c13eb9423bef0c4f71bdba90885fbffa);\n",
       "            \n",
       "        \n",
       "\n",
       "        marker_6116afbaaf37e6b12df921444a0619b0.bindPopup(popup_ef1a7829024d34d841a675f5c9f39ae3)\n",
       "        ;\n",
       "\n",
       "        \n",
       "    \n",
       "    \n",
       "            var marker_bb632ab17d27fe943e24471911484ae2 = L.marker(\n",
       "                [50.9974235, 5.8666627],\n",
       "                {}\n",
       "            ).addTo(map_f99f3f2fa462223b581ccaafbae2656a);\n",
       "        \n",
       "    \n",
       "        var popup_f86a04bc8f42cc052628ee4146165c02 = L.popup({&quot;maxWidth&quot;: &quot;100%&quot;});\n",
       "\n",
       "        \n",
       "            \n",
       "                var html_83f81875f9c259468d3724ed275a7ffd = $(`&lt;div id=&quot;html_83f81875f9c259468d3724ed275a7ffd&quot; style=&quot;width: 100.0%; height: 100.0%;&quot;&gt;&lt;i&gt;sittard&lt;/i&gt;&lt;/div&gt;`)[0];\n",
       "                popup_f86a04bc8f42cc052628ee4146165c02.setContent(html_83f81875f9c259468d3724ed275a7ffd);\n",
       "            \n",
       "        \n",
       "\n",
       "        marker_bb632ab17d27fe943e24471911484ae2.bindPopup(popup_f86a04bc8f42cc052628ee4146165c02)\n",
       "        ;\n",
       "\n",
       "        \n",
       "    \n",
       "    \n",
       "            var marker_092d95ca3e2520310e5e29230298feb2 = L.marker(\n",
       "                [50.8141622, 5.6692203],\n",
       "                {}\n",
       "            ).addTo(map_f99f3f2fa462223b581ccaafbae2656a);\n",
       "        \n",
       "    \n",
       "        var popup_b3846dbbfb346010dd60cd7f743da2ea = L.popup({&quot;maxWidth&quot;: &quot;100%&quot;});\n",
       "\n",
       "        \n",
       "            \n",
       "                var html_32a57750a988e08e19fdd3083e01dbc6 = $(`&lt;div id=&quot;html_32a57750a988e08e19fdd3083e01dbc6&quot; style=&quot;width: 100.0%; height: 100.0%;&quot;&gt;&lt;i&gt;kanne&lt;/i&gt;&lt;/div&gt;`)[0];\n",
       "                popup_b3846dbbfb346010dd60cd7f743da2ea.setContent(html_32a57750a988e08e19fdd3083e01dbc6);\n",
       "            \n",
       "        \n",
       "\n",
       "        marker_092d95ca3e2520310e5e29230298feb2.bindPopup(popup_b3846dbbfb346010dd60cd7f743da2ea)\n",
       "        ;\n",
       "\n",
       "        \n",
       "    \n",
       "    \n",
       "            var marker_d77344b58927a7150ac5f77c32341879 = L.marker(\n",
       "                [50.85798545, 5.6969881818221095],\n",
       "                {}\n",
       "            ).addTo(map_f99f3f2fa462223b581ccaafbae2656a);\n",
       "        \n",
       "    \n",
       "        var popup_18b80855a621fdec5cd044fc98453c46 = L.popup({&quot;maxWidth&quot;: &quot;100%&quot;});\n",
       "\n",
       "        \n",
       "            \n",
       "                var html_777d612a32a54f94141543f932aed0bb = $(`&lt;div id=&quot;html_777d612a32a54f94141543f932aed0bb&quot; style=&quot;width: 100.0%; height: 100.0%;&quot;&gt;&lt;i&gt;maastricht&lt;/i&gt;&lt;/div&gt;`)[0];\n",
       "                popup_18b80855a621fdec5cd044fc98453c46.setContent(html_777d612a32a54f94141543f932aed0bb);\n",
       "            \n",
       "        \n",
       "\n",
       "        marker_d77344b58927a7150ac5f77c32341879.bindPopup(popup_18b80855a621fdec5cd044fc98453c46)\n",
       "        ;\n",
       "\n",
       "        \n",
       "    \n",
       "    \n",
       "            var marker_4ff6de43f7ac520b987581c4fbbd77f9 = L.marker(\n",
       "                [50.9673322, 5.8277007],\n",
       "                {}\n",
       "            ).addTo(map_f99f3f2fa462223b581ccaafbae2656a);\n",
       "        \n",
       "    \n",
       "        var popup_7449be16701558cf6a035533dd5c70c5 = L.popup({&quot;maxWidth&quot;: &quot;100%&quot;});\n",
       "\n",
       "        \n",
       "            \n",
       "                var html_ca484edeb80882a75eed5df532378806 = $(`&lt;div id=&quot;html_ca484edeb80882a75eed5df532378806&quot; style=&quot;width: 100.0%; height: 100.0%;&quot;&gt;&lt;i&gt;geleen&lt;/i&gt;&lt;/div&gt;`)[0];\n",
       "                popup_7449be16701558cf6a035533dd5c70c5.setContent(html_ca484edeb80882a75eed5df532378806);\n",
       "            \n",
       "        \n",
       "\n",
       "        marker_4ff6de43f7ac520b987581c4fbbd77f9.bindPopup(popup_7449be16701558cf6a035533dd5c70c5)\n",
       "        ;\n",
       "\n",
       "        \n",
       "    \n",
       "    \n",
       "            var marker_96800f10de0316e4485816476d2e7c78 = L.marker(\n",
       "                [50.889865, 5.8575404],\n",
       "                {}\n",
       "            ).addTo(map_f99f3f2fa462223b581ccaafbae2656a);\n",
       "        \n",
       "    \n",
       "        var popup_a665875bd27a3adc068fc84749f9a92d = L.popup({&quot;maxWidth&quot;: &quot;100%&quot;});\n",
       "\n",
       "        \n",
       "            \n",
       "                var html_067829a9da9b052022ef4069df164481 = $(`&lt;div id=&quot;html_067829a9da9b052022ef4069df164481&quot; style=&quot;width: 100.0%; height: 100.0%;&quot;&gt;&lt;i&gt;hulsberg&lt;/i&gt;&lt;/div&gt;`)[0];\n",
       "                popup_a665875bd27a3adc068fc84749f9a92d.setContent(html_067829a9da9b052022ef4069df164481);\n",
       "            \n",
       "        \n",
       "\n",
       "        marker_96800f10de0316e4485816476d2e7c78.bindPopup(popup_a665875bd27a3adc068fc84749f9a92d)\n",
       "        ;\n",
       "\n",
       "        \n",
       "    \n",
       "    \n",
       "            var marker_afd691b08d6bfa50ae18c92dd71106d9 = L.marker(\n",
       "                [50.8775239, 5.981506585454879],\n",
       "                {}\n",
       "            ).addTo(map_f99f3f2fa462223b581ccaafbae2656a);\n",
       "        \n",
       "    \n",
       "        var popup_d059db69e1ba63a2ed1cd4b56ee0e7ed = L.popup({&quot;maxWidth&quot;: &quot;100%&quot;});\n",
       "\n",
       "        \n",
       "            \n",
       "                var html_3fa90a8ee171369ed6c59fa8bfe9ce49 = $(`&lt;div id=&quot;html_3fa90a8ee171369ed6c59fa8bfe9ce49&quot; style=&quot;width: 100.0%; height: 100.0%;&quot;&gt;&lt;i&gt;heerlen&lt;/i&gt;&lt;/div&gt;`)[0];\n",
       "                popup_d059db69e1ba63a2ed1cd4b56ee0e7ed.setContent(html_3fa90a8ee171369ed6c59fa8bfe9ce49);\n",
       "            \n",
       "        \n",
       "\n",
       "        marker_afd691b08d6bfa50ae18c92dd71106d9.bindPopup(popup_d059db69e1ba63a2ed1cd4b56ee0e7ed)\n",
       "        ;\n",
       "\n",
       "        \n",
       "    \n",
       "    \n",
       "            var marker_ea9944ffbcebfacf274e9672fc95d9ee = L.marker(\n",
       "                [50.776351, 6.083862],\n",
       "                {}\n",
       "            ).addTo(map_f99f3f2fa462223b581ccaafbae2656a);\n",
       "        \n",
       "    \n",
       "        var popup_0ed7d5b3087c9af496818f631de6ea5a = L.popup({&quot;maxWidth&quot;: &quot;100%&quot;});\n",
       "\n",
       "        \n",
       "            \n",
       "                var html_5b3e65ad2a7405938eff3fd45d02ac9d = $(`&lt;div id=&quot;html_5b3e65ad2a7405938eff3fd45d02ac9d&quot; style=&quot;width: 100.0%; height: 100.0%;&quot;&gt;&lt;i&gt;aachen&lt;/i&gt;&lt;/div&gt;`)[0];\n",
       "                popup_0ed7d5b3087c9af496818f631de6ea5a.setContent(html_5b3e65ad2a7405938eff3fd45d02ac9d);\n",
       "            \n",
       "        \n",
       "\n",
       "        marker_ea9944ffbcebfacf274e9672fc95d9ee.bindPopup(popup_0ed7d5b3087c9af496818f631de6ea5a)\n",
       "        ;\n",
       "\n",
       "        \n",
       "    \n",
       "    \n",
       "            var marker_f8837498804b10deef305722b43786a2 = L.marker(\n",
       "                [50.735851, 7.10066],\n",
       "                {}\n",
       "            ).addTo(map_f99f3f2fa462223b581ccaafbae2656a);\n",
       "        \n",
       "    \n",
       "        var popup_b1595cbee9350b05df821fca05d81497 = L.popup({&quot;maxWidth&quot;: &quot;100%&quot;});\n",
       "\n",
       "        \n",
       "            \n",
       "                var html_5dcdf08c1e9c0aaf2c726eddfe76b6da = $(`&lt;div id=&quot;html_5dcdf08c1e9c0aaf2c726eddfe76b6da&quot; style=&quot;width: 100.0%; height: 100.0%;&quot;&gt;&lt;i&gt;bonn&lt;/i&gt;&lt;/div&gt;`)[0];\n",
       "                popup_b1595cbee9350b05df821fca05d81497.setContent(html_5dcdf08c1e9c0aaf2c726eddfe76b6da);\n",
       "            \n",
       "        \n",
       "\n",
       "        marker_f8837498804b10deef305722b43786a2.bindPopup(popup_b1595cbee9350b05df821fca05d81497)\n",
       "        ;\n",
       "\n",
       "        \n",
       "    \n",
       "    \n",
       "            var poly_line_0a00d891452beb50260d50a83414e923 = L.polyline(\n",
       "                [[52.2723505, 7.2796275], [51.1073016, 5.8719765], [50.9974235, 5.8666627], [50.8141622, 5.6692203], [50.85798545, 5.6969881818221095], [50.9673322, 5.8277007], [50.889865, 5.8575404], [50.8775239, 5.981506585454879], [50.776351, 6.083862], [50.735851, 7.10066], [52.2723505, 7.2796275]],\n",
       "                {&quot;bubblingMouseEvents&quot;: true, &quot;color&quot;: &quot;blue&quot;, &quot;dashArray&quot;: null, &quot;dashOffset&quot;: null, &quot;fill&quot;: false, &quot;fillColor&quot;: &quot;blue&quot;, &quot;fillOpacity&quot;: 0.2, &quot;fillRule&quot;: &quot;evenodd&quot;, &quot;lineCap&quot;: &quot;round&quot;, &quot;lineJoin&quot;: &quot;round&quot;, &quot;noClip&quot;: false, &quot;opacity&quot;: 0.9, &quot;smoothFactor&quot;: 1.0, &quot;stroke&quot;: true, &quot;weight&quot;: 4}\n",
       "            ).addTo(map_f99f3f2fa462223b581ccaafbae2656a);\n",
       "        \n",
       "&lt;/script&gt;\n",
       "&lt;/html&gt;\" style=\"position:absolute;width:100%;height:100%;left:0;top:0;border:none !important;\" allowfullscreen webkitallowfullscreen mozallowfullscreen></iframe></div></div>"
      ],
      "text/plain": [
       "<folium.folium.Map at 0x129d4d30390>"
      ]
     },
     "execution_count": 22,
     "metadata": {},
     "output_type": "execute_result"
    }
   ],
   "source": [
    "m = folium.Map(location=cities_dict[best_road[0]], zoom_start=12, tiles=\"Stamen Terrain\")\n",
    "loc = []\n",
    "for el in best_road:\n",
    "  loc.append(cities_dict[el])\n",
    "  folium.Marker(\n",
    "      cities_dict[el], popup=f\"<i>{el}</i>\"\n",
    "  ).add_to(m)\n",
    "loc.append(cities_dict[best_road[0]])\n",
    "folium.PolyLine(loc,\n",
    "                color='blue',\n",
    "                weight=4,\n",
    "                opacity=0.9).add_to(m)\n",
    "m"
   ]
  },
  {
   "cell_type": "code",
   "execution_count": 23,
   "metadata": {},
   "outputs": [
    {
     "data": {
      "text/plain": [
       "array(['ohne', 'echt', 'sittard', 'kanne', 'maastricht', 'geleen',\n",
       "       'hulsberg', 'heerlen', 'aachen', 'bonn'], dtype=object)"
      ]
     },
     "execution_count": 23,
     "metadata": {},
     "output_type": "execute_result"
    }
   ],
   "source": [
    "best_road = best_solution[2][0]\n",
    "best_road\n"
   ]
  },
  {
   "cell_type": "code",
   "execution_count": null,
   "metadata": {},
   "outputs": [],
   "source": []
  }
 ],
 "metadata": {
  "kernelspec": {
   "display_name": "Python 3 (ipykernel)",
   "language": "python",
   "name": "python3"
  },
  "language_info": {
   "codemirror_mode": {
    "name": "ipython",
    "version": 3
   },
   "file_extension": ".py",
   "mimetype": "text/x-python",
   "name": "python",
   "nbconvert_exporter": "python",
   "pygments_lexer": "ipython3",
   "version": "3.11.1"
  }
 },
 "nbformat": 4,
 "nbformat_minor": 4
}
