{
 "cells": [
  {
   "cell_type": "markdown",
   "metadata": {
    "id": "AeNkytBxOxQX"
   },
   "source": [
    "# Travelling Salesperson Problem solved using genetic algorithms"
   ]
  },
  {
   "cell_type": "code",
   "execution_count": 15,
   "metadata": {
    "executionInfo": {
     "elapsed": 409,
     "status": "ok",
     "timestamp": 1673520743809,
     "user": {
      "displayName": "Mohammed EL-Boukri",
      "userId": "09133861228848981695"
     },
     "user_tz": -60
    },
    "id": "bcB2mhC_OxQm"
   },
   "outputs": [],
   "source": [
    "# Imports \n",
    "import numpy as np\n",
    "import random\n",
    "import pandas as pd\n",
    "from geopy import distance,geocoders,Nominatim # to calculate distance on the surface\n",
    "import folium\n",
    "from datetime import datetime"
   ]
  },
  {
   "cell_type": "code",
   "execution_count": 16,
   "metadata": {
    "id": "RlIwCRIlOxQu"
   },
   "outputs": [],
   "source": [
    "# Parameters\n",
    "n_cities = 10\n",
    "\n",
    "n_population = 50\n",
    "\n",
    "mutation_rate = 0.3\n",
    "\n",
    "df = pd.read_csv('output.csv')"
   ]
  },
  {
   "cell_type": "code",
   "execution_count": 17,
   "metadata": {
    "colab": {
     "base_uri": "https://localhost:8080/"
    },
    "executionInfo": {
     "elapsed": 9,
     "status": "ok",
     "timestamp": 1673519873823,
     "user": {
      "displayName": "Mohammed EL-Boukri",
      "userId": "09133861228848981695"
     },
     "user_tz": -60
    },
    "id": "B9RITKvqOxQw",
    "outputId": "a8856c80-8e17-48c5-de48-0119f1ae32bb"
   },
   "outputs": [],
   "source": [
    "# Generating a list of coordenades representing each city\n",
    "geolocator = geocoders.Nominatim(user_agent=\"my_email@myserver.com\")\n",
    "coordinates_list=[]\n",
    "names_list = np.array(df['Street'].head(n_cities))\n",
    "for city in names_list:\n",
    "    location = geolocator.geocode(city)\n",
    "    coordinates_list.append(list((location.latitude, location.longitude)))\n",
    "    \n",
    "cities_dict = { x:y for x,y in zip(names_list,coordinates_list)}\n",
    "\n",
    "# Function to compute the distance between two points\n",
    "def compute_city_distance_coordinates(a,b):\n",
    "    return distance.distance((a[0], a[1]), (b[0],b[1])).km\n",
    "\n",
    "def compute_city_distance_names(city_a, city_b, cities_dict):\n",
    "    return compute_city_distance_coordinates(cities_dict[city_a], cities_dict[city_b])\n",
    "\n",
    "# cities_dict"
   ]
  },
  {
   "cell_type": "markdown",
   "metadata": {
    "id": "Kup6XCy6OxQ1"
   },
   "source": [
    "## 1. Create the first population set\n",
    "We randomly shuffle the cities N times where N=population_size"
   ]
  },
  {
   "cell_type": "code",
   "execution_count": 18,
   "metadata": {
    "id": "Gfh5ENNzOxQ3"
   },
   "outputs": [],
   "source": [
    "# First step: Create the first population set\n",
    "def genesis(city_list, n_population):\n",
    "\n",
    "    population_set = []\n",
    "    for i in range(n_population):\n",
    "        #Randomly generating a new solution\n",
    "        sol_i = city_list[np.random.choice(list(range(n_cities)), n_cities, replace=False)]\n",
    "        population_set.append(sol_i)\n",
    "    return np.array(population_set)\n",
    "\n",
    "population_set = genesis(names_list, n_population)\n",
    "# population_set"
   ]
  },
  {
   "cell_type": "markdown",
   "metadata": {
    "id": "2kgBecMHOxQ6"
   },
   "source": [
    "## 2. Evaluate solutions fitness\n",
    "The solutions are defined so that the first element on the list is the first city to visit, then the second, etc. and the last city is linked to the first.\n",
    "The fitness function needs to compute the distance between subsequent cities."
   ]
  },
  {
   "cell_type": "code",
   "execution_count": 19,
   "metadata": {
    "id": "LfFgr8LWOxQ-"
   },
   "outputs": [],
   "source": [
    "def fitness_eval(city_list, cities_dict):\n",
    "    total = 0\n",
    "    for i in range(n_cities-1):\n",
    "        a = city_list[i]\n",
    "        b = city_list[i+1]\n",
    "        total += compute_city_distance_names(a,b, cities_dict)\n",
    "    return total"
   ]
  },
  {
   "cell_type": "code",
   "execution_count": 20,
   "metadata": {
    "colab": {
     "base_uri": "https://localhost:8080/"
    },
    "executionInfo": {
     "elapsed": 10,
     "status": "ok",
     "timestamp": 1673519874299,
     "user": {
      "displayName": "Mohammed EL-Boukri",
      "userId": "09133861228848981695"
     },
     "user_tz": -60
    },
    "id": "yNl6ZIF8OxRA",
    "outputId": "c9bdafeb-e483-4814-c620-619b9347dafb"
   },
   "outputs": [],
   "source": [
    "def get_all_fitnes(population_set, cities_dict):\n",
    "    fitnes_list = np.zeros(n_population)\n",
    "\n",
    "    #Looping over all solutions computing the fitness for each solution\n",
    "    for i in  range(n_population):\n",
    "        fitnes_list[i] = fitness_eval(population_set[i], cities_dict)\n",
    "\n",
    "    return fitnes_list\n",
    "\n",
    "fitnes_list = get_all_fitnes(population_set,cities_dict)\n",
    "# fitnes_list"
   ]
  },
  {
   "cell_type": "markdown",
   "metadata": {
    "id": "kxXKdA7nOxRC"
   },
   "source": [
    "# 3. Progenitors selection\n",
    "I will select a new set of progenitors using the Roulette Wheel Selection. Generates a list of progenitor pairs where N= len(population_set) but at each position there are two solutions to merge"
   ]
  },
  {
   "cell_type": "code",
   "execution_count": 21,
   "metadata": {
    "colab": {
     "base_uri": "https://localhost:8080/"
    },
    "executionInfo": {
     "elapsed": 9,
     "status": "ok",
     "timestamp": 1673519874299,
     "user": {
      "displayName": "Mohammed EL-Boukri",
      "userId": "09133861228848981695"
     },
     "user_tz": -60
    },
    "id": "MIJbZrCbOxRD",
    "outputId": "2d9abcd7-e4a6-43ff-fc42-e560650dec52"
   },
   "outputs": [],
   "source": [
    "def progenitor_selection(population_set,fitnes_list):\n",
    "    total_fit = fitnes_list.sum()\n",
    "    prob_list = fitnes_list/total_fit\n",
    "    \n",
    "    #Notice there is the chance that a progenitor. mates with oneself\n",
    "    progenitor_list_a = np.random.choice(list(range(len(population_set))), len(population_set),p=prob_list, replace=True)\n",
    "    progenitor_list_b = np.random.choice(list(range(len(population_set))), len(population_set),p=prob_list, replace=True)\n",
    "    \n",
    "    progenitor_list_a = population_set[progenitor_list_a]\n",
    "    progenitor_list_b = population_set[progenitor_list_b]\n",
    "    \n",
    "    \n",
    "    return np.array([progenitor_list_a,progenitor_list_b])\n",
    "\n",
    "\n",
    "progenitor_list = progenitor_selection(population_set,fitnes_list)\n",
    "# progenitor_list[0][2]"
   ]
  },
  {
   "cell_type": "markdown",
   "metadata": {
    "id": "actj67WUOxRE"
   },
   "source": [
    "# 4. Mating\n",
    "For each pair of  parents we'll generate an offspring pair. Since we cannot repeat cities what we'll do is copy a random chunk from one progenitor and fill the blanks with the other progenitor."
   ]
  },
  {
   "cell_type": "code",
   "execution_count": 22,
   "metadata": {
    "colab": {
     "base_uri": "https://localhost:8080/"
    },
    "executionInfo": {
     "elapsed": 1265,
     "status": "ok",
     "timestamp": 1673519893506,
     "user": {
      "displayName": "Mohammed EL-Boukri",
      "userId": "09133861228848981695"
     },
     "user_tz": -60
    },
    "id": "yv50iZSMOxRF",
    "outputId": "fbd5ba83-9fbc-4a4c-c628-44bd2b33fc7d"
   },
   "outputs": [],
   "source": [
    "def mate_progenitors(prog_a, prog_b):\n",
    "    offspring = prog_a[0:5]\n",
    "\n",
    "    for city in prog_b:\n",
    "\n",
    "        if not city in offspring:\n",
    "            offspring = np.concatenate((offspring,[city]))\n",
    "\n",
    "    return offspring\n",
    "            \n",
    "    \n",
    "    \n",
    "def mate_population(progenitor_list):\n",
    "    new_population_set = []\n",
    "    for i in range(progenitor_list.shape[1]):\n",
    "        prog_a, prog_b = progenitor_list[0][i], progenitor_list[1][i]\n",
    "        offspring = mate_progenitors(prog_a, prog_b)\n",
    "        new_population_set.append(offspring)\n",
    "        \n",
    "    return new_population_set\n",
    "\n",
    "new_population_set = mate_population(progenitor_list)\n",
    "# new_population_set[0]"
   ]
  },
  {
   "cell_type": "markdown",
   "metadata": {
    "id": "4SsYjUEeOxRG"
   },
   "source": [
    "# 5. Mutation\n",
    "Now for each element of the new population we add a random chance of swapping"
   ]
  },
  {
   "cell_type": "code",
   "execution_count": 23,
   "metadata": {
    "colab": {
     "base_uri": "https://localhost:8080/"
    },
    "executionInfo": {
     "elapsed": 8,
     "status": "ok",
     "timestamp": 1673519893835,
     "user": {
      "displayName": "Mohammed EL-Boukri",
      "userId": "09133861228848981695"
     },
     "user_tz": -60
    },
    "id": "xRH8AYy6OxRH",
    "outputId": "3bfec81e-bc4f-4920-8069-c9105e7cb3ac"
   },
   "outputs": [],
   "source": [
    "def mutate_offspring(offspring):\n",
    "    for q in range(int(n_cities*mutation_rate)):\n",
    "        a = np.random.randint(0,n_cities)\n",
    "        b = np.random.randint(0,n_cities)\n",
    "\n",
    "        offspring[a], offspring[b] = offspring[b], offspring[a]\n",
    "\n",
    "    return offspring\n",
    "    \n",
    "    \n",
    "def mutate_population(new_population_set):\n",
    "    mutated_pop = []\n",
    "    for offspring in new_population_set:\n",
    "        mutated_pop.append(mutate_offspring(offspring))\n",
    "    return mutated_pop\n",
    "\n",
    "mutated_pop = mutate_population(new_population_set)\n",
    "# mutated_pop[0]"
   ]
  },
  {
   "cell_type": "markdown",
   "metadata": {
    "id": "4Mq6MDo_OxRI"
   },
   "source": [
    "# 6. Stopping\n",
    "To select the stopping criteria we'll need to create a loop to stop first. Then I'll set it to loop at 1000 iterations."
   ]
  },
  {
   "cell_type": "code",
   "execution_count": 24,
   "metadata": {
    "colab": {
     "base_uri": "https://localhost:8080/"
    },
    "executionInfo": {
     "elapsed": 105509,
     "status": "ok",
     "timestamp": 1673519999338,
     "user": {
      "displayName": "Mohammed EL-Boukri",
      "userId": "09133861228848981695"
     },
     "user_tz": -60
    },
    "id": "UFvuMUYCOxRJ",
    "outputId": "93af90b0-9091-4b12-df13-9cef37646174"
   },
   "outputs": [
    {
     "name": "stdout",
     "output_type": "stream",
     "text": [
      "0 25.365555512197435 34.66498638617748 14/01/23 20:19\n",
      "100 26.398155552425152 34.37586500908275 14/01/23 20:19\n",
      "200 27.45493502554148 34.596850117415954 14/01/23 20:20\n",
      "300 27.787866981552554 35.09985367305359 14/01/23 20:20\n",
      "400 25.348830881573242 34.759764424404224 14/01/23 20:20\n",
      "500 26.015096641683673 34.53993227118854 14/01/23 20:20\n",
      "600 25.620995025192332 34.27753055221439 14/01/23 20:20\n",
      "700 27.625584957459576 35.47259773759919 14/01/23 20:20\n",
      "800 27.928395146557005 35.05621283752867 14/01/23 20:20\n",
      "900 25.090435913977437 34.36714607865234 14/01/23 20:20\n"
     ]
    }
   ],
   "source": [
    "best_solution = [-1,np.inf,np.array([])]\n",
    "for i in range(1000):\n",
    "    if i%100==0: \n",
    "        print(i, fitnes_list.min(), fitnes_list.mean(), datetime.now().strftime(\"%d/%m/%y %H:%M\"))\n",
    "    fitnes_list = get_all_fitnes(mutated_pop,cities_dict)\n",
    "    \n",
    "    #Saving the best solution\n",
    "    if fitnes_list.min() < best_solution[1]:\n",
    "        best_solution[0] = i\n",
    "        best_solution[1] = fitnes_list.min()\n",
    "        best_solution[2] = np.array(mutated_pop)[fitnes_list.min() == fitnes_list]\n",
    "    \n",
    "    progenitor_list = progenitor_selection(population_set,fitnes_list)\n",
    "    new_population_set = mate_population(progenitor_list)\n",
    "    \n",
    "    mutated_pop = mutate_population(new_population_set)"
   ]
  },
  {
   "cell_type": "code",
   "execution_count": 25,
   "metadata": {
    "colab": {
     "base_uri": "https://localhost:8080/"
    },
    "executionInfo": {
     "elapsed": 82,
     "status": "ok",
     "timestamp": 1673519999341,
     "user": {
      "displayName": "Mohammed EL-Boukri",
      "userId": "09133861228848981695"
     },
     "user_tz": -60
    },
    "id": "eKCQTC3fOxRJ",
    "outputId": "140c213d-31da-4cc6-fd06-5ffa0dee1754"
   },
   "outputs": [
    {
     "data": {
      "text/plain": [
       "[580,\n",
       " 18.075626826443454,\n",
       " array([['38 Rue Balard', '4 Boulevard de Grenelle',\n",
       "         '124 Rue du Faubourg Saint-Honore',\n",
       "         '2 Rue du Faubourg Saint-Honore', '5 Rue Audran',\n",
       "         '43 Avenue de Clichy', '31 Avenue Secretan', '24 Rue Tiquetonne',\n",
       "         '85 Boulevard de Sebastopol', \"30 Avenue d'Italie\"]], dtype=object)]"
      ]
     },
     "execution_count": 25,
     "metadata": {},
     "output_type": "execute_result"
    }
   ],
   "source": [
    "best_solution"
   ]
  },
  {
   "cell_type": "code",
   "execution_count": 26,
   "metadata": {
    "colab": {
     "base_uri": "https://localhost:8080/"
    },
    "executionInfo": {
     "elapsed": 560,
     "status": "ok",
     "timestamp": 1673520656312,
     "user": {
      "displayName": "Mohammed EL-Boukri",
      "userId": "09133861228848981695"
     },
     "user_tz": -60
    },
    "id": "32PyhXKCO1R1",
    "outputId": "7dbab203-c558-4d34-c20a-bc84b68c17d0"
   },
   "outputs": [
    {
     "data": {
      "text/plain": [
       "array(['38 Rue Balard', '4 Boulevard de Grenelle',\n",
       "       '124 Rue du Faubourg Saint-Honore',\n",
       "       '2 Rue du Faubourg Saint-Honore', '5 Rue Audran',\n",
       "       '43 Avenue de Clichy', '31 Avenue Secretan', '24 Rue Tiquetonne',\n",
       "       '85 Boulevard de Sebastopol', \"30 Avenue d'Italie\"], dtype=object)"
      ]
     },
     "execution_count": 26,
     "metadata": {},
     "output_type": "execute_result"
    }
   ],
   "source": [
    "best_road = best_solution[2][0]\n",
    "best_road"
   ]
  },
  {
   "cell_type": "code",
   "execution_count": 27,
   "metadata": {
    "colab": {
     "base_uri": "https://localhost:8080/"
    },
    "executionInfo": {
     "elapsed": 486,
     "status": "ok",
     "timestamp": 1673520691518,
     "user": {
      "displayName": "Mohammed EL-Boukri",
      "userId": "09133861228848981695"
     },
     "user_tz": -60
    },
    "id": "cOfDYKkzmFDJ",
    "outputId": "0ff68db5-817e-4ab8-ac17-264f88a3dc02"
   },
   "outputs": [
    {
     "data": {
      "text/plain": [
       "[48.8428844, 2.2773907]"
      ]
     },
     "execution_count": 27,
     "metadata": {},
     "output_type": "execute_result"
    }
   ],
   "source": [
    "cities_dict[best_road[0]]"
   ]
  },
  {
   "cell_type": "code",
   "execution_count": 28,
   "metadata": {
    "executionInfo": {
     "elapsed": 275,
     "status": "ok",
     "timestamp": 1673526054321,
     "user": {
      "displayName": "Mohammed EL-Boukri",
      "userId": "09133861228848981695"
     },
     "user_tz": -60
    },
    "id": "ZSzAT-z-mzI_"
   },
   "outputs": [
    {
     "data": {
      "text/html": [
       "<div style=\"width:100%;\"><div style=\"position:relative;width:100%;height:0;padding-bottom:60%;\"><span style=\"color:#565656\">Make this Notebook Trusted to load map: File -> Trust Notebook</span><iframe srcdoc=\"&lt;!DOCTYPE html&gt;\n",
       "&lt;html&gt;\n",
       "&lt;head&gt;\n",
       "    \n",
       "    &lt;meta http-equiv=&quot;content-type&quot; content=&quot;text/html; charset=UTF-8&quot; /&gt;\n",
       "    \n",
       "        &lt;script&gt;\n",
       "            L_NO_TOUCH = false;\n",
       "            L_DISABLE_3D = false;\n",
       "        &lt;/script&gt;\n",
       "    \n",
       "    &lt;style&gt;html, body {width: 100%;height: 100%;margin: 0;padding: 0;}&lt;/style&gt;\n",
       "    &lt;style&gt;#map {position:absolute;top:0;bottom:0;right:0;left:0;}&lt;/style&gt;\n",
       "    &lt;script src=&quot;https://cdn.jsdelivr.net/npm/leaflet@1.9.3/dist/leaflet.js&quot;&gt;&lt;/script&gt;\n",
       "    &lt;script src=&quot;https://code.jquery.com/jquery-1.12.4.min.js&quot;&gt;&lt;/script&gt;\n",
       "    &lt;script src=&quot;https://cdn.jsdelivr.net/npm/bootstrap@5.2.2/dist/js/bootstrap.bundle.min.js&quot;&gt;&lt;/script&gt;\n",
       "    &lt;script src=&quot;https://cdnjs.cloudflare.com/ajax/libs/Leaflet.awesome-markers/2.0.2/leaflet.awesome-markers.js&quot;&gt;&lt;/script&gt;\n",
       "    &lt;link rel=&quot;stylesheet&quot; href=&quot;https://cdn.jsdelivr.net/npm/leaflet@1.9.3/dist/leaflet.css&quot;/&gt;\n",
       "    &lt;link rel=&quot;stylesheet&quot; href=&quot;https://cdn.jsdelivr.net/npm/bootstrap@5.2.2/dist/css/bootstrap.min.css&quot;/&gt;\n",
       "    &lt;link rel=&quot;stylesheet&quot; href=&quot;https://netdna.bootstrapcdn.com/bootstrap/3.0.0/css/bootstrap.min.css&quot;/&gt;\n",
       "    &lt;link rel=&quot;stylesheet&quot; href=&quot;https://cdn.jsdelivr.net/npm/@fortawesome/fontawesome-free@6.2.0/css/all.min.css&quot;/&gt;\n",
       "    &lt;link rel=&quot;stylesheet&quot; href=&quot;https://cdnjs.cloudflare.com/ajax/libs/Leaflet.awesome-markers/2.0.2/leaflet.awesome-markers.css&quot;/&gt;\n",
       "    &lt;link rel=&quot;stylesheet&quot; href=&quot;https://cdn.jsdelivr.net/gh/python-visualization/folium/folium/templates/leaflet.awesome.rotate.min.css&quot;/&gt;\n",
       "    \n",
       "            &lt;meta name=&quot;viewport&quot; content=&quot;width=device-width,\n",
       "                initial-scale=1.0, maximum-scale=1.0, user-scalable=no&quot; /&gt;\n",
       "            &lt;style&gt;\n",
       "                #map_bf12a052c597fbb022bc0fa298d81afd {\n",
       "                    position: relative;\n",
       "                    width: 100.0%;\n",
       "                    height: 100.0%;\n",
       "                    left: 0.0%;\n",
       "                    top: 0.0%;\n",
       "                }\n",
       "                .leaflet-container { font-size: 1rem; }\n",
       "            &lt;/style&gt;\n",
       "        \n",
       "&lt;/head&gt;\n",
       "&lt;body&gt;\n",
       "    \n",
       "    \n",
       "            &lt;div class=&quot;folium-map&quot; id=&quot;map_bf12a052c597fbb022bc0fa298d81afd&quot; &gt;&lt;/div&gt;\n",
       "        \n",
       "&lt;/body&gt;\n",
       "&lt;script&gt;\n",
       "    \n",
       "    \n",
       "            var map_bf12a052c597fbb022bc0fa298d81afd = L.map(\n",
       "                &quot;map_bf12a052c597fbb022bc0fa298d81afd&quot;,\n",
       "                {\n",
       "                    center: [48.8428844, 2.2773907],\n",
       "                    crs: L.CRS.EPSG3857,\n",
       "                    zoom: 12,\n",
       "                    zoomControl: true,\n",
       "                    preferCanvas: false,\n",
       "                }\n",
       "            );\n",
       "\n",
       "            \n",
       "\n",
       "        \n",
       "    \n",
       "            var tile_layer_73ddc9615875cbea6fbcddcccbdc368a = L.tileLayer(\n",
       "                &quot;https://stamen-tiles-{s}.a.ssl.fastly.net/terrain/{z}/{x}/{y}.jpg&quot;,\n",
       "                {&quot;attribution&quot;: &quot;Map tiles by \\u003ca target=\\&quot;_blank\\&quot; href=\\&quot;http://stamen.com\\&quot;\\u003eStamen Design\\u003c/a\\u003e, under \\u003ca target=\\&quot;_blank\\&quot; href=\\&quot;http://creativecommons.org/licenses/by/3.0\\&quot;\\u003eCC BY 3.0\\u003c/a\\u003e. Data by \\u0026copy; \\u003ca target=\\&quot;_blank\\&quot; href=\\&quot;http://openstreetmap.org\\&quot;\\u003eOpenStreetMap\\u003c/a\\u003e, under \\u003ca target=\\&quot;_blank\\&quot; href=\\&quot;http://creativecommons.org/licenses/by-sa/3.0\\&quot;\\u003eCC BY SA\\u003c/a\\u003e.&quot;, &quot;detectRetina&quot;: false, &quot;maxNativeZoom&quot;: 18, &quot;maxZoom&quot;: 18, &quot;minZoom&quot;: 0, &quot;noWrap&quot;: false, &quot;opacity&quot;: 1, &quot;subdomains&quot;: &quot;abc&quot;, &quot;tms&quot;: false}\n",
       "            ).addTo(map_bf12a052c597fbb022bc0fa298d81afd);\n",
       "        \n",
       "    \n",
       "            var marker_464233bfbc26ae7234d2afa2cded3c77 = L.marker(\n",
       "                [48.8428844, 2.2773907],\n",
       "                {}\n",
       "            ).addTo(map_bf12a052c597fbb022bc0fa298d81afd);\n",
       "        \n",
       "    \n",
       "        var popup_9f158b95816aad6a45fa5d5547277fe2 = L.popup({&quot;maxWidth&quot;: &quot;100%&quot;});\n",
       "\n",
       "        \n",
       "            \n",
       "                var html_4c472d156b1b8acfdd05fb89b56bcc45 = $(`&lt;div id=&quot;html_4c472d156b1b8acfdd05fb89b56bcc45&quot; style=&quot;width: 100.0%; height: 100.0%;&quot;&gt;&lt;i&gt;38 Rue Balard&lt;/i&gt;&lt;/div&gt;`)[0];\n",
       "                popup_9f158b95816aad6a45fa5d5547277fe2.setContent(html_4c472d156b1b8acfdd05fb89b56bcc45);\n",
       "            \n",
       "        \n",
       "\n",
       "        marker_464233bfbc26ae7234d2afa2cded3c77.bindPopup(popup_9f158b95816aad6a45fa5d5547277fe2)\n",
       "        ;\n",
       "\n",
       "        \n",
       "    \n",
       "    \n",
       "            var marker_51f38fd55c56a6527078dfe51223a35d = L.marker(\n",
       "                [48.8540376, 2.2888741],\n",
       "                {}\n",
       "            ).addTo(map_bf12a052c597fbb022bc0fa298d81afd);\n",
       "        \n",
       "    \n",
       "        var popup_20bfb0718be699af158832b59c43b1c6 = L.popup({&quot;maxWidth&quot;: &quot;100%&quot;});\n",
       "\n",
       "        \n",
       "            \n",
       "                var html_8b9cd46bd8aebd587949c7f4111a22ef = $(`&lt;div id=&quot;html_8b9cd46bd8aebd587949c7f4111a22ef&quot; style=&quot;width: 100.0%; height: 100.0%;&quot;&gt;&lt;i&gt;4 Boulevard de Grenelle&lt;/i&gt;&lt;/div&gt;`)[0];\n",
       "                popup_20bfb0718be699af158832b59c43b1c6.setContent(html_8b9cd46bd8aebd587949c7f4111a22ef);\n",
       "            \n",
       "        \n",
       "\n",
       "        marker_51f38fd55c56a6527078dfe51223a35d.bindPopup(popup_20bfb0718be699af158832b59c43b1c6)\n",
       "        ;\n",
       "\n",
       "        \n",
       "    \n",
       "    \n",
       "            var marker_f7708501150e4651f946ec9c67c41d04 = L.marker(\n",
       "                [48.8721214, 2.3132623],\n",
       "                {}\n",
       "            ).addTo(map_bf12a052c597fbb022bc0fa298d81afd);\n",
       "        \n",
       "    \n",
       "        var popup_44190f9daca867f6ba51b9da79718c20 = L.popup({&quot;maxWidth&quot;: &quot;100%&quot;});\n",
       "\n",
       "        \n",
       "            \n",
       "                var html_009fc1c897285b3760770708c7677b0e = $(`&lt;div id=&quot;html_009fc1c897285b3760770708c7677b0e&quot; style=&quot;width: 100.0%; height: 100.0%;&quot;&gt;&lt;i&gt;124 Rue du Faubourg Saint-Honore&lt;/i&gt;&lt;/div&gt;`)[0];\n",
       "                popup_44190f9daca867f6ba51b9da79718c20.setContent(html_009fc1c897285b3760770708c7677b0e);\n",
       "            \n",
       "        \n",
       "\n",
       "        marker_f7708501150e4651f946ec9c67c41d04.bindPopup(popup_44190f9daca867f6ba51b9da79718c20)\n",
       "        ;\n",
       "\n",
       "        \n",
       "    \n",
       "    \n",
       "            var marker_83fb20f3c23acdc8dadc86ae635b2848 = L.marker(\n",
       "                [48.8685293, 2.3230081],\n",
       "                {}\n",
       "            ).addTo(map_bf12a052c597fbb022bc0fa298d81afd);\n",
       "        \n",
       "    \n",
       "        var popup_fe731adffc015a7c04333380e3f63052 = L.popup({&quot;maxWidth&quot;: &quot;100%&quot;});\n",
       "\n",
       "        \n",
       "            \n",
       "                var html_83c56c6a6b56ed7498dc0276b58da061 = $(`&lt;div id=&quot;html_83c56c6a6b56ed7498dc0276b58da061&quot; style=&quot;width: 100.0%; height: 100.0%;&quot;&gt;&lt;i&gt;2 Rue du Faubourg Saint-Honore&lt;/i&gt;&lt;/div&gt;`)[0];\n",
       "                popup_fe731adffc015a7c04333380e3f63052.setContent(html_83c56c6a6b56ed7498dc0276b58da061);\n",
       "            \n",
       "        \n",
       "\n",
       "        marker_83fb20f3c23acdc8dadc86ae635b2848.bindPopup(popup_fe731adffc015a7c04333380e3f63052)\n",
       "        ;\n",
       "\n",
       "        \n",
       "    \n",
       "    \n",
       "            var marker_196f572a70f86b386e33bc4b8db401e7 = L.marker(\n",
       "                [48.8851871, 2.3358188],\n",
       "                {}\n",
       "            ).addTo(map_bf12a052c597fbb022bc0fa298d81afd);\n",
       "        \n",
       "    \n",
       "        var popup_7e8d22f837d131701a45bb61f879d6dc = L.popup({&quot;maxWidth&quot;: &quot;100%&quot;});\n",
       "\n",
       "        \n",
       "            \n",
       "                var html_3986182559d6c9eecde5d3fc33d312f6 = $(`&lt;div id=&quot;html_3986182559d6c9eecde5d3fc33d312f6&quot; style=&quot;width: 100.0%; height: 100.0%;&quot;&gt;&lt;i&gt;5 Rue Audran&lt;/i&gt;&lt;/div&gt;`)[0];\n",
       "                popup_7e8d22f837d131701a45bb61f879d6dc.setContent(html_3986182559d6c9eecde5d3fc33d312f6);\n",
       "            \n",
       "        \n",
       "\n",
       "        marker_196f572a70f86b386e33bc4b8db401e7.bindPopup(popup_7e8d22f837d131701a45bb61f879d6dc)\n",
       "        ;\n",
       "\n",
       "        \n",
       "    \n",
       "    \n",
       "            var marker_e0858b8dc2c10a9a59449f45442ee23d = L.marker(\n",
       "                [48.8869589, 2.3256654],\n",
       "                {}\n",
       "            ).addTo(map_bf12a052c597fbb022bc0fa298d81afd);\n",
       "        \n",
       "    \n",
       "        var popup_189f15558565b31d92c326ad95825718 = L.popup({&quot;maxWidth&quot;: &quot;100%&quot;});\n",
       "\n",
       "        \n",
       "            \n",
       "                var html_40ee5d5b82ea6e8d4dbd463cbfb0748e = $(`&lt;div id=&quot;html_40ee5d5b82ea6e8d4dbd463cbfb0748e&quot; style=&quot;width: 100.0%; height: 100.0%;&quot;&gt;&lt;i&gt;43 Avenue de Clichy&lt;/i&gt;&lt;/div&gt;`)[0];\n",
       "                popup_189f15558565b31d92c326ad95825718.setContent(html_40ee5d5b82ea6e8d4dbd463cbfb0748e);\n",
       "            \n",
       "        \n",
       "\n",
       "        marker_e0858b8dc2c10a9a59449f45442ee23d.bindPopup(popup_189f15558565b31d92c326ad95825718)\n",
       "        ;\n",
       "\n",
       "        \n",
       "    \n",
       "    \n",
       "            var marker_d0fb9638ff933441efa4782269212c18 = L.marker(\n",
       "                [48.8813911, 2.3732117],\n",
       "                {}\n",
       "            ).addTo(map_bf12a052c597fbb022bc0fa298d81afd);\n",
       "        \n",
       "    \n",
       "        var popup_17657dbf3bf387e3042e50300c8bdb7e = L.popup({&quot;maxWidth&quot;: &quot;100%&quot;});\n",
       "\n",
       "        \n",
       "            \n",
       "                var html_25938222b948709b6aba2efb085ffae2 = $(`&lt;div id=&quot;html_25938222b948709b6aba2efb085ffae2&quot; style=&quot;width: 100.0%; height: 100.0%;&quot;&gt;&lt;i&gt;31 Avenue Secretan&lt;/i&gt;&lt;/div&gt;`)[0];\n",
       "                popup_17657dbf3bf387e3042e50300c8bdb7e.setContent(html_25938222b948709b6aba2efb085ffae2);\n",
       "            \n",
       "        \n",
       "\n",
       "        marker_d0fb9638ff933441efa4782269212c18.bindPopup(popup_17657dbf3bf387e3042e50300c8bdb7e)\n",
       "        ;\n",
       "\n",
       "        \n",
       "    \n",
       "    \n",
       "            var marker_32cf3c4ef255bd4ebaf7419362d5bea4 = L.marker(\n",
       "                [48.8646943, 2.3485383],\n",
       "                {}\n",
       "            ).addTo(map_bf12a052c597fbb022bc0fa298d81afd);\n",
       "        \n",
       "    \n",
       "        var popup_74c8dc3c49917258a2b4a0b8f8290c90 = L.popup({&quot;maxWidth&quot;: &quot;100%&quot;});\n",
       "\n",
       "        \n",
       "            \n",
       "                var html_c336f968ed2c857b2c53c4a21888aa38 = $(`&lt;div id=&quot;html_c336f968ed2c857b2c53c4a21888aa38&quot; style=&quot;width: 100.0%; height: 100.0%;&quot;&gt;&lt;i&gt;24 Rue Tiquetonne&lt;/i&gt;&lt;/div&gt;`)[0];\n",
       "                popup_74c8dc3c49917258a2b4a0b8f8290c90.setContent(html_c336f968ed2c857b2c53c4a21888aa38);\n",
       "            \n",
       "        \n",
       "\n",
       "        marker_32cf3c4ef255bd4ebaf7419362d5bea4.bindPopup(popup_74c8dc3c49917258a2b4a0b8f8290c90)\n",
       "        ;\n",
       "\n",
       "        \n",
       "    \n",
       "    \n",
       "            var marker_a05fedad64c715b45c57187f8bde33f8 = L.marker(\n",
       "                [48.8648771, 2.3515534],\n",
       "                {}\n",
       "            ).addTo(map_bf12a052c597fbb022bc0fa298d81afd);\n",
       "        \n",
       "    \n",
       "        var popup_9bd341fbc40609adb44f180b773c096d = L.popup({&quot;maxWidth&quot;: &quot;100%&quot;});\n",
       "\n",
       "        \n",
       "            \n",
       "                var html_9acb5f3abbcfe588d2bc53acfbf7a324 = $(`&lt;div id=&quot;html_9acb5f3abbcfe588d2bc53acfbf7a324&quot; style=&quot;width: 100.0%; height: 100.0%;&quot;&gt;&lt;i&gt;85 Boulevard de Sebastopol&lt;/i&gt;&lt;/div&gt;`)[0];\n",
       "                popup_9bd341fbc40609adb44f180b773c096d.setContent(html_9acb5f3abbcfe588d2bc53acfbf7a324);\n",
       "            \n",
       "        \n",
       "\n",
       "        marker_a05fedad64c715b45c57187f8bde33f8.bindPopup(popup_9bd341fbc40609adb44f180b773c096d)\n",
       "        ;\n",
       "\n",
       "        \n",
       "    \n",
       "    \n",
       "            var marker_9738b01cf15a9b4056a8ef4d1fc981de = L.marker(\n",
       "                [48.830242850000005, 2.355210601316469],\n",
       "                {}\n",
       "            ).addTo(map_bf12a052c597fbb022bc0fa298d81afd);\n",
       "        \n",
       "    \n",
       "        var popup_b9c274f0f33750717b9230757f06a1ee = L.popup({&quot;maxWidth&quot;: &quot;100%&quot;});\n",
       "\n",
       "        \n",
       "            \n",
       "                var html_7f551c77f2020558c283da5e7bc99f2d = $(`&lt;div id=&quot;html_7f551c77f2020558c283da5e7bc99f2d&quot; style=&quot;width: 100.0%; height: 100.0%;&quot;&gt;&lt;i&gt;30 Avenue d&#x27;Italie&lt;/i&gt;&lt;/div&gt;`)[0];\n",
       "                popup_b9c274f0f33750717b9230757f06a1ee.setContent(html_7f551c77f2020558c283da5e7bc99f2d);\n",
       "            \n",
       "        \n",
       "\n",
       "        marker_9738b01cf15a9b4056a8ef4d1fc981de.bindPopup(popup_b9c274f0f33750717b9230757f06a1ee)\n",
       "        ;\n",
       "\n",
       "        \n",
       "    \n",
       "    \n",
       "            var poly_line_a7ea4af6faad1bee796db040b947acec = L.polyline(\n",
       "                [[48.8428844, 2.2773907], [48.8540376, 2.2888741], [48.8721214, 2.3132623], [48.8685293, 2.3230081], [48.8851871, 2.3358188], [48.8869589, 2.3256654], [48.8813911, 2.3732117], [48.8646943, 2.3485383], [48.8648771, 2.3515534], [48.830242850000005, 2.355210601316469], [48.8428844, 2.2773907]],\n",
       "                {&quot;bubblingMouseEvents&quot;: true, &quot;color&quot;: &quot;blue&quot;, &quot;dashArray&quot;: null, &quot;dashOffset&quot;: null, &quot;fill&quot;: false, &quot;fillColor&quot;: &quot;blue&quot;, &quot;fillOpacity&quot;: 0.2, &quot;fillRule&quot;: &quot;evenodd&quot;, &quot;lineCap&quot;: &quot;round&quot;, &quot;lineJoin&quot;: &quot;round&quot;, &quot;noClip&quot;: false, &quot;opacity&quot;: 0.9, &quot;smoothFactor&quot;: 1.0, &quot;stroke&quot;: true, &quot;weight&quot;: 4}\n",
       "            ).addTo(map_bf12a052c597fbb022bc0fa298d81afd);\n",
       "        \n",
       "&lt;/script&gt;\n",
       "&lt;/html&gt;\" style=\"position:absolute;width:100%;height:100%;left:0;top:0;border:none !important;\" allowfullscreen webkitallowfullscreen mozallowfullscreen></iframe></div></div>"
      ],
      "text/plain": [
       "<folium.folium.Map at 0x23ca86ddb50>"
      ]
     },
     "execution_count": 28,
     "metadata": {},
     "output_type": "execute_result"
    }
   ],
   "source": [
    "m = folium.Map(location=cities_dict[best_road[0]], zoom_start=12, tiles=\"Stamen Terrain\")\n",
    "loc = []\n",
    "for el in best_road:\n",
    "  loc.append(cities_dict[el])\n",
    "  folium.Marker(\n",
    "      cities_dict[el], popup=f\"<i>{el}</i>\"\n",
    "  ).add_to(m)\n",
    "loc.append(cities_dict[best_road[0]])\n",
    "folium.PolyLine(loc,\n",
    "                color='blue',\n",
    "                weight=4,\n",
    "                opacity=0.9).add_to(m)\n",
    "m\n",
    "#m.save(\"heat_map.html\")"
   ]
  },
  {
   "cell_type": "code",
   "execution_count": 2,
   "metadata": {},
   "outputs": [],
   "source": [
    "import sys\n",
    "from PyQt5.QtCore import *\n",
    "from PyQt5.QtGui import *\n",
    "from PyQt5.QtWidgets import *\n",
    "class window(QWidget):\n",
    "   def __init__(self, parent = None):\n",
    "      super(window, self).__init__(parent)\n",
    "      self.resize(1800,800)\n",
    "      self.setWindowTitle(\"PyQt5\")\n",
    "      self.label = QLabel(self)\n",
    "      self.label.setText(\"Hello World\")\n",
    "      font = QFont()\n",
    "      font.setFamily(\"Arial\")\n",
    "      font.setPointSize(18)\n",
    "      self.label.setFont(font)\n",
    "      self.label.move(50,20)\n",
    "def main():\n",
    "    app = QApplication(sys.argv)\n",
    "    ex = window()\n",
    "    ex.show()\n",
    "    try:\n",
    "       sys.exit(app.exec_())\n",
    "    except:\n",
    "        pass\n",
    "if __name__ == '__main__':\n",
    "   main()"
   ]
  },
  {
   "cell_type": "code",
   "execution_count": 32,
   "metadata": {},
   "outputs": [
    {
     "ename": "AttributeError",
     "evalue": "'Map' object has no attribute 'foo'",
     "output_type": "error",
     "traceback": [
      "\u001b[1;31m---------------------------------------------------------------------------\u001b[0m",
      "\u001b[1;31mAttributeError\u001b[0m                            Traceback (most recent call last)",
      "Cell \u001b[1;32mIn [32], line 1\u001b[0m\n\u001b[1;32m----> 1\u001b[0m \u001b[43mm\u001b[49m\u001b[38;5;241;43m.\u001b[39;49m\u001b[43mfoo\u001b[49m()\n",
      "\u001b[1;31mAttributeError\u001b[0m: 'Map' object has no attribute 'foo'"
     ]
    }
   ],
   "source": [
    "m.foo()"
   ]
  },
  {
   "cell_type": "code",
   "execution_count": null,
   "metadata": {},
   "outputs": [],
   "source": []
  }
 ],
 "metadata": {
  "colab": {
   "provenance": []
  },
  "kernelspec": {
   "display_name": "Python 3 (ipykernel)",
   "language": "python",
   "name": "python3"
  },
  "language_info": {
   "codemirror_mode": {
    "name": "ipython",
    "version": 3
   },
   "file_extension": ".py",
   "mimetype": "text/x-python",
   "name": "python",
   "nbconvert_exporter": "python",
   "pygments_lexer": "ipython3",
   "version": "3.11.0"
  }
 },
 "nbformat": 4,
 "nbformat_minor": 4
}
